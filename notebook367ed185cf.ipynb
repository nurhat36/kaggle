{
 "cells": [
  {
   "cell_type": "code",
   "execution_count": 1,
   "id": "f9586652",
   "metadata": {
    "execution": {
     "iopub.execute_input": "2025-01-29T09:55:27.083192Z",
     "iopub.status.busy": "2025-01-29T09:55:27.082809Z",
     "iopub.status.idle": "2025-01-29T09:55:27.087546Z",
     "shell.execute_reply": "2025-01-29T09:55:27.086751Z"
    },
    "papermill": {
     "duration": 0.023153,
     "end_time": "2025-01-29T09:55:27.089241",
     "exception": false,
     "start_time": "2025-01-29T09:55:27.066088",
     "status": "completed"
    },
    "tags": []
   },
   "outputs": [],
   "source": [
    "import numpy as np"
   ]
  },
  {
   "cell_type": "code",
   "execution_count": 2,
   "id": "53de3f0e",
   "metadata": {
    "execution": {
     "iopub.execute_input": "2025-01-29T09:55:27.117474Z",
     "iopub.status.busy": "2025-01-29T09:55:27.117148Z",
     "iopub.status.idle": "2025-01-29T09:55:27.121092Z",
     "shell.execute_reply": "2025-01-29T09:55:27.120123Z"
    },
    "papermill": {
     "duration": 0.019571,
     "end_time": "2025-01-29T09:55:27.122649",
     "exception": false,
     "start_time": "2025-01-29T09:55:27.103078",
     "status": "completed"
    },
    "tags": []
   },
   "outputs": [],
   "source": [
    "my_list=[10,20,30,40]\n"
   ]
  },
  {
   "cell_type": "code",
   "execution_count": 3,
   "id": "c34c2bc2",
   "metadata": {
    "execution": {
     "iopub.execute_input": "2025-01-29T09:55:27.150300Z",
     "iopub.status.busy": "2025-01-29T09:55:27.149973Z",
     "iopub.status.idle": "2025-01-29T09:55:27.154450Z",
     "shell.execute_reply": "2025-01-29T09:55:27.153291Z"
    },
    "papermill": {
     "duration": 0.020505,
     "end_time": "2025-01-29T09:55:27.156413",
     "exception": false,
     "start_time": "2025-01-29T09:55:27.135908",
     "status": "completed"
    },
    "tags": []
   },
   "outputs": [],
   "source": [
    "my_numpy=np.array(my_list)"
   ]
  },
  {
   "cell_type": "code",
   "execution_count": 4,
   "id": "65fe179e",
   "metadata": {
    "execution": {
     "iopub.execute_input": "2025-01-29T09:55:27.184344Z",
     "iopub.status.busy": "2025-01-29T09:55:27.184015Z",
     "iopub.status.idle": "2025-01-29T09:55:27.190118Z",
     "shell.execute_reply": "2025-01-29T09:55:27.189104Z"
    },
    "papermill": {
     "duration": 0.021653,
     "end_time": "2025-01-29T09:55:27.191566",
     "exception": false,
     "start_time": "2025-01-29T09:55:27.169913",
     "status": "completed"
    },
    "tags": []
   },
   "outputs": [
    {
     "data": {
      "text/plain": [
       "10"
      ]
     },
     "execution_count": 4,
     "metadata": {},
     "output_type": "execute_result"
    }
   ],
   "source": [
    "my_list[0]"
   ]
  },
  {
   "cell_type": "code",
   "execution_count": 5,
   "id": "d3909f77",
   "metadata": {
    "execution": {
     "iopub.execute_input": "2025-01-29T09:55:27.220405Z",
     "iopub.status.busy": "2025-01-29T09:55:27.220039Z",
     "iopub.status.idle": "2025-01-29T09:55:27.224159Z",
     "shell.execute_reply": "2025-01-29T09:55:27.223097Z"
    },
    "papermill": {
     "duration": 0.020506,
     "end_time": "2025-01-29T09:55:27.225815",
     "exception": false,
     "start_time": "2025-01-29T09:55:27.205309",
     "status": "completed"
    },
    "tags": []
   },
   "outputs": [],
   "source": [
    "my_list[0]=100"
   ]
  },
  {
   "cell_type": "code",
   "execution_count": 6,
   "id": "dd8f583c",
   "metadata": {
    "execution": {
     "iopub.execute_input": "2025-01-29T09:55:27.253661Z",
     "iopub.status.busy": "2025-01-29T09:55:27.253346Z",
     "iopub.status.idle": "2025-01-29T09:55:27.258721Z",
     "shell.execute_reply": "2025-01-29T09:55:27.257902Z"
    },
    "papermill": {
     "duration": 0.020801,
     "end_time": "2025-01-29T09:55:27.260126",
     "exception": false,
     "start_time": "2025-01-29T09:55:27.239325",
     "status": "completed"
    },
    "tags": []
   },
   "outputs": [
    {
     "data": {
      "text/plain": [
       "[100, 20, 30, 40]"
      ]
     },
     "execution_count": 6,
     "metadata": {},
     "output_type": "execute_result"
    }
   ],
   "source": [
    "my_list"
   ]
  },
  {
   "cell_type": "code",
   "execution_count": 7,
   "id": "546c46f8",
   "metadata": {
    "execution": {
     "iopub.execute_input": "2025-01-29T09:55:27.288786Z",
     "iopub.status.busy": "2025-01-29T09:55:27.288451Z",
     "iopub.status.idle": "2025-01-29T09:55:27.293932Z",
     "shell.execute_reply": "2025-01-29T09:55:27.293026Z"
    },
    "papermill": {
     "duration": 0.021289,
     "end_time": "2025-01-29T09:55:27.295463",
     "exception": false,
     "start_time": "2025-01-29T09:55:27.274174",
     "status": "completed"
    },
    "tags": []
   },
   "outputs": [
    {
     "data": {
      "text/plain": [
       "25.0"
      ]
     },
     "execution_count": 7,
     "metadata": {},
     "output_type": "execute_result"
    }
   ],
   "source": [
    "my_numpy.mean()"
   ]
  },
  {
   "cell_type": "code",
   "execution_count": 8,
   "id": "96a8c87d",
   "metadata": {
    "execution": {
     "iopub.execute_input": "2025-01-29T09:55:27.324473Z",
     "iopub.status.busy": "2025-01-29T09:55:27.324169Z",
     "iopub.status.idle": "2025-01-29T09:55:27.329500Z",
     "shell.execute_reply": "2025-01-29T09:55:27.328656Z"
    },
    "papermill": {
     "duration": 0.021675,
     "end_time": "2025-01-29T09:55:27.331209",
     "exception": false,
     "start_time": "2025-01-29T09:55:27.309534",
     "status": "completed"
    },
    "tags": []
   },
   "outputs": [
    {
     "data": {
      "text/plain": [
       "list"
      ]
     },
     "execution_count": 8,
     "metadata": {},
     "output_type": "execute_result"
    }
   ],
   "source": [
    "type(my_list)"
   ]
  },
  {
   "cell_type": "code",
   "execution_count": 9,
   "id": "977c6d4a",
   "metadata": {
    "execution": {
     "iopub.execute_input": "2025-01-29T09:55:27.360125Z",
     "iopub.status.busy": "2025-01-29T09:55:27.359734Z",
     "iopub.status.idle": "2025-01-29T09:55:27.363908Z",
     "shell.execute_reply": "2025-01-29T09:55:27.362969Z"
    },
    "papermill": {
     "duration": 0.020283,
     "end_time": "2025-01-29T09:55:27.365433",
     "exception": false,
     "start_time": "2025-01-29T09:55:27.345150",
     "status": "completed"
    },
    "tags": []
   },
   "outputs": [],
   "source": [
    "matrix=[[1,0,0],[0,1,0],[0,0,1],[0,0,0]]\n"
   ]
  },
  {
   "cell_type": "code",
   "execution_count": 10,
   "id": "8e06b826",
   "metadata": {
    "execution": {
     "iopub.execute_input": "2025-01-29T09:55:27.394579Z",
     "iopub.status.busy": "2025-01-29T09:55:27.394264Z",
     "iopub.status.idle": "2025-01-29T09:55:27.398238Z",
     "shell.execute_reply": "2025-01-29T09:55:27.397219Z"
    },
    "papermill": {
     "duration": 0.020713,
     "end_time": "2025-01-29T09:55:27.400128",
     "exception": false,
     "start_time": "2025-01-29T09:55:27.379415",
     "status": "completed"
    },
    "tags": []
   },
   "outputs": [],
   "source": [
    "npmatrix=np.array(matrix)"
   ]
  },
  {
   "cell_type": "code",
   "execution_count": 11,
   "id": "ad688c09",
   "metadata": {
    "execution": {
     "iopub.execute_input": "2025-01-29T09:55:27.429210Z",
     "iopub.status.busy": "2025-01-29T09:55:27.428807Z",
     "iopub.status.idle": "2025-01-29T09:55:27.434107Z",
     "shell.execute_reply": "2025-01-29T09:55:27.433142Z"
    },
    "papermill": {
     "duration": 0.021394,
     "end_time": "2025-01-29T09:55:27.435550",
     "exception": false,
     "start_time": "2025-01-29T09:55:27.414156",
     "status": "completed"
    },
    "tags": []
   },
   "outputs": [
    {
     "data": {
      "text/plain": [
       "(4, 3)"
      ]
     },
     "execution_count": 11,
     "metadata": {},
     "output_type": "execute_result"
    }
   ],
   "source": [
    "npmatrix.shape"
   ]
  },
  {
   "cell_type": "code",
   "execution_count": 12,
   "id": "beaf3e75",
   "metadata": {
    "execution": {
     "iopub.execute_input": "2025-01-29T09:55:27.465459Z",
     "iopub.status.busy": "2025-01-29T09:55:27.465112Z",
     "iopub.status.idle": "2025-01-29T09:55:27.468948Z",
     "shell.execute_reply": "2025-01-29T09:55:27.467933Z"
    },
    "papermill": {
     "duration": 0.020766,
     "end_time": "2025-01-29T09:55:27.470476",
     "exception": false,
     "start_time": "2025-01-29T09:55:27.449710",
     "status": "completed"
    },
    "tags": []
   },
   "outputs": [],
   "source": [
    "#arange"
   ]
  },
  {
   "cell_type": "code",
   "execution_count": 13,
   "id": "78fbd127",
   "metadata": {
    "execution": {
     "iopub.execute_input": "2025-01-29T09:55:27.501750Z",
     "iopub.status.busy": "2025-01-29T09:55:27.501387Z",
     "iopub.status.idle": "2025-01-29T09:55:27.506945Z",
     "shell.execute_reply": "2025-01-29T09:55:27.505957Z"
    },
    "papermill": {
     "duration": 0.022631,
     "end_time": "2025-01-29T09:55:27.508553",
     "exception": false,
     "start_time": "2025-01-29T09:55:27.485922",
     "status": "completed"
    },
    "tags": []
   },
   "outputs": [
    {
     "data": {
      "text/plain": [
       "range(0, 10)"
      ]
     },
     "execution_count": 13,
     "metadata": {},
     "output_type": "execute_result"
    }
   ],
   "source": [
    "range(0,10)"
   ]
  },
  {
   "cell_type": "code",
   "execution_count": 14,
   "id": "40c57caf",
   "metadata": {
    "execution": {
     "iopub.execute_input": "2025-01-29T09:55:27.538354Z",
     "iopub.status.busy": "2025-01-29T09:55:27.538023Z",
     "iopub.status.idle": "2025-01-29T09:55:27.545163Z",
     "shell.execute_reply": "2025-01-29T09:55:27.544167Z"
    },
    "papermill": {
     "duration": 0.024052,
     "end_time": "2025-01-29T09:55:27.546859",
     "exception": false,
     "start_time": "2025-01-29T09:55:27.522807",
     "status": "completed"
    },
    "tags": []
   },
   "outputs": [
    {
     "data": {
      "text/plain": [
       "array([0, 1, 2, 3, 4, 5, 6, 7, 8, 9])"
      ]
     },
     "execution_count": 14,
     "metadata": {},
     "output_type": "execute_result"
    }
   ],
   "source": [
    "np.arange(0,10)"
   ]
  },
  {
   "cell_type": "code",
   "execution_count": 15,
   "id": "c17d36b6",
   "metadata": {
    "execution": {
     "iopub.execute_input": "2025-01-29T09:55:27.577314Z",
     "iopub.status.busy": "2025-01-29T09:55:27.576964Z",
     "iopub.status.idle": "2025-01-29T09:55:27.582622Z",
     "shell.execute_reply": "2025-01-29T09:55:27.581595Z"
    },
    "papermill": {
     "duration": 0.023035,
     "end_time": "2025-01-29T09:55:27.584319",
     "exception": false,
     "start_time": "2025-01-29T09:55:27.561284",
     "status": "completed"
    },
    "tags": []
   },
   "outputs": [
    {
     "data": {
      "text/plain": [
       "array([ 0,  3,  6,  9, 12, 15, 18, 21, 24, 27])"
      ]
     },
     "execution_count": 15,
     "metadata": {},
     "output_type": "execute_result"
    }
   ],
   "source": [
    "np.arange(0,30,3)"
   ]
  },
  {
   "cell_type": "code",
   "execution_count": 16,
   "id": "bd786912",
   "metadata": {
    "execution": {
     "iopub.execute_input": "2025-01-29T09:55:27.614427Z",
     "iopub.status.busy": "2025-01-29T09:55:27.614109Z",
     "iopub.status.idle": "2025-01-29T09:55:27.619892Z",
     "shell.execute_reply": "2025-01-29T09:55:27.618972Z"
    },
    "papermill": {
     "duration": 0.02246,
     "end_time": "2025-01-29T09:55:27.621357",
     "exception": false,
     "start_time": "2025-01-29T09:55:27.598897",
     "status": "completed"
    },
    "tags": []
   },
   "outputs": [
    {
     "data": {
      "text/plain": [
       "array([0., 0., 0., 0., 0., 0., 0., 0., 0., 0.])"
      ]
     },
     "execution_count": 16,
     "metadata": {},
     "output_type": "execute_result"
    }
   ],
   "source": [
    "np.zeros(10)"
   ]
  },
  {
   "cell_type": "code",
   "execution_count": 17,
   "id": "dff3ccfa",
   "metadata": {
    "execution": {
     "iopub.execute_input": "2025-01-29T09:55:27.651441Z",
     "iopub.status.busy": "2025-01-29T09:55:27.651116Z",
     "iopub.status.idle": "2025-01-29T09:55:27.657044Z",
     "shell.execute_reply": "2025-01-29T09:55:27.656176Z"
    },
    "papermill": {
     "duration": 0.022632,
     "end_time": "2025-01-29T09:55:27.658534",
     "exception": false,
     "start_time": "2025-01-29T09:55:27.635902",
     "status": "completed"
    },
    "tags": []
   },
   "outputs": [
    {
     "data": {
      "text/plain": [
       "array([[0., 0., 0., 0., 0., 0., 0., 0., 0., 0.],\n",
       "       [0., 0., 0., 0., 0., 0., 0., 0., 0., 0.],\n",
       "       [0., 0., 0., 0., 0., 0., 0., 0., 0., 0.],\n",
       "       [0., 0., 0., 0., 0., 0., 0., 0., 0., 0.],\n",
       "       [0., 0., 0., 0., 0., 0., 0., 0., 0., 0.],\n",
       "       [0., 0., 0., 0., 0., 0., 0., 0., 0., 0.],\n",
       "       [0., 0., 0., 0., 0., 0., 0., 0., 0., 0.],\n",
       "       [0., 0., 0., 0., 0., 0., 0., 0., 0., 0.],\n",
       "       [0., 0., 0., 0., 0., 0., 0., 0., 0., 0.],\n",
       "       [0., 0., 0., 0., 0., 0., 0., 0., 0., 0.]])"
      ]
     },
     "execution_count": 17,
     "metadata": {},
     "output_type": "execute_result"
    }
   ],
   "source": [
    "np.zeros((10,10))"
   ]
  },
  {
   "cell_type": "code",
   "execution_count": 18,
   "id": "55220a7a",
   "metadata": {
    "execution": {
     "iopub.execute_input": "2025-01-29T09:55:27.688730Z",
     "iopub.status.busy": "2025-01-29T09:55:27.688378Z",
     "iopub.status.idle": "2025-01-29T09:55:27.692025Z",
     "shell.execute_reply": "2025-01-29T09:55:27.691174Z"
    },
    "papermill": {
     "duration": 0.020343,
     "end_time": "2025-01-29T09:55:27.693502",
     "exception": false,
     "start_time": "2025-01-29T09:55:27.673159",
     "status": "completed"
    },
    "tags": []
   },
   "outputs": [],
   "source": [
    "#linspace"
   ]
  },
  {
   "cell_type": "code",
   "execution_count": 19,
   "id": "15047970",
   "metadata": {
    "execution": {
     "iopub.execute_input": "2025-01-29T09:55:27.724747Z",
     "iopub.status.busy": "2025-01-29T09:55:27.724423Z",
     "iopub.status.idle": "2025-01-29T09:55:27.728595Z",
     "shell.execute_reply": "2025-01-29T09:55:27.727712Z"
    },
    "papermill": {
     "duration": 0.0211,
     "end_time": "2025-01-29T09:55:27.730098",
     "exception": false,
     "start_time": "2025-01-29T09:55:27.708998",
     "status": "completed"
    },
    "tags": []
   },
   "outputs": [],
   "source": [
    "my_list2=np.linspace(1,100,100)"
   ]
  },
  {
   "cell_type": "code",
   "execution_count": 20,
   "id": "6d75525d",
   "metadata": {
    "execution": {
     "iopub.execute_input": "2025-01-29T09:55:27.760626Z",
     "iopub.status.busy": "2025-01-29T09:55:27.760308Z",
     "iopub.status.idle": "2025-01-29T09:55:27.767514Z",
     "shell.execute_reply": "2025-01-29T09:55:27.766699Z"
    },
    "papermill": {
     "duration": 0.024256,
     "end_time": "2025-01-29T09:55:27.769014",
     "exception": false,
     "start_time": "2025-01-29T09:55:27.744758",
     "status": "completed"
    },
    "tags": []
   },
   "outputs": [
    {
     "data": {
      "text/plain": [
       "array([1, 7, 3])"
      ]
     },
     "execution_count": 20,
     "metadata": {},
     "output_type": "execute_result"
    }
   ],
   "source": [
    "np.random.randint(1,9,3)"
   ]
  },
  {
   "cell_type": "code",
   "execution_count": 21,
   "id": "7d937ba0",
   "metadata": {
    "execution": {
     "iopub.execute_input": "2025-01-29T09:55:27.799708Z",
     "iopub.status.busy": "2025-01-29T09:55:27.799366Z",
     "iopub.status.idle": "2025-01-29T09:55:27.803181Z",
     "shell.execute_reply": "2025-01-29T09:55:27.802268Z"
    },
    "papermill": {
     "duration": 0.020614,
     "end_time": "2025-01-29T09:55:27.804587",
     "exception": false,
     "start_time": "2025-01-29T09:55:27.783973",
     "status": "completed"
    },
    "tags": []
   },
   "outputs": [],
   "source": [
    "my_list2[4:9:2]=10"
   ]
  },
  {
   "cell_type": "code",
   "execution_count": 22,
   "id": "91cab8c9",
   "metadata": {
    "execution": {
     "iopub.execute_input": "2025-01-29T09:55:27.888812Z",
     "iopub.status.busy": "2025-01-29T09:55:27.888486Z",
     "iopub.status.idle": "2025-01-29T09:55:27.894338Z",
     "shell.execute_reply": "2025-01-29T09:55:27.893415Z"
    },
    "papermill": {
     "duration": 0.076318,
     "end_time": "2025-01-29T09:55:27.895817",
     "exception": false,
     "start_time": "2025-01-29T09:55:27.819499",
     "status": "completed"
    },
    "tags": []
   },
   "outputs": [
    {
     "data": {
      "text/plain": [
       "array([  1.,   2.,   3.,   4.,  10.,   6.,  10.,   8.,  10.,  10.,  11.,\n",
       "        12.,  13.,  14.,  15.,  16.,  17.,  18.,  19.,  20.,  21.,  22.,\n",
       "        23.,  24.,  25.,  26.,  27.,  28.,  29.,  30.,  31.,  32.,  33.,\n",
       "        34.,  35.,  36.,  37.,  38.,  39.,  40.,  41.,  42.,  43.,  44.,\n",
       "        45.,  46.,  47.,  48.,  49.,  50.,  51.,  52.,  53.,  54.,  55.,\n",
       "        56.,  57.,  58.,  59.,  60.,  61.,  62.,  63.,  64.,  65.,  66.,\n",
       "        67.,  68.,  69.,  70.,  71.,  72.,  73.,  74.,  75.,  76.,  77.,\n",
       "        78.,  79.,  80.,  81.,  82.,  83.,  84.,  85.,  86.,  87.,  88.,\n",
       "        89.,  90.,  91.,  92.,  93.,  94.,  95.,  96.,  97.,  98.,  99.,\n",
       "       100.])"
      ]
     },
     "execution_count": 22,
     "metadata": {},
     "output_type": "execute_result"
    }
   ],
   "source": [
    "my_list2"
   ]
  },
  {
   "cell_type": "code",
   "execution_count": 23,
   "id": "a2ec3200",
   "metadata": {
    "execution": {
     "iopub.execute_input": "2025-01-29T09:55:27.927360Z",
     "iopub.status.busy": "2025-01-29T09:55:27.927034Z",
     "iopub.status.idle": "2025-01-29T09:55:27.931078Z",
     "shell.execute_reply": "2025-01-29T09:55:27.929944Z"
    },
    "papermill": {
     "duration": 0.021504,
     "end_time": "2025-01-29T09:55:27.932579",
     "exception": false,
     "start_time": "2025-01-29T09:55:27.911075",
     "status": "completed"
    },
    "tags": []
   },
   "outputs": [],
   "source": [
    "my_list2[:]=100"
   ]
  },
  {
   "cell_type": "code",
   "execution_count": 24,
   "id": "eec8d73f",
   "metadata": {
    "execution": {
     "iopub.execute_input": "2025-01-29T09:55:27.964525Z",
     "iopub.status.busy": "2025-01-29T09:55:27.964209Z",
     "iopub.status.idle": "2025-01-29T09:55:27.970449Z",
     "shell.execute_reply": "2025-01-29T09:55:27.969412Z"
    },
    "papermill": {
     "duration": 0.024103,
     "end_time": "2025-01-29T09:55:27.972096",
     "exception": false,
     "start_time": "2025-01-29T09:55:27.947993",
     "status": "completed"
    },
    "tags": []
   },
   "outputs": [
    {
     "data": {
      "text/plain": [
       "array([100., 100., 100., 100., 100., 100., 100., 100., 100., 100., 100.,\n",
       "       100., 100., 100., 100., 100., 100., 100., 100., 100., 100., 100.,\n",
       "       100., 100., 100., 100., 100., 100., 100., 100., 100., 100., 100.,\n",
       "       100., 100., 100., 100., 100., 100., 100., 100., 100., 100., 100.,\n",
       "       100., 100., 100., 100., 100., 100., 100., 100., 100., 100., 100.,\n",
       "       100., 100., 100., 100., 100., 100., 100., 100., 100., 100., 100.,\n",
       "       100., 100., 100., 100., 100., 100., 100., 100., 100., 100., 100.,\n",
       "       100., 100., 100., 100., 100., 100., 100., 100., 100., 100., 100.,\n",
       "       100., 100., 100., 100., 100., 100., 100., 100., 100., 100., 100.,\n",
       "       100.])"
      ]
     },
     "execution_count": 24,
     "metadata": {},
     "output_type": "execute_result"
    }
   ],
   "source": [
    "my_list2"
   ]
  },
  {
   "cell_type": "code",
   "execution_count": 25,
   "id": "4fdb1496",
   "metadata": {
    "execution": {
     "iopub.execute_input": "2025-01-29T09:55:28.004157Z",
     "iopub.status.busy": "2025-01-29T09:55:28.003778Z",
     "iopub.status.idle": "2025-01-29T09:55:28.007432Z",
     "shell.execute_reply": "2025-01-29T09:55:28.006565Z"
    },
    "papermill": {
     "duration": 0.021616,
     "end_time": "2025-01-29T09:55:28.009031",
     "exception": false,
     "start_time": "2025-01-29T09:55:27.987415",
     "status": "completed"
    },
    "tags": []
   },
   "outputs": [],
   "source": [
    "my_list3=my_list2[2:9]"
   ]
  },
  {
   "cell_type": "code",
   "execution_count": 26,
   "id": "afb316d0",
   "metadata": {
    "execution": {
     "iopub.execute_input": "2025-01-29T09:55:28.041939Z",
     "iopub.status.busy": "2025-01-29T09:55:28.041533Z",
     "iopub.status.idle": "2025-01-29T09:55:28.045495Z",
     "shell.execute_reply": "2025-01-29T09:55:28.044635Z"
    },
    "papermill": {
     "duration": 0.022517,
     "end_time": "2025-01-29T09:55:28.047124",
     "exception": false,
     "start_time": "2025-01-29T09:55:28.024607",
     "status": "completed"
    },
    "tags": []
   },
   "outputs": [],
   "source": [
    "my_list3[:]=8"
   ]
  },
  {
   "cell_type": "code",
   "execution_count": 27,
   "id": "99c2be39",
   "metadata": {
    "execution": {
     "iopub.execute_input": "2025-01-29T09:55:28.079525Z",
     "iopub.status.busy": "2025-01-29T09:55:28.079217Z",
     "iopub.status.idle": "2025-01-29T09:55:28.085519Z",
     "shell.execute_reply": "2025-01-29T09:55:28.084492Z"
    },
    "papermill": {
     "duration": 0.024504,
     "end_time": "2025-01-29T09:55:28.087113",
     "exception": false,
     "start_time": "2025-01-29T09:55:28.062609",
     "status": "completed"
    },
    "tags": []
   },
   "outputs": [
    {
     "data": {
      "text/plain": [
       "array([100., 100.,   8.,   8.,   8.,   8.,   8.,   8.,   8., 100., 100.,\n",
       "       100., 100., 100., 100., 100., 100., 100., 100., 100., 100., 100.,\n",
       "       100., 100., 100., 100., 100., 100., 100., 100., 100., 100., 100.,\n",
       "       100., 100., 100., 100., 100., 100., 100., 100., 100., 100., 100.,\n",
       "       100., 100., 100., 100., 100., 100., 100., 100., 100., 100., 100.,\n",
       "       100., 100., 100., 100., 100., 100., 100., 100., 100., 100., 100.,\n",
       "       100., 100., 100., 100., 100., 100., 100., 100., 100., 100., 100.,\n",
       "       100., 100., 100., 100., 100., 100., 100., 100., 100., 100., 100.,\n",
       "       100., 100., 100., 100., 100., 100., 100., 100., 100., 100., 100.,\n",
       "       100.])"
      ]
     },
     "execution_count": 27,
     "metadata": {},
     "output_type": "execute_result"
    }
   ],
   "source": [
    "my_list2"
   ]
  },
  {
   "cell_type": "code",
   "execution_count": 28,
   "id": "563335ef",
   "metadata": {
    "execution": {
     "iopub.execute_input": "2025-01-29T09:55:28.119700Z",
     "iopub.status.busy": "2025-01-29T09:55:28.119295Z",
     "iopub.status.idle": "2025-01-29T09:55:28.123742Z",
     "shell.execute_reply": "2025-01-29T09:55:28.122548Z"
    },
    "papermill": {
     "duration": 0.022901,
     "end_time": "2025-01-29T09:55:28.125790",
     "exception": false,
     "start_time": "2025-01-29T09:55:28.102889",
     "status": "completed"
    },
    "tags": []
   },
   "outputs": [],
   "source": [
    "new_array=np.random.randint(1,150,25)"
   ]
  },
  {
   "cell_type": "code",
   "execution_count": 29,
   "id": "7198e475",
   "metadata": {
    "execution": {
     "iopub.execute_input": "2025-01-29T09:55:28.159112Z",
     "iopub.status.busy": "2025-01-29T09:55:28.158684Z",
     "iopub.status.idle": "2025-01-29T09:55:28.164671Z",
     "shell.execute_reply": "2025-01-29T09:55:28.163665Z"
    },
    "papermill": {
     "duration": 0.024183,
     "end_time": "2025-01-29T09:55:28.166376",
     "exception": false,
     "start_time": "2025-01-29T09:55:28.142193",
     "status": "completed"
    },
    "tags": []
   },
   "outputs": [
    {
     "data": {
      "text/plain": [
       "array([ 24, 128,  23,  43,  12, 106,  19,  73,  38,  34,  22,  13,  73,\n",
       "       127, 118,  69,  74,  10, 144, 119,  87, 129, 111,   7, 141])"
      ]
     },
     "execution_count": 29,
     "metadata": {},
     "output_type": "execute_result"
    }
   ],
   "source": [
    "new_array"
   ]
  },
  {
   "cell_type": "code",
   "execution_count": 30,
   "id": "09a15bc5",
   "metadata": {
    "execution": {
     "iopub.execute_input": "2025-01-29T09:55:28.200310Z",
     "iopub.status.busy": "2025-01-29T09:55:28.199988Z",
     "iopub.status.idle": "2025-01-29T09:55:28.207211Z",
     "shell.execute_reply": "2025-01-29T09:55:28.206376Z"
    },
    "papermill": {
     "duration": 0.025939,
     "end_time": "2025-01-29T09:55:28.208573",
     "exception": false,
     "start_time": "2025-01-29T09:55:28.182634",
     "status": "completed"
    },
    "tags": []
   },
   "outputs": [
    {
     "data": {
      "text/plain": [
       "array([False,  True, False, False, False,  True, False,  True, False,\n",
       "       False, False, False,  True,  True,  True,  True,  True, False,\n",
       "        True,  True,  True,  True,  True, False,  True])"
      ]
     },
     "execution_count": 30,
     "metadata": {},
     "output_type": "execute_result"
    }
   ],
   "source": [
    "new_array>50"
   ]
  },
  {
   "cell_type": "code",
   "execution_count": 31,
   "id": "c20dcfb6",
   "metadata": {
    "execution": {
     "iopub.execute_input": "2025-01-29T09:55:28.241652Z",
     "iopub.status.busy": "2025-01-29T09:55:28.241307Z",
     "iopub.status.idle": "2025-01-29T09:55:28.245443Z",
     "shell.execute_reply": "2025-01-29T09:55:28.244441Z"
    },
    "papermill": {
     "duration": 0.022428,
     "end_time": "2025-01-29T09:55:28.247050",
     "exception": false,
     "start_time": "2025-01-29T09:55:28.224622",
     "status": "completed"
    },
    "tags": []
   },
   "outputs": [],
   "source": [
    "result_array=new_array>50"
   ]
  },
  {
   "cell_type": "code",
   "execution_count": 32,
   "id": "8b88d45a",
   "metadata": {
    "execution": {
     "iopub.execute_input": "2025-01-29T09:55:28.280413Z",
     "iopub.status.busy": "2025-01-29T09:55:28.280092Z",
     "iopub.status.idle": "2025-01-29T09:55:28.285492Z",
     "shell.execute_reply": "2025-01-29T09:55:28.284630Z"
    },
    "papermill": {
     "duration": 0.024042,
     "end_time": "2025-01-29T09:55:28.287192",
     "exception": false,
     "start_time": "2025-01-29T09:55:28.263150",
     "status": "completed"
    },
    "tags": []
   },
   "outputs": [
    {
     "data": {
      "text/plain": [
       "array([False,  True, False, False, False,  True, False,  True, False,\n",
       "       False, False, False,  True,  True,  True,  True,  True, False,\n",
       "        True,  True,  True,  True,  True, False,  True])"
      ]
     },
     "execution_count": 32,
     "metadata": {},
     "output_type": "execute_result"
    }
   ],
   "source": [
    "result_array"
   ]
  },
  {
   "cell_type": "code",
   "execution_count": 33,
   "id": "80d066c4",
   "metadata": {
    "execution": {
     "iopub.execute_input": "2025-01-29T09:55:28.320333Z",
     "iopub.status.busy": "2025-01-29T09:55:28.319985Z",
     "iopub.status.idle": "2025-01-29T09:55:28.325429Z",
     "shell.execute_reply": "2025-01-29T09:55:28.324465Z"
    },
    "papermill": {
     "duration": 0.023716,
     "end_time": "2025-01-29T09:55:28.326943",
     "exception": false,
     "start_time": "2025-01-29T09:55:28.303227",
     "status": "completed"
    },
    "tags": []
   },
   "outputs": [
    {
     "data": {
      "text/plain": [
       "array([128, 106,  73,  73, 127, 118,  69,  74, 144, 119,  87, 129, 111,\n",
       "       141])"
      ]
     },
     "execution_count": 33,
     "metadata": {},
     "output_type": "execute_result"
    }
   ],
   "source": [
    "new_array[new_array>50]\n",
    "new_array[result_array]"
   ]
  },
  {
   "cell_type": "code",
   "execution_count": 34,
   "id": "206a248b",
   "metadata": {
    "execution": {
     "iopub.execute_input": "2025-01-29T09:55:28.360498Z",
     "iopub.status.busy": "2025-01-29T09:55:28.360175Z",
     "iopub.status.idle": "2025-01-29T09:55:28.365701Z",
     "shell.execute_reply": "2025-01-29T09:55:28.364862Z"
    },
    "papermill": {
     "duration": 0.024027,
     "end_time": "2025-01-29T09:55:28.367208",
     "exception": false,
     "start_time": "2025-01-29T09:55:28.343181",
     "status": "completed"
    },
    "tags": []
   },
   "outputs": [
    {
     "data": {
      "text/plain": [
       "69.76"
      ]
     },
     "execution_count": 34,
     "metadata": {},
     "output_type": "execute_result"
    }
   ],
   "source": [
    "new_array.mean()"
   ]
  },
  {
   "cell_type": "code",
   "execution_count": 35,
   "id": "a425bd4b",
   "metadata": {
    "execution": {
     "iopub.execute_input": "2025-01-29T09:55:28.400647Z",
     "iopub.status.busy": "2025-01-29T09:55:28.400314Z",
     "iopub.status.idle": "2025-01-29T09:55:28.404156Z",
     "shell.execute_reply": "2025-01-29T09:55:28.403198Z"
    },
    "papermill": {
     "duration": 0.022369,
     "end_time": "2025-01-29T09:55:28.405668",
     "exception": false,
     "start_time": "2025-01-29T09:55:28.383299",
     "status": "completed"
    },
    "tags": []
   },
   "outputs": [],
   "source": [
    "lost_array=np.arange(0,30)"
   ]
  },
  {
   "cell_type": "code",
   "execution_count": 36,
   "id": "17d49843",
   "metadata": {
    "execution": {
     "iopub.execute_input": "2025-01-29T09:55:28.439889Z",
     "iopub.status.busy": "2025-01-29T09:55:28.439462Z",
     "iopub.status.idle": "2025-01-29T09:55:28.445633Z",
     "shell.execute_reply": "2025-01-29T09:55:28.444702Z"
    },
    "papermill": {
     "duration": 0.02513,
     "end_time": "2025-01-29T09:55:28.447324",
     "exception": false,
     "start_time": "2025-01-29T09:55:28.422194",
     "status": "completed"
    },
    "tags": []
   },
   "outputs": [
    {
     "data": {
      "text/plain": [
       "array([ 0,  1,  2,  3,  4,  5,  6,  7,  8,  9, 10, 11, 12, 13, 14, 15, 16,\n",
       "       17, 18, 19, 20, 21, 22, 23, 24, 25, 26, 27, 28, 29])"
      ]
     },
     "execution_count": 36,
     "metadata": {},
     "output_type": "execute_result"
    }
   ],
   "source": [
    "lost_array"
   ]
  },
  {
   "cell_type": "code",
   "execution_count": 37,
   "id": "e279a2f3",
   "metadata": {
    "execution": {
     "iopub.execute_input": "2025-01-29T09:55:28.482154Z",
     "iopub.status.busy": "2025-01-29T09:55:28.481780Z",
     "iopub.status.idle": "2025-01-29T09:55:28.487895Z",
     "shell.execute_reply": "2025-01-29T09:55:28.486464Z"
    },
    "papermill": {
     "duration": 0.025521,
     "end_time": "2025-01-29T09:55:28.489799",
     "exception": false,
     "start_time": "2025-01-29T09:55:28.464278",
     "status": "completed"
    },
    "tags": []
   },
   "outputs": [
    {
     "data": {
      "text/plain": [
       "array([ 0,  2,  4,  6,  8, 10, 12, 14, 16, 18, 20, 22, 24, 26, 28, 30, 32,\n",
       "       34, 36, 38, 40, 42, 44, 46, 48, 50, 52, 54, 56, 58])"
      ]
     },
     "execution_count": 37,
     "metadata": {},
     "output_type": "execute_result"
    }
   ],
   "source": [
    "lost_array+lost_array\n"
   ]
  },
  {
   "cell_type": "code",
   "execution_count": 38,
   "id": "e8305300",
   "metadata": {
    "execution": {
     "iopub.execute_input": "2025-01-29T09:55:28.524758Z",
     "iopub.status.busy": "2025-01-29T09:55:28.524391Z",
     "iopub.status.idle": "2025-01-29T09:55:28.530011Z",
     "shell.execute_reply": "2025-01-29T09:55:28.529153Z"
    },
    "papermill": {
     "duration": 0.024604,
     "end_time": "2025-01-29T09:55:28.531490",
     "exception": false,
     "start_time": "2025-01-29T09:55:28.506886",
     "status": "completed"
    },
    "tags": []
   },
   "outputs": [
    {
     "data": {
      "text/plain": [
       "array([  0,   1,   4,   9,  16,  25,  36,  49,  64,  81, 100, 121, 144,\n",
       "       169, 196, 225, 256, 289, 324, 361, 400, 441, 484, 529, 576, 625,\n",
       "       676, 729, 784, 841])"
      ]
     },
     "execution_count": 38,
     "metadata": {},
     "output_type": "execute_result"
    }
   ],
   "source": [
    "lost_array*lost_array"
   ]
  },
  {
   "cell_type": "code",
   "execution_count": 39,
   "id": "81132172",
   "metadata": {
    "execution": {
     "iopub.execute_input": "2025-01-29T09:55:28.566051Z",
     "iopub.status.busy": "2025-01-29T09:55:28.565667Z",
     "iopub.status.idle": "2025-01-29T09:55:28.571383Z",
     "shell.execute_reply": "2025-01-29T09:55:28.570373Z"
    },
    "papermill": {
     "duration": 0.024894,
     "end_time": "2025-01-29T09:55:28.573178",
     "exception": false,
     "start_time": "2025-01-29T09:55:28.548284",
     "status": "completed"
    },
    "tags": []
   },
   "outputs": [
    {
     "data": {
      "text/plain": [
       "29"
      ]
     },
     "execution_count": 39,
     "metadata": {},
     "output_type": "execute_result"
    }
   ],
   "source": [
    "lost_array.max()"
   ]
  },
  {
   "cell_type": "code",
   "execution_count": 40,
   "id": "f68b9a30",
   "metadata": {
    "execution": {
     "iopub.execute_input": "2025-01-29T09:55:28.608472Z",
     "iopub.status.busy": "2025-01-29T09:55:28.608157Z",
     "iopub.status.idle": "2025-01-29T09:55:28.613557Z",
     "shell.execute_reply": "2025-01-29T09:55:28.612776Z"
    },
    "papermill": {
     "duration": 0.025205,
     "end_time": "2025-01-29T09:55:28.615370",
     "exception": false,
     "start_time": "2025-01-29T09:55:28.590165",
     "status": "completed"
    },
    "tags": []
   },
   "outputs": [
    {
     "data": {
      "text/plain": [
       "29"
      ]
     },
     "execution_count": 40,
     "metadata": {},
     "output_type": "execute_result"
    }
   ],
   "source": [
    "np.max(lost_array)"
   ]
  },
  {
   "cell_type": "code",
   "execution_count": 41,
   "id": "aee5ae5f",
   "metadata": {
    "execution": {
     "iopub.execute_input": "2025-01-29T09:55:28.650462Z",
     "iopub.status.busy": "2025-01-29T09:55:28.650145Z",
     "iopub.status.idle": "2025-01-29T09:55:28.656049Z",
     "shell.execute_reply": "2025-01-29T09:55:28.655059Z"
    },
    "papermill": {
     "duration": 0.025337,
     "end_time": "2025-01-29T09:55:28.657599",
     "exception": false,
     "start_time": "2025-01-29T09:55:28.632262",
     "status": "completed"
    },
    "tags": []
   },
   "outputs": [
    {
     "data": {
      "text/plain": [
       "array([0.        , 1.        , 1.41421356, 1.73205081, 2.        ,\n",
       "       2.23606798, 2.44948974, 2.64575131, 2.82842712, 3.        ,\n",
       "       3.16227766, 3.31662479, 3.46410162, 3.60555128, 3.74165739,\n",
       "       3.87298335, 4.        , 4.12310563, 4.24264069, 4.35889894,\n",
       "       4.47213595, 4.58257569, 4.69041576, 4.79583152, 4.89897949,\n",
       "       5.        , 5.09901951, 5.19615242, 5.29150262, 5.38516481])"
      ]
     },
     "execution_count": 41,
     "metadata": {},
     "output_type": "execute_result"
    }
   ],
   "source": [
    "np.sqrt(lost_array)"
   ]
  },
  {
   "cell_type": "code",
   "execution_count": 42,
   "id": "61268517",
   "metadata": {
    "execution": {
     "iopub.execute_input": "2025-01-29T09:55:28.692875Z",
     "iopub.status.busy": "2025-01-29T09:55:28.692516Z",
     "iopub.status.idle": "2025-01-29T09:55:28.696044Z",
     "shell.execute_reply": "2025-01-29T09:55:28.695280Z"
    },
    "papermill": {
     "duration": 0.022746,
     "end_time": "2025-01-29T09:55:28.697422",
     "exception": false,
     "start_time": "2025-01-29T09:55:28.674676",
     "status": "completed"
    },
    "tags": []
   },
   "outputs": [],
   "source": [
    "#pandas"
   ]
  },
  {
   "cell_type": "markdown",
   "id": "04c48ff1",
   "metadata": {
    "papermill": {
     "duration": 0.016597,
     "end_time": "2025-01-29T09:55:28.731155",
     "exception": false,
     "start_time": "2025-01-29T09:55:28.714558",
     "status": "completed"
    },
    "tags": []
   },
   "source": [
    "import pandas"
   ]
  },
  {
   "cell_type": "markdown",
   "id": "7d186dda",
   "metadata": {
    "papermill": {
     "duration": 0.016556,
     "end_time": "2025-01-29T09:55:28.764807",
     "exception": false,
     "start_time": "2025-01-29T09:55:28.748251",
     "status": "completed"
    },
    "tags": []
   },
   "source": []
  },
  {
   "cell_type": "code",
   "execution_count": 43,
   "id": "b1da2c45",
   "metadata": {
    "execution": {
     "iopub.execute_input": "2025-01-29T09:55:28.799893Z",
     "iopub.status.busy": "2025-01-29T09:55:28.799501Z",
     "iopub.status.idle": "2025-01-29T09:55:29.747159Z",
     "shell.execute_reply": "2025-01-29T09:55:29.746273Z"
    },
    "papermill": {
     "duration": 0.967079,
     "end_time": "2025-01-29T09:55:29.748860",
     "exception": false,
     "start_time": "2025-01-29T09:55:28.781781",
     "status": "completed"
    },
    "tags": []
   },
   "outputs": [],
   "source": [
    "import pandas as pd"
   ]
  },
  {
   "cell_type": "code",
   "execution_count": 44,
   "id": "cac9e76c",
   "metadata": {
    "execution": {
     "iopub.execute_input": "2025-01-29T09:55:29.790334Z",
     "iopub.status.busy": "2025-01-29T09:55:29.789554Z",
     "iopub.status.idle": "2025-01-29T09:55:29.794740Z",
     "shell.execute_reply": "2025-01-29T09:55:29.793610Z"
    },
    "papermill": {
     "duration": 0.030841,
     "end_time": "2025-01-29T09:55:29.796956",
     "exception": false,
     "start_time": "2025-01-29T09:55:29.766115",
     "status": "completed"
    },
    "tags": []
   },
   "outputs": [],
   "source": [
    "#series"
   ]
  },
  {
   "cell_type": "code",
   "execution_count": 45,
   "id": "74f90006",
   "metadata": {
    "execution": {
     "iopub.execute_input": "2025-01-29T09:55:29.846969Z",
     "iopub.status.busy": "2025-01-29T09:55:29.846563Z",
     "iopub.status.idle": "2025-01-29T09:55:29.850884Z",
     "shell.execute_reply": "2025-01-29T09:55:29.849860Z"
    },
    "papermill": {
     "duration": 0.026577,
     "end_time": "2025-01-29T09:55:29.852470",
     "exception": false,
     "start_time": "2025-01-29T09:55:29.825893",
     "status": "completed"
    },
    "tags": []
   },
   "outputs": [],
   "source": [
    "my_dict={\"James\":50,\"Lars\":60,\"Kirk\":55,\"Rob\":65}\n"
   ]
  },
  {
   "cell_type": "code",
   "execution_count": 46,
   "id": "92046cde",
   "metadata": {
    "execution": {
     "iopub.execute_input": "2025-01-29T09:55:29.888379Z",
     "iopub.status.busy": "2025-01-29T09:55:29.888031Z",
     "iopub.status.idle": "2025-01-29T09:55:29.903919Z",
     "shell.execute_reply": "2025-01-29T09:55:29.902862Z"
    },
    "papermill": {
     "duration": 0.035699,
     "end_time": "2025-01-29T09:55:29.905764",
     "exception": false,
     "start_time": "2025-01-29T09:55:29.870065",
     "status": "completed"
    },
    "tags": []
   },
   "outputs": [
    {
     "data": {
      "text/plain": [
       "James    50\n",
       "Lars     60\n",
       "Kirk     55\n",
       "Rob      65\n",
       "dtype: int64"
      ]
     },
     "execution_count": 46,
     "metadata": {},
     "output_type": "execute_result"
    }
   ],
   "source": [
    "pd.Series(my_dict)"
   ]
  },
  {
   "cell_type": "code",
   "execution_count": 47,
   "id": "31e9d45e",
   "metadata": {
    "execution": {
     "iopub.execute_input": "2025-01-29T09:55:29.942418Z",
     "iopub.status.busy": "2025-01-29T09:55:29.942104Z",
     "iopub.status.idle": "2025-01-29T09:55:29.946087Z",
     "shell.execute_reply": "2025-01-29T09:55:29.945248Z"
    },
    "papermill": {
     "duration": 0.023975,
     "end_time": "2025-01-29T09:55:29.947503",
     "exception": false,
     "start_time": "2025-01-29T09:55:29.923528",
     "status": "completed"
    },
    "tags": []
   },
   "outputs": [],
   "source": [
    "age_list=[50,60,55,65]\n",
    "name_list=[\"James\",\"Lars\",\"Kirk\",\"Rob\"]\n"
   ]
  },
  {
   "cell_type": "code",
   "execution_count": 48,
   "id": "4cb6386b",
   "metadata": {
    "execution": {
     "iopub.execute_input": "2025-01-29T09:55:29.983363Z",
     "iopub.status.busy": "2025-01-29T09:55:29.983017Z",
     "iopub.status.idle": "2025-01-29T09:55:29.987698Z",
     "shell.execute_reply": "2025-01-29T09:55:29.986666Z"
    },
    "papermill": {
     "duration": 0.024368,
     "end_time": "2025-01-29T09:55:29.989255",
     "exception": false,
     "start_time": "2025-01-29T09:55:29.964887",
     "status": "completed"
    },
    "tags": []
   },
   "outputs": [],
   "source": [
    "pd.Series(age_list,name_list)\n",
    "import numpy as np"
   ]
  },
  {
   "cell_type": "code",
   "execution_count": 49,
   "id": "73cdf848",
   "metadata": {
    "execution": {
     "iopub.execute_input": "2025-01-29T09:55:30.025382Z",
     "iopub.status.busy": "2025-01-29T09:55:30.025061Z",
     "iopub.status.idle": "2025-01-29T09:55:30.029287Z",
     "shell.execute_reply": "2025-01-29T09:55:30.028271Z"
    },
    "papermill": {
     "duration": 0.024081,
     "end_time": "2025-01-29T09:55:30.030773",
     "exception": false,
     "start_time": "2025-01-29T09:55:30.006692",
     "status": "completed"
    },
    "tags": []
   },
   "outputs": [],
   "source": [
    "numpy_array=np.arange(0,8)\n"
   ]
  },
  {
   "cell_type": "code",
   "execution_count": 50,
   "id": "8d72d625",
   "metadata": {
    "execution": {
     "iopub.execute_input": "2025-01-29T09:55:30.067916Z",
     "iopub.status.busy": "2025-01-29T09:55:30.067539Z",
     "iopub.status.idle": "2025-01-29T09:55:30.072964Z",
     "shell.execute_reply": "2025-01-29T09:55:30.072130Z"
    },
    "papermill": {
     "duration": 0.025971,
     "end_time": "2025-01-29T09:55:30.074406",
     "exception": false,
     "start_time": "2025-01-29T09:55:30.048435",
     "status": "completed"
    },
    "tags": []
   },
   "outputs": [
    {
     "data": {
      "text/plain": [
       "array([0, 1, 2, 3, 4, 5, 6, 7])"
      ]
     },
     "execution_count": 50,
     "metadata": {},
     "output_type": "execute_result"
    }
   ],
   "source": [
    "numpy_array"
   ]
  },
  {
   "cell_type": "code",
   "execution_count": 51,
   "id": "33d12ebb",
   "metadata": {
    "execution": {
     "iopub.execute_input": "2025-01-29T09:55:30.110601Z",
     "iopub.status.busy": "2025-01-29T09:55:30.110250Z",
     "iopub.status.idle": "2025-01-29T09:55:30.117046Z",
     "shell.execute_reply": "2025-01-29T09:55:30.115963Z"
    },
    "papermill": {
     "duration": 0.026795,
     "end_time": "2025-01-29T09:55:30.118804",
     "exception": false,
     "start_time": "2025-01-29T09:55:30.092009",
     "status": "completed"
    },
    "tags": []
   },
   "outputs": [
    {
     "data": {
      "text/plain": [
       "0    0\n",
       "1    1\n",
       "2    2\n",
       "3    3\n",
       "4    4\n",
       "5    5\n",
       "6    6\n",
       "7    7\n",
       "dtype: int64"
      ]
     },
     "execution_count": 51,
     "metadata": {},
     "output_type": "execute_result"
    }
   ],
   "source": [
    "pd.Series(numpy_array)"
   ]
  },
  {
   "cell_type": "code",
   "execution_count": 52,
   "id": "d8abca53",
   "metadata": {
    "execution": {
     "iopub.execute_input": "2025-01-29T09:55:30.155943Z",
     "iopub.status.busy": "2025-01-29T09:55:30.155507Z",
     "iopub.status.idle": "2025-01-29T09:55:30.159931Z",
     "shell.execute_reply": "2025-01-29T09:55:30.158904Z"
    },
    "papermill": {
     "duration": 0.024709,
     "end_time": "2025-01-29T09:55:30.161502",
     "exception": false,
     "start_time": "2025-01-29T09:55:30.136793",
     "status": "completed"
    },
    "tags": []
   },
   "outputs": [],
   "source": [
    "new_numpy=np.array([10,20,30,40])\n"
   ]
  },
  {
   "cell_type": "code",
   "execution_count": 53,
   "id": "6e4b2dde",
   "metadata": {
    "execution": {
     "iopub.execute_input": "2025-01-29T09:55:30.198642Z",
     "iopub.status.busy": "2025-01-29T09:55:30.198270Z",
     "iopub.status.idle": "2025-01-29T09:55:30.205005Z",
     "shell.execute_reply": "2025-01-29T09:55:30.203947Z"
    },
    "papermill": {
     "duration": 0.027024,
     "end_time": "2025-01-29T09:55:30.206514",
     "exception": false,
     "start_time": "2025-01-29T09:55:30.179490",
     "status": "completed"
    },
    "tags": []
   },
   "outputs": [
    {
     "data": {
      "text/plain": [
       "0    10\n",
       "1    20\n",
       "2    30\n",
       "3    40\n",
       "dtype: int64"
      ]
     },
     "execution_count": 53,
     "metadata": {},
     "output_type": "execute_result"
    }
   ],
   "source": [
    "pd.Series(new_numpy)"
   ]
  },
  {
   "cell_type": "code",
   "execution_count": 54,
   "id": "c9899b41",
   "metadata": {
    "execution": {
     "iopub.execute_input": "2025-01-29T09:55:30.243809Z",
     "iopub.status.busy": "2025-01-29T09:55:30.243423Z",
     "iopub.status.idle": "2025-01-29T09:55:30.251400Z",
     "shell.execute_reply": "2025-01-29T09:55:30.250392Z"
    },
    "papermill": {
     "duration": 0.028614,
     "end_time": "2025-01-29T09:55:30.253099",
     "exception": false,
     "start_time": "2025-01-29T09:55:30.224485",
     "status": "completed"
    },
    "tags": []
   },
   "outputs": [
    {
     "data": {
      "text/plain": [
       "James    10\n",
       "Lars     20\n",
       "Kirk     30\n",
       "Rob      40\n",
       "dtype: int64"
      ]
     },
     "execution_count": 54,
     "metadata": {},
     "output_type": "execute_result"
    }
   ],
   "source": [
    "pd.Series(data=new_numpy,index=name_list)\n"
   ]
  },
  {
   "cell_type": "code",
   "execution_count": 55,
   "id": "0513c9b4",
   "metadata": {
    "execution": {
     "iopub.execute_input": "2025-01-29T09:55:30.290347Z",
     "iopub.status.busy": "2025-01-29T09:55:30.289990Z",
     "iopub.status.idle": "2025-01-29T09:55:30.294795Z",
     "shell.execute_reply": "2025-01-29T09:55:30.293480Z"
    },
    "papermill": {
     "duration": 0.02542,
     "end_time": "2025-01-29T09:55:30.296524",
     "exception": false,
     "start_time": "2025-01-29T09:55:30.271104",
     "status": "completed"
    },
    "tags": []
   },
   "outputs": [],
   "source": [
    "my_series=pd.Series(data=new_numpy,index=name_list)"
   ]
  },
  {
   "cell_type": "code",
   "execution_count": 56,
   "id": "38e21fa7",
   "metadata": {
    "execution": {
     "iopub.execute_input": "2025-01-29T09:55:30.333588Z",
     "iopub.status.busy": "2025-01-29T09:55:30.333225Z",
     "iopub.status.idle": "2025-01-29T09:55:30.339729Z",
     "shell.execute_reply": "2025-01-29T09:55:30.338860Z"
    },
    "papermill": {
     "duration": 0.026638,
     "end_time": "2025-01-29T09:55:30.341291",
     "exception": false,
     "start_time": "2025-01-29T09:55:30.314653",
     "status": "completed"
    },
    "tags": []
   },
   "outputs": [
    {
     "data": {
      "text/plain": [
       "James    10\n",
       "Lars     20\n",
       "Kirk     30\n",
       "Rob      40\n",
       "dtype: int64"
      ]
     },
     "execution_count": 56,
     "metadata": {},
     "output_type": "execute_result"
    }
   ],
   "source": [
    "my_series"
   ]
  },
  {
   "cell_type": "code",
   "execution_count": 57,
   "id": "4dd851ff",
   "metadata": {
    "execution": {
     "iopub.execute_input": "2025-01-29T09:55:30.379399Z",
     "iopub.status.busy": "2025-01-29T09:55:30.379067Z",
     "iopub.status.idle": "2025-01-29T09:55:30.384530Z",
     "shell.execute_reply": "2025-01-29T09:55:30.383675Z"
    },
    "papermill": {
     "duration": 0.026198,
     "end_time": "2025-01-29T09:55:30.386248",
     "exception": false,
     "start_time": "2025-01-29T09:55:30.360050",
     "status": "completed"
    },
    "tags": []
   },
   "outputs": [
    {
     "data": {
      "text/plain": [
       "pandas.core.series.Series"
      ]
     },
     "execution_count": 57,
     "metadata": {},
     "output_type": "execute_result"
    }
   ],
   "source": [
    "type(my_series)"
   ]
  },
  {
   "cell_type": "code",
   "execution_count": 58,
   "id": "f2f61381",
   "metadata": {
    "execution": {
     "iopub.execute_input": "2025-01-29T09:55:30.424499Z",
     "iopub.status.busy": "2025-01-29T09:55:30.424182Z",
     "iopub.status.idle": "2025-01-29T09:55:30.428384Z",
     "shell.execute_reply": "2025-01-29T09:55:30.427293Z"
    },
    "papermill": {
     "duration": 0.025393,
     "end_time": "2025-01-29T09:55:30.430210",
     "exception": false,
     "start_time": "2025-01-29T09:55:30.404817",
     "status": "completed"
    },
    "tags": []
   },
   "outputs": [],
   "source": [
    "my_series[\"Kirk\"]=100"
   ]
  },
  {
   "cell_type": "code",
   "execution_count": 59,
   "id": "79a075bc",
   "metadata": {
    "execution": {
     "iopub.execute_input": "2025-01-29T09:55:30.469254Z",
     "iopub.status.busy": "2025-01-29T09:55:30.468805Z",
     "iopub.status.idle": "2025-01-29T09:55:30.475369Z",
     "shell.execute_reply": "2025-01-29T09:55:30.474375Z"
    },
    "papermill": {
     "duration": 0.028104,
     "end_time": "2025-01-29T09:55:30.477201",
     "exception": false,
     "start_time": "2025-01-29T09:55:30.449097",
     "status": "completed"
    },
    "tags": []
   },
   "outputs": [
    {
     "data": {
      "text/plain": [
       "James     10\n",
       "Lars      20\n",
       "Kirk     100\n",
       "Rob       40\n",
       "dtype: int64"
      ]
     },
     "execution_count": 59,
     "metadata": {},
     "output_type": "execute_result"
    }
   ],
   "source": [
    "my_series"
   ]
  },
  {
   "cell_type": "code",
   "execution_count": 60,
   "id": "1c2ff2d0",
   "metadata": {
    "execution": {
     "iopub.execute_input": "2025-01-29T09:55:30.518719Z",
     "iopub.status.busy": "2025-01-29T09:55:30.518357Z",
     "iopub.status.idle": "2025-01-29T09:55:30.523473Z",
     "shell.execute_reply": "2025-01-29T09:55:30.522316Z"
    },
    "papermill": {
     "duration": 0.027609,
     "end_time": "2025-01-29T09:55:30.525309",
     "exception": false,
     "start_time": "2025-01-29T09:55:30.497700",
     "status": "completed"
    },
    "tags": []
   },
   "outputs": [],
   "source": [
    "quiz_result1=pd.Series(data=[70,80,90],index=[\"A\",\"B\",\"C\"])\n"
   ]
  },
  {
   "cell_type": "code",
   "execution_count": 61,
   "id": "55a358dc",
   "metadata": {
    "execution": {
     "iopub.execute_input": "2025-01-29T09:55:30.564429Z",
     "iopub.status.busy": "2025-01-29T09:55:30.564090Z",
     "iopub.status.idle": "2025-01-29T09:55:30.568814Z",
     "shell.execute_reply": "2025-01-29T09:55:30.567810Z"
    },
    "papermill": {
     "duration": 0.026276,
     "end_time": "2025-01-29T09:55:30.570525",
     "exception": false,
     "start_time": "2025-01-29T09:55:30.544249",
     "status": "completed"
    },
    "tags": []
   },
   "outputs": [],
   "source": [
    "quiz_result2=pd.Series(data=[80,30,50],index=[\"A\",\"B\",\"C\"])"
   ]
  },
  {
   "cell_type": "code",
   "execution_count": 62,
   "id": "57be0917",
   "metadata": {
    "execution": {
     "iopub.execute_input": "2025-01-29T09:55:30.609306Z",
     "iopub.status.busy": "2025-01-29T09:55:30.608976Z",
     "iopub.status.idle": "2025-01-29T09:55:30.615609Z",
     "shell.execute_reply": "2025-01-29T09:55:30.614485Z"
    },
    "papermill": {
     "duration": 0.027874,
     "end_time": "2025-01-29T09:55:30.617166",
     "exception": false,
     "start_time": "2025-01-29T09:55:30.589292",
     "status": "completed"
    },
    "tags": []
   },
   "outputs": [
    {
     "data": {
      "text/plain": [
       "A    70\n",
       "B    80\n",
       "C    90\n",
       "dtype: int64"
      ]
     },
     "execution_count": 62,
     "metadata": {},
     "output_type": "execute_result"
    }
   ],
   "source": [
    "quiz_result1"
   ]
  },
  {
   "cell_type": "code",
   "execution_count": 63,
   "id": "acebd050",
   "metadata": {
    "execution": {
     "iopub.execute_input": "2025-01-29T09:55:30.656123Z",
     "iopub.status.busy": "2025-01-29T09:55:30.655742Z",
     "iopub.status.idle": "2025-01-29T09:55:30.661859Z",
     "shell.execute_reply": "2025-01-29T09:55:30.661017Z"
    },
    "papermill": {
     "duration": 0.027506,
     "end_time": "2025-01-29T09:55:30.663495",
     "exception": false,
     "start_time": "2025-01-29T09:55:30.635989",
     "status": "completed"
    },
    "tags": []
   },
   "outputs": [
    {
     "data": {
      "text/plain": [
       "A    80\n",
       "B    30\n",
       "C    50\n",
       "dtype: int64"
      ]
     },
     "execution_count": 63,
     "metadata": {},
     "output_type": "execute_result"
    }
   ],
   "source": [
    "quiz_result2"
   ]
  },
  {
   "cell_type": "code",
   "execution_count": 64,
   "id": "506f2f4c",
   "metadata": {
    "execution": {
     "iopub.execute_input": "2025-01-29T09:55:30.703060Z",
     "iopub.status.busy": "2025-01-29T09:55:30.702702Z",
     "iopub.status.idle": "2025-01-29T09:55:30.709338Z",
     "shell.execute_reply": "2025-01-29T09:55:30.708265Z"
    },
    "papermill": {
     "duration": 0.028322,
     "end_time": "2025-01-29T09:55:30.710890",
     "exception": false,
     "start_time": "2025-01-29T09:55:30.682568",
     "status": "completed"
    },
    "tags": []
   },
   "outputs": [
    {
     "data": {
      "text/plain": [
       "A    150\n",
       "B    110\n",
       "C    140\n",
       "dtype: int64"
      ]
     },
     "execution_count": 64,
     "metadata": {},
     "output_type": "execute_result"
    }
   ],
   "source": [
    "quiz_result1+quiz_result2"
   ]
  },
  {
   "cell_type": "code",
   "execution_count": 65,
   "id": "d5ba3b33",
   "metadata": {
    "execution": {
     "iopub.execute_input": "2025-01-29T09:55:30.750084Z",
     "iopub.status.busy": "2025-01-29T09:55:30.749714Z",
     "iopub.status.idle": "2025-01-29T09:55:30.754528Z",
     "shell.execute_reply": "2025-01-29T09:55:30.753535Z"
    },
    "papermill": {
     "duration": 0.026047,
     "end_time": "2025-01-29T09:55:30.756171",
     "exception": false,
     "start_time": "2025-01-29T09:55:30.730124",
     "status": "completed"
    },
    "tags": []
   },
   "outputs": [],
   "source": [
    "axam=pd.Series(data=[70,80,90],index=[\"A\",\"B\",\"C\"])"
   ]
  },
  {
   "cell_type": "code",
   "execution_count": 66,
   "id": "7f442bc6",
   "metadata": {
    "execution": {
     "iopub.execute_input": "2025-01-29T09:55:30.795346Z",
     "iopub.status.busy": "2025-01-29T09:55:30.795006Z",
     "iopub.status.idle": "2025-01-29T09:55:30.799411Z",
     "shell.execute_reply": "2025-01-29T09:55:30.798565Z"
    },
    "papermill": {
     "duration": 0.025698,
     "end_time": "2025-01-29T09:55:30.800877",
     "exception": false,
     "start_time": "2025-01-29T09:55:30.775179",
     "status": "completed"
    },
    "tags": []
   },
   "outputs": [],
   "source": [
    "axam2=pd.Series(data=[70,80,90],index=[\"A\",\"D\",\"C\"])"
   ]
  },
  {
   "cell_type": "code",
   "execution_count": 67,
   "id": "1153fe31",
   "metadata": {
    "execution": {
     "iopub.execute_input": "2025-01-29T09:55:30.840846Z",
     "iopub.status.busy": "2025-01-29T09:55:30.840452Z",
     "iopub.status.idle": "2025-01-29T09:55:30.855300Z",
     "shell.execute_reply": "2025-01-29T09:55:30.854154Z"
    },
    "papermill": {
     "duration": 0.037049,
     "end_time": "2025-01-29T09:55:30.857062",
     "exception": false,
     "start_time": "2025-01-29T09:55:30.820013",
     "status": "completed"
    },
    "tags": []
   },
   "outputs": [
    {
     "name": "stderr",
     "output_type": "stream",
     "text": [
      "/usr/local/lib/python3.10/dist-packages/pandas/io/formats/format.py:1458: RuntimeWarning: invalid value encountered in greater\n",
      "  has_large_values = (abs_vals > 1e6).any()\n",
      "/usr/local/lib/python3.10/dist-packages/pandas/io/formats/format.py:1459: RuntimeWarning: invalid value encountered in less\n",
      "  has_small_values = ((abs_vals < 10 ** (-self.digits)) & (abs_vals > 0)).any()\n",
      "/usr/local/lib/python3.10/dist-packages/pandas/io/formats/format.py:1459: RuntimeWarning: invalid value encountered in greater\n",
      "  has_small_values = ((abs_vals < 10 ** (-self.digits)) & (abs_vals > 0)).any()\n"
     ]
    },
    {
     "data": {
      "text/plain": [
       "A    140.0\n",
       "B      NaN\n",
       "C    180.0\n",
       "D      NaN\n",
       "dtype: float64"
      ]
     },
     "execution_count": 67,
     "metadata": {},
     "output_type": "execute_result"
    }
   ],
   "source": [
    "axam+axam2"
   ]
  },
  {
   "cell_type": "code",
   "execution_count": 68,
   "id": "9d872c8e",
   "metadata": {
    "execution": {
     "iopub.execute_input": "2025-01-29T09:55:30.896824Z",
     "iopub.status.busy": "2025-01-29T09:55:30.896480Z",
     "iopub.status.idle": "2025-01-29T09:55:30.902663Z",
     "shell.execute_reply": "2025-01-29T09:55:30.901810Z"
    },
    "papermill": {
     "duration": 0.027838,
     "end_time": "2025-01-29T09:55:30.904377",
     "exception": false,
     "start_time": "2025-01-29T09:55:30.876539",
     "status": "completed"
    },
    "tags": []
   },
   "outputs": [
    {
     "data": {
      "text/plain": [
       "array([[10, 20, 30],\n",
       "       [20, 30, 40],\n",
       "       [20, 50, 10],\n",
       "       [10, 15, 20]])"
      ]
     },
     "execution_count": 68,
     "metadata": {},
     "output_type": "execute_result"
    }
   ],
   "source": [
    "my_data=np.array([[10,20,30],[20,30,40],[20,50,10],[10,15,20]])\n",
    "my_data"
   ]
  },
  {
   "cell_type": "code",
   "execution_count": 69,
   "id": "338fb7c7",
   "metadata": {
    "execution": {
     "iopub.execute_input": "2025-01-29T09:55:30.944978Z",
     "iopub.status.busy": "2025-01-29T09:55:30.944609Z",
     "iopub.status.idle": "2025-01-29T09:55:30.948628Z",
     "shell.execute_reply": "2025-01-29T09:55:30.947811Z"
    },
    "papermill": {
     "duration": 0.026056,
     "end_time": "2025-01-29T09:55:30.950216",
     "exception": false,
     "start_time": "2025-01-29T09:55:30.924160",
     "status": "completed"
    },
    "tags": []
   },
   "outputs": [],
   "source": [
    "my_names=[\"nurhat\",\"baydag\",\"hanzade\",\"seyh\"]\n"
   ]
  },
  {
   "cell_type": "code",
   "execution_count": 70,
   "id": "dd1d6dce",
   "metadata": {
    "execution": {
     "iopub.execute_input": "2025-01-29T09:55:30.990786Z",
     "iopub.status.busy": "2025-01-29T09:55:30.990464Z",
     "iopub.status.idle": "2025-01-29T09:55:30.994730Z",
     "shell.execute_reply": "2025-01-29T09:55:30.993665Z"
    },
    "papermill": {
     "duration": 0.026477,
     "end_time": "2025-01-29T09:55:30.996377",
     "exception": false,
     "start_time": "2025-01-29T09:55:30.969900",
     "status": "completed"
    },
    "tags": []
   },
   "outputs": [],
   "source": [
    "my_colums=[\"jan\",\"feb\",\"march\"]"
   ]
  },
  {
   "cell_type": "code",
   "execution_count": 71,
   "id": "b7c065b7",
   "metadata": {
    "execution": {
     "iopub.execute_input": "2025-01-29T09:55:31.037910Z",
     "iopub.status.busy": "2025-01-29T09:55:31.037530Z",
     "iopub.status.idle": "2025-01-29T09:55:31.041766Z",
     "shell.execute_reply": "2025-01-29T09:55:31.040892Z"
    },
    "papermill": {
     "duration": 0.027168,
     "end_time": "2025-01-29T09:55:31.043360",
     "exception": false,
     "start_time": "2025-01-29T09:55:31.016192",
     "status": "completed"
    },
    "tags": []
   },
   "outputs": [],
   "source": [
    "my_dataframe=pd.DataFrame(my_data)\n"
   ]
  },
  {
   "cell_type": "code",
   "execution_count": 72,
   "id": "d46f91bd",
   "metadata": {
    "execution": {
     "iopub.execute_input": "2025-01-29T09:55:31.085080Z",
     "iopub.status.busy": "2025-01-29T09:55:31.084679Z",
     "iopub.status.idle": "2025-01-29T09:55:31.099869Z",
     "shell.execute_reply": "2025-01-29T09:55:31.098791Z"
    },
    "papermill": {
     "duration": 0.037558,
     "end_time": "2025-01-29T09:55:31.101534",
     "exception": false,
     "start_time": "2025-01-29T09:55:31.063976",
     "status": "completed"
    },
    "tags": []
   },
   "outputs": [
    {
     "data": {
      "text/html": [
       "<div>\n",
       "<style scoped>\n",
       "    .dataframe tbody tr th:only-of-type {\n",
       "        vertical-align: middle;\n",
       "    }\n",
       "\n",
       "    .dataframe tbody tr th {\n",
       "        vertical-align: top;\n",
       "    }\n",
       "\n",
       "    .dataframe thead th {\n",
       "        text-align: right;\n",
       "    }\n",
       "</style>\n",
       "<table border=\"1\" class=\"dataframe\">\n",
       "  <thead>\n",
       "    <tr style=\"text-align: right;\">\n",
       "      <th></th>\n",
       "      <th>0</th>\n",
       "      <th>1</th>\n",
       "      <th>2</th>\n",
       "    </tr>\n",
       "  </thead>\n",
       "  <tbody>\n",
       "    <tr>\n",
       "      <th>0</th>\n",
       "      <td>10</td>\n",
       "      <td>20</td>\n",
       "      <td>30</td>\n",
       "    </tr>\n",
       "    <tr>\n",
       "      <th>1</th>\n",
       "      <td>20</td>\n",
       "      <td>30</td>\n",
       "      <td>40</td>\n",
       "    </tr>\n",
       "    <tr>\n",
       "      <th>2</th>\n",
       "      <td>20</td>\n",
       "      <td>50</td>\n",
       "      <td>10</td>\n",
       "    </tr>\n",
       "    <tr>\n",
       "      <th>3</th>\n",
       "      <td>10</td>\n",
       "      <td>15</td>\n",
       "      <td>20</td>\n",
       "    </tr>\n",
       "  </tbody>\n",
       "</table>\n",
       "</div>"
      ],
      "text/plain": [
       "    0   1   2\n",
       "0  10  20  30\n",
       "1  20  30  40\n",
       "2  20  50  10\n",
       "3  10  15  20"
      ]
     },
     "execution_count": 72,
     "metadata": {},
     "output_type": "execute_result"
    }
   ],
   "source": [
    "my_dataframe"
   ]
  },
  {
   "cell_type": "code",
   "execution_count": 73,
   "id": "b728cf59",
   "metadata": {
    "execution": {
     "iopub.execute_input": "2025-01-29T09:55:31.142447Z",
     "iopub.status.busy": "2025-01-29T09:55:31.142108Z",
     "iopub.status.idle": "2025-01-29T09:55:31.148386Z",
     "shell.execute_reply": "2025-01-29T09:55:31.147347Z"
    },
    "papermill": {
     "duration": 0.028502,
     "end_time": "2025-01-29T09:55:31.150006",
     "exception": false,
     "start_time": "2025-01-29T09:55:31.121504",
     "status": "completed"
    },
    "tags": []
   },
   "outputs": [
    {
     "data": {
      "text/plain": [
       "0    20\n",
       "1    30\n",
       "2    50\n",
       "3    15\n",
       "Name: 1, dtype: int64"
      ]
     },
     "execution_count": 73,
     "metadata": {},
     "output_type": "execute_result"
    }
   ],
   "source": [
    "my_dataframe[1]"
   ]
  },
  {
   "cell_type": "code",
   "execution_count": 74,
   "id": "46a6cab0",
   "metadata": {
    "execution": {
     "iopub.execute_input": "2025-01-29T09:55:31.190866Z",
     "iopub.status.busy": "2025-01-29T09:55:31.190477Z",
     "iopub.status.idle": "2025-01-29T09:55:31.194797Z",
     "shell.execute_reply": "2025-01-29T09:55:31.193899Z"
    },
    "papermill": {
     "duration": 0.026318,
     "end_time": "2025-01-29T09:55:31.196475",
     "exception": false,
     "start_time": "2025-01-29T09:55:31.170157",
     "status": "completed"
    },
    "tags": []
   },
   "outputs": [],
   "source": [
    "new_dataframe=pd.DataFrame(my_data,index=my_names,columns=my_colums)"
   ]
  },
  {
   "cell_type": "code",
   "execution_count": 75,
   "id": "a3f08cdb",
   "metadata": {
    "execution": {
     "iopub.execute_input": "2025-01-29T09:55:31.237369Z",
     "iopub.status.busy": "2025-01-29T09:55:31.237005Z",
     "iopub.status.idle": "2025-01-29T09:55:31.245352Z",
     "shell.execute_reply": "2025-01-29T09:55:31.244248Z"
    },
    "papermill": {
     "duration": 0.030684,
     "end_time": "2025-01-29T09:55:31.247056",
     "exception": false,
     "start_time": "2025-01-29T09:55:31.216372",
     "status": "completed"
    },
    "tags": []
   },
   "outputs": [
    {
     "data": {
      "text/html": [
       "<div>\n",
       "<style scoped>\n",
       "    .dataframe tbody tr th:only-of-type {\n",
       "        vertical-align: middle;\n",
       "    }\n",
       "\n",
       "    .dataframe tbody tr th {\n",
       "        vertical-align: top;\n",
       "    }\n",
       "\n",
       "    .dataframe thead th {\n",
       "        text-align: right;\n",
       "    }\n",
       "</style>\n",
       "<table border=\"1\" class=\"dataframe\">\n",
       "  <thead>\n",
       "    <tr style=\"text-align: right;\">\n",
       "      <th></th>\n",
       "      <th>jan</th>\n",
       "      <th>feb</th>\n",
       "      <th>march</th>\n",
       "    </tr>\n",
       "  </thead>\n",
       "  <tbody>\n",
       "    <tr>\n",
       "      <th>nurhat</th>\n",
       "      <td>10</td>\n",
       "      <td>20</td>\n",
       "      <td>30</td>\n",
       "    </tr>\n",
       "    <tr>\n",
       "      <th>baydag</th>\n",
       "      <td>20</td>\n",
       "      <td>30</td>\n",
       "      <td>40</td>\n",
       "    </tr>\n",
       "    <tr>\n",
       "      <th>hanzade</th>\n",
       "      <td>20</td>\n",
       "      <td>50</td>\n",
       "      <td>10</td>\n",
       "    </tr>\n",
       "    <tr>\n",
       "      <th>seyh</th>\n",
       "      <td>10</td>\n",
       "      <td>15</td>\n",
       "      <td>20</td>\n",
       "    </tr>\n",
       "  </tbody>\n",
       "</table>\n",
       "</div>"
      ],
      "text/plain": [
       "         jan  feb  march\n",
       "nurhat    10   20     30\n",
       "baydag    20   30     40\n",
       "hanzade   20   50     10\n",
       "seyh      10   15     20"
      ]
     },
     "execution_count": 75,
     "metadata": {},
     "output_type": "execute_result"
    }
   ],
   "source": [
    "new_dataframe"
   ]
  },
  {
   "cell_type": "code",
   "execution_count": 76,
   "id": "3581385c",
   "metadata": {
    "execution": {
     "iopub.execute_input": "2025-01-29T09:55:31.288989Z",
     "iopub.status.busy": "2025-01-29T09:55:31.288581Z",
     "iopub.status.idle": "2025-01-29T09:55:31.295210Z",
     "shell.execute_reply": "2025-01-29T09:55:31.294238Z"
    },
    "papermill": {
     "duration": 0.029376,
     "end_time": "2025-01-29T09:55:31.296782",
     "exception": false,
     "start_time": "2025-01-29T09:55:31.267406",
     "status": "completed"
    },
    "tags": []
   },
   "outputs": [
    {
     "data": {
      "text/plain": [
       "nurhat     20\n",
       "baydag     30\n",
       "hanzade    50\n",
       "seyh       15\n",
       "Name: feb, dtype: int64"
      ]
     },
     "execution_count": 76,
     "metadata": {},
     "output_type": "execute_result"
    }
   ],
   "source": [
    "new_dataframe[\"feb\"]"
   ]
  },
  {
   "cell_type": "code",
   "execution_count": 77,
   "id": "974d7b7a",
   "metadata": {
    "execution": {
     "iopub.execute_input": "2025-01-29T09:55:31.338351Z",
     "iopub.status.busy": "2025-01-29T09:55:31.337973Z",
     "iopub.status.idle": "2025-01-29T09:55:31.342149Z",
     "shell.execute_reply": "2025-01-29T09:55:31.341165Z"
    },
    "papermill": {
     "duration": 0.026752,
     "end_time": "2025-01-29T09:55:31.343801",
     "exception": false,
     "start_time": "2025-01-29T09:55:31.317049",
     "status": "completed"
    },
    "tags": []
   },
   "outputs": [],
   "source": [
    "feb_series=new_dataframe[\"feb\"]"
   ]
  },
  {
   "cell_type": "code",
   "execution_count": 78,
   "id": "3f25ac70",
   "metadata": {
    "execution": {
     "iopub.execute_input": "2025-01-29T09:55:31.385599Z",
     "iopub.status.busy": "2025-01-29T09:55:31.385222Z",
     "iopub.status.idle": "2025-01-29T09:55:31.391472Z",
     "shell.execute_reply": "2025-01-29T09:55:31.390441Z"
    },
    "papermill": {
     "duration": 0.02904,
     "end_time": "2025-01-29T09:55:31.393215",
     "exception": false,
     "start_time": "2025-01-29T09:55:31.364175",
     "status": "completed"
    },
    "tags": []
   },
   "outputs": [
    {
     "data": {
      "text/plain": [
       "28.75"
      ]
     },
     "execution_count": 78,
     "metadata": {},
     "output_type": "execute_result"
    }
   ],
   "source": [
    "feb_series.mean()"
   ]
  },
  {
   "cell_type": "code",
   "execution_count": 79,
   "id": "ea7d2f01",
   "metadata": {
    "execution": {
     "iopub.execute_input": "2025-01-29T09:55:31.434931Z",
     "iopub.status.busy": "2025-01-29T09:55:31.434523Z",
     "iopub.status.idle": "2025-01-29T09:55:31.440271Z",
     "shell.execute_reply": "2025-01-29T09:55:31.439228Z"
    },
    "papermill": {
     "duration": 0.02825,
     "end_time": "2025-01-29T09:55:31.441870",
     "exception": false,
     "start_time": "2025-01-29T09:55:31.413620",
     "status": "completed"
    },
    "tags": []
   },
   "outputs": [
    {
     "data": {
      "text/plain": [
       "20"
      ]
     },
     "execution_count": 79,
     "metadata": {},
     "output_type": "execute_result"
    }
   ],
   "source": [
    "feb_series.nurhat"
   ]
  },
  {
   "cell_type": "code",
   "execution_count": 80,
   "id": "e0515d45",
   "metadata": {
    "execution": {
     "iopub.execute_input": "2025-01-29T09:55:31.484707Z",
     "iopub.status.busy": "2025-01-29T09:55:31.484376Z",
     "iopub.status.idle": "2025-01-29T09:55:31.490231Z",
     "shell.execute_reply": "2025-01-29T09:55:31.489322Z"
    },
    "papermill": {
     "duration": 0.028947,
     "end_time": "2025-01-29T09:55:31.491627",
     "exception": false,
     "start_time": "2025-01-29T09:55:31.462680",
     "status": "completed"
    },
    "tags": []
   },
   "outputs": [
    {
     "data": {
      "text/plain": [
       "15.0"
      ]
     },
     "execution_count": 80,
     "metadata": {},
     "output_type": "execute_result"
    }
   ],
   "source": [
    "new_dataframe[\"jan\"].mean()"
   ]
  },
  {
   "cell_type": "code",
   "execution_count": 81,
   "id": "25ecb757",
   "metadata": {
    "execution": {
     "iopub.execute_input": "2025-01-29T09:55:31.537372Z",
     "iopub.status.busy": "2025-01-29T09:55:31.537040Z",
     "iopub.status.idle": "2025-01-29T09:55:31.548308Z",
     "shell.execute_reply": "2025-01-29T09:55:31.547145Z"
    },
    "papermill": {
     "duration": 0.034541,
     "end_time": "2025-01-29T09:55:31.550186",
     "exception": false,
     "start_time": "2025-01-29T09:55:31.515645",
     "status": "completed"
    },
    "tags": []
   },
   "outputs": [
    {
     "data": {
      "text/html": [
       "<div>\n",
       "<style scoped>\n",
       "    .dataframe tbody tr th:only-of-type {\n",
       "        vertical-align: middle;\n",
       "    }\n",
       "\n",
       "    .dataframe tbody tr th {\n",
       "        vertical-align: top;\n",
       "    }\n",
       "\n",
       "    .dataframe thead th {\n",
       "        text-align: right;\n",
       "    }\n",
       "</style>\n",
       "<table border=\"1\" class=\"dataframe\">\n",
       "  <thead>\n",
       "    <tr style=\"text-align: right;\">\n",
       "      <th></th>\n",
       "      <th>jan</th>\n",
       "      <th>feb</th>\n",
       "    </tr>\n",
       "  </thead>\n",
       "  <tbody>\n",
       "    <tr>\n",
       "      <th>nurhat</th>\n",
       "      <td>10</td>\n",
       "      <td>20</td>\n",
       "    </tr>\n",
       "    <tr>\n",
       "      <th>baydag</th>\n",
       "      <td>20</td>\n",
       "      <td>30</td>\n",
       "    </tr>\n",
       "    <tr>\n",
       "      <th>hanzade</th>\n",
       "      <td>20</td>\n",
       "      <td>50</td>\n",
       "    </tr>\n",
       "    <tr>\n",
       "      <th>seyh</th>\n",
       "      <td>10</td>\n",
       "      <td>15</td>\n",
       "    </tr>\n",
       "  </tbody>\n",
       "</table>\n",
       "</div>"
      ],
      "text/plain": [
       "         jan  feb\n",
       "nurhat    10   20\n",
       "baydag    20   30\n",
       "hanzade   20   50\n",
       "seyh      10   15"
      ]
     },
     "execution_count": 81,
     "metadata": {},
     "output_type": "execute_result"
    }
   ],
   "source": [
    "new_dataframe[[\"jan\",\"feb\"]]"
   ]
  },
  {
   "cell_type": "code",
   "execution_count": 82,
   "id": "3ba6f17e",
   "metadata": {
    "execution": {
     "iopub.execute_input": "2025-01-29T09:55:31.593900Z",
     "iopub.status.busy": "2025-01-29T09:55:31.593518Z",
     "iopub.status.idle": "2025-01-29T09:55:31.602029Z",
     "shell.execute_reply": "2025-01-29T09:55:31.601107Z"
    },
    "papermill": {
     "duration": 0.03232,
     "end_time": "2025-01-29T09:55:31.603671",
     "exception": false,
     "start_time": "2025-01-29T09:55:31.571351",
     "status": "completed"
    },
    "tags": []
   },
   "outputs": [
    {
     "data": {
      "text/html": [
       "<div>\n",
       "<style scoped>\n",
       "    .dataframe tbody tr th:only-of-type {\n",
       "        vertical-align: middle;\n",
       "    }\n",
       "\n",
       "    .dataframe tbody tr th {\n",
       "        vertical-align: top;\n",
       "    }\n",
       "\n",
       "    .dataframe thead th {\n",
       "        text-align: right;\n",
       "    }\n",
       "</style>\n",
       "<table border=\"1\" class=\"dataframe\">\n",
       "  <thead>\n",
       "    <tr style=\"text-align: right;\">\n",
       "      <th></th>\n",
       "      <th>jan</th>\n",
       "      <th>feb</th>\n",
       "      <th>march</th>\n",
       "    </tr>\n",
       "  </thead>\n",
       "  <tbody>\n",
       "    <tr>\n",
       "      <th>baydag</th>\n",
       "      <td>20</td>\n",
       "      <td>30</td>\n",
       "      <td>40</td>\n",
       "    </tr>\n",
       "    <tr>\n",
       "      <th>hanzade</th>\n",
       "      <td>20</td>\n",
       "      <td>50</td>\n",
       "      <td>10</td>\n",
       "    </tr>\n",
       "  </tbody>\n",
       "</table>\n",
       "</div>"
      ],
      "text/plain": [
       "         jan  feb  march\n",
       "baydag    20   30     40\n",
       "hanzade   20   50     10"
      ]
     },
     "execution_count": 82,
     "metadata": {},
     "output_type": "execute_result"
    }
   ],
   "source": [
    "new_dataframe.iloc[1:3]"
   ]
  },
  {
   "cell_type": "code",
   "execution_count": 83,
   "id": "0dbd73a0",
   "metadata": {
    "execution": {
     "iopub.execute_input": "2025-01-29T09:55:31.648512Z",
     "iopub.status.busy": "2025-01-29T09:55:31.648181Z",
     "iopub.status.idle": "2025-01-29T09:55:31.653430Z",
     "shell.execute_reply": "2025-01-29T09:55:31.652416Z"
    },
    "papermill": {
     "duration": 0.030007,
     "end_time": "2025-01-29T09:55:31.655308",
     "exception": false,
     "start_time": "2025-01-29T09:55:31.625301",
     "status": "completed"
    },
    "tags": []
   },
   "outputs": [],
   "source": [
    "new_dataframe[\"Apr\"]=new_dataframe[\"march\"]*2"
   ]
  },
  {
   "cell_type": "code",
   "execution_count": 84,
   "id": "75c63557",
   "metadata": {
    "execution": {
     "iopub.execute_input": "2025-01-29T09:55:31.698734Z",
     "iopub.status.busy": "2025-01-29T09:55:31.698378Z",
     "iopub.status.idle": "2025-01-29T09:55:31.707191Z",
     "shell.execute_reply": "2025-01-29T09:55:31.706274Z"
    },
    "papermill": {
     "duration": 0.032491,
     "end_time": "2025-01-29T09:55:31.708871",
     "exception": false,
     "start_time": "2025-01-29T09:55:31.676380",
     "status": "completed"
    },
    "tags": []
   },
   "outputs": [
    {
     "data": {
      "text/html": [
       "<div>\n",
       "<style scoped>\n",
       "    .dataframe tbody tr th:only-of-type {\n",
       "        vertical-align: middle;\n",
       "    }\n",
       "\n",
       "    .dataframe tbody tr th {\n",
       "        vertical-align: top;\n",
       "    }\n",
       "\n",
       "    .dataframe thead th {\n",
       "        text-align: right;\n",
       "    }\n",
       "</style>\n",
       "<table border=\"1\" class=\"dataframe\">\n",
       "  <thead>\n",
       "    <tr style=\"text-align: right;\">\n",
       "      <th></th>\n",
       "      <th>jan</th>\n",
       "      <th>feb</th>\n",
       "      <th>march</th>\n",
       "      <th>Apr</th>\n",
       "    </tr>\n",
       "  </thead>\n",
       "  <tbody>\n",
       "    <tr>\n",
       "      <th>nurhat</th>\n",
       "      <td>10</td>\n",
       "      <td>20</td>\n",
       "      <td>30</td>\n",
       "      <td>60</td>\n",
       "    </tr>\n",
       "    <tr>\n",
       "      <th>baydag</th>\n",
       "      <td>20</td>\n",
       "      <td>30</td>\n",
       "      <td>40</td>\n",
       "      <td>80</td>\n",
       "    </tr>\n",
       "    <tr>\n",
       "      <th>hanzade</th>\n",
       "      <td>20</td>\n",
       "      <td>50</td>\n",
       "      <td>10</td>\n",
       "      <td>20</td>\n",
       "    </tr>\n",
       "    <tr>\n",
       "      <th>seyh</th>\n",
       "      <td>10</td>\n",
       "      <td>15</td>\n",
       "      <td>20</td>\n",
       "      <td>40</td>\n",
       "    </tr>\n",
       "  </tbody>\n",
       "</table>\n",
       "</div>"
      ],
      "text/plain": [
       "         jan  feb  march  Apr\n",
       "nurhat    10   20     30   60\n",
       "baydag    20   30     40   80\n",
       "hanzade   20   50     10   20\n",
       "seyh      10   15     20   40"
      ]
     },
     "execution_count": 84,
     "metadata": {},
     "output_type": "execute_result"
    }
   ],
   "source": [
    "new_dataframe"
   ]
  },
  {
   "cell_type": "code",
   "execution_count": 85,
   "id": "2ce3bb21",
   "metadata": {
    "execution": {
     "iopub.execute_input": "2025-01-29T09:55:31.753742Z",
     "iopub.status.busy": "2025-01-29T09:55:31.753366Z",
     "iopub.status.idle": "2025-01-29T09:55:31.762912Z",
     "shell.execute_reply": "2025-01-29T09:55:31.761817Z"
    },
    "papermill": {
     "duration": 0.033503,
     "end_time": "2025-01-29T09:55:31.764614",
     "exception": false,
     "start_time": "2025-01-29T09:55:31.731111",
     "status": "completed"
    },
    "tags": []
   },
   "outputs": [
    {
     "data": {
      "text/html": [
       "<div>\n",
       "<style scoped>\n",
       "    .dataframe tbody tr th:only-of-type {\n",
       "        vertical-align: middle;\n",
       "    }\n",
       "\n",
       "    .dataframe tbody tr th {\n",
       "        vertical-align: top;\n",
       "    }\n",
       "\n",
       "    .dataframe thead th {\n",
       "        text-align: right;\n",
       "    }\n",
       "</style>\n",
       "<table border=\"1\" class=\"dataframe\">\n",
       "  <thead>\n",
       "    <tr style=\"text-align: right;\">\n",
       "      <th></th>\n",
       "      <th>jan</th>\n",
       "      <th>feb</th>\n",
       "      <th>march</th>\n",
       "      <th>Apr</th>\n",
       "    </tr>\n",
       "  </thead>\n",
       "  <tbody>\n",
       "    <tr>\n",
       "      <th>nurhat</th>\n",
       "      <td>10</td>\n",
       "      <td>20</td>\n",
       "      <td>30</td>\n",
       "      <td>60</td>\n",
       "    </tr>\n",
       "    <tr>\n",
       "      <th>baydag</th>\n",
       "      <td>20</td>\n",
       "      <td>30</td>\n",
       "      <td>40</td>\n",
       "      <td>80</td>\n",
       "    </tr>\n",
       "    <tr>\n",
       "      <th>hanzade</th>\n",
       "      <td>20</td>\n",
       "      <td>50</td>\n",
       "      <td>10</td>\n",
       "      <td>20</td>\n",
       "    </tr>\n",
       "  </tbody>\n",
       "</table>\n",
       "</div>"
      ],
      "text/plain": [
       "         jan  feb  march  Apr\n",
       "nurhat    10   20     30   60\n",
       "baydag    20   30     40   80\n",
       "hanzade   20   50     10   20"
      ]
     },
     "execution_count": 85,
     "metadata": {},
     "output_type": "execute_result"
    }
   ],
   "source": [
    "new_dataframe.drop(\"seyh\",axis=0)"
   ]
  },
  {
   "cell_type": "code",
   "execution_count": 86,
   "id": "a1a23fd2",
   "metadata": {
    "execution": {
     "iopub.execute_input": "2025-01-29T09:55:31.808921Z",
     "iopub.status.busy": "2025-01-29T09:55:31.808514Z",
     "iopub.status.idle": "2025-01-29T09:55:31.817410Z",
     "shell.execute_reply": "2025-01-29T09:55:31.816603Z"
    },
    "papermill": {
     "duration": 0.032266,
     "end_time": "2025-01-29T09:55:31.818762",
     "exception": false,
     "start_time": "2025-01-29T09:55:31.786496",
     "status": "completed"
    },
    "tags": []
   },
   "outputs": [
    {
     "data": {
      "text/html": [
       "<div>\n",
       "<style scoped>\n",
       "    .dataframe tbody tr th:only-of-type {\n",
       "        vertical-align: middle;\n",
       "    }\n",
       "\n",
       "    .dataframe tbody tr th {\n",
       "        vertical-align: top;\n",
       "    }\n",
       "\n",
       "    .dataframe thead th {\n",
       "        text-align: right;\n",
       "    }\n",
       "</style>\n",
       "<table border=\"1\" class=\"dataframe\">\n",
       "  <thead>\n",
       "    <tr style=\"text-align: right;\">\n",
       "      <th></th>\n",
       "      <th>jan</th>\n",
       "      <th>feb</th>\n",
       "      <th>march</th>\n",
       "    </tr>\n",
       "  </thead>\n",
       "  <tbody>\n",
       "    <tr>\n",
       "      <th>nurhat</th>\n",
       "      <td>10</td>\n",
       "      <td>20</td>\n",
       "      <td>30</td>\n",
       "    </tr>\n",
       "    <tr>\n",
       "      <th>baydag</th>\n",
       "      <td>20</td>\n",
       "      <td>30</td>\n",
       "      <td>40</td>\n",
       "    </tr>\n",
       "    <tr>\n",
       "      <th>hanzade</th>\n",
       "      <td>20</td>\n",
       "      <td>50</td>\n",
       "      <td>10</td>\n",
       "    </tr>\n",
       "    <tr>\n",
       "      <th>seyh</th>\n",
       "      <td>10</td>\n",
       "      <td>15</td>\n",
       "      <td>20</td>\n",
       "    </tr>\n",
       "  </tbody>\n",
       "</table>\n",
       "</div>"
      ],
      "text/plain": [
       "         jan  feb  march\n",
       "nurhat    10   20     30\n",
       "baydag    20   30     40\n",
       "hanzade   20   50     10\n",
       "seyh      10   15     20"
      ]
     },
     "execution_count": 86,
     "metadata": {},
     "output_type": "execute_result"
    }
   ],
   "source": [
    "new_dataframe.drop(\"Apr\",axis=1)"
   ]
  },
  {
   "cell_type": "code",
   "execution_count": 87,
   "id": "a85e1eab",
   "metadata": {
    "execution": {
     "iopub.execute_input": "2025-01-29T09:55:31.863452Z",
     "iopub.status.busy": "2025-01-29T09:55:31.863128Z",
     "iopub.status.idle": "2025-01-29T09:55:31.868103Z",
     "shell.execute_reply": "2025-01-29T09:55:31.867147Z"
    },
    "papermill": {
     "duration": 0.028904,
     "end_time": "2025-01-29T09:55:31.869651",
     "exception": false,
     "start_time": "2025-01-29T09:55:31.840747",
     "status": "completed"
    },
    "tags": []
   },
   "outputs": [],
   "source": [
    "new_dataframe.drop(\"Apr\",axis=1,inplace=True)"
   ]
  },
  {
   "cell_type": "code",
   "execution_count": 88,
   "id": "fedccd9f",
   "metadata": {
    "execution": {
     "iopub.execute_input": "2025-01-29T09:55:31.915323Z",
     "iopub.status.busy": "2025-01-29T09:55:31.914975Z",
     "iopub.status.idle": "2025-01-29T09:55:31.923593Z",
     "shell.execute_reply": "2025-01-29T09:55:31.922539Z"
    },
    "papermill": {
     "duration": 0.032945,
     "end_time": "2025-01-29T09:55:31.925148",
     "exception": false,
     "start_time": "2025-01-29T09:55:31.892203",
     "status": "completed"
    },
    "tags": []
   },
   "outputs": [
    {
     "data": {
      "text/html": [
       "<div>\n",
       "<style scoped>\n",
       "    .dataframe tbody tr th:only-of-type {\n",
       "        vertical-align: middle;\n",
       "    }\n",
       "\n",
       "    .dataframe tbody tr th {\n",
       "        vertical-align: top;\n",
       "    }\n",
       "\n",
       "    .dataframe thead th {\n",
       "        text-align: right;\n",
       "    }\n",
       "</style>\n",
       "<table border=\"1\" class=\"dataframe\">\n",
       "  <thead>\n",
       "    <tr style=\"text-align: right;\">\n",
       "      <th></th>\n",
       "      <th>jan</th>\n",
       "      <th>feb</th>\n",
       "      <th>march</th>\n",
       "    </tr>\n",
       "  </thead>\n",
       "  <tbody>\n",
       "    <tr>\n",
       "      <th>nurhat</th>\n",
       "      <td>10</td>\n",
       "      <td>20</td>\n",
       "      <td>30</td>\n",
       "    </tr>\n",
       "    <tr>\n",
       "      <th>baydag</th>\n",
       "      <td>20</td>\n",
       "      <td>30</td>\n",
       "      <td>40</td>\n",
       "    </tr>\n",
       "    <tr>\n",
       "      <th>hanzade</th>\n",
       "      <td>20</td>\n",
       "      <td>50</td>\n",
       "      <td>10</td>\n",
       "    </tr>\n",
       "    <tr>\n",
       "      <th>seyh</th>\n",
       "      <td>10</td>\n",
       "      <td>15</td>\n",
       "      <td>20</td>\n",
       "    </tr>\n",
       "  </tbody>\n",
       "</table>\n",
       "</div>"
      ],
      "text/plain": [
       "         jan  feb  march\n",
       "nurhat    10   20     30\n",
       "baydag    20   30     40\n",
       "hanzade   20   50     10\n",
       "seyh      10   15     20"
      ]
     },
     "execution_count": 88,
     "metadata": {},
     "output_type": "execute_result"
    }
   ],
   "source": [
    "new_dataframe"
   ]
  },
  {
   "cell_type": "code",
   "execution_count": 89,
   "id": "e3629960",
   "metadata": {
    "execution": {
     "iopub.execute_input": "2025-01-29T09:55:31.970294Z",
     "iopub.status.busy": "2025-01-29T09:55:31.969972Z",
     "iopub.status.idle": "2025-01-29T09:55:31.975662Z",
     "shell.execute_reply": "2025-01-29T09:55:31.974764Z"
    },
    "papermill": {
     "duration": 0.030009,
     "end_time": "2025-01-29T09:55:31.977218",
     "exception": false,
     "start_time": "2025-01-29T09:55:31.947209",
     "status": "completed"
    },
    "tags": []
   },
   "outputs": [
    {
     "data": {
      "text/plain": [
       "20"
      ]
     },
     "execution_count": 89,
     "metadata": {},
     "output_type": "execute_result"
    }
   ],
   "source": [
    "new_dataframe[\"feb\"][\"nurhat\"]"
   ]
  },
  {
   "cell_type": "code",
   "execution_count": 90,
   "id": "744e4635",
   "metadata": {
    "execution": {
     "iopub.execute_input": "2025-01-29T09:55:32.022461Z",
     "iopub.status.busy": "2025-01-29T09:55:32.022149Z",
     "iopub.status.idle": "2025-01-29T09:55:32.026267Z",
     "shell.execute_reply": "2025-01-29T09:55:32.025434Z"
    },
    "papermill": {
     "duration": 0.028531,
     "end_time": "2025-01-29T09:55:32.027757",
     "exception": false,
     "start_time": "2025-01-29T09:55:31.999226",
     "status": "completed"
    },
    "tags": []
   },
   "outputs": [],
   "source": [
    "boolean_frame=new_dataframe>25"
   ]
  },
  {
   "cell_type": "code",
   "execution_count": 91,
   "id": "371feb69",
   "metadata": {
    "execution": {
     "iopub.execute_input": "2025-01-29T09:55:32.073660Z",
     "iopub.status.busy": "2025-01-29T09:55:32.073304Z",
     "iopub.status.idle": "2025-01-29T09:55:32.083980Z",
     "shell.execute_reply": "2025-01-29T09:55:32.083119Z"
    },
    "papermill": {
     "duration": 0.035327,
     "end_time": "2025-01-29T09:55:32.085506",
     "exception": false,
     "start_time": "2025-01-29T09:55:32.050179",
     "status": "completed"
    },
    "tags": []
   },
   "outputs": [
    {
     "data": {
      "text/html": [
       "<div>\n",
       "<style scoped>\n",
       "    .dataframe tbody tr th:only-of-type {\n",
       "        vertical-align: middle;\n",
       "    }\n",
       "\n",
       "    .dataframe tbody tr th {\n",
       "        vertical-align: top;\n",
       "    }\n",
       "\n",
       "    .dataframe thead th {\n",
       "        text-align: right;\n",
       "    }\n",
       "</style>\n",
       "<table border=\"1\" class=\"dataframe\">\n",
       "  <thead>\n",
       "    <tr style=\"text-align: right;\">\n",
       "      <th></th>\n",
       "      <th>jan</th>\n",
       "      <th>feb</th>\n",
       "      <th>march</th>\n",
       "    </tr>\n",
       "  </thead>\n",
       "  <tbody>\n",
       "    <tr>\n",
       "      <th>nurhat</th>\n",
       "      <td>False</td>\n",
       "      <td>False</td>\n",
       "      <td>True</td>\n",
       "    </tr>\n",
       "    <tr>\n",
       "      <th>baydag</th>\n",
       "      <td>False</td>\n",
       "      <td>True</td>\n",
       "      <td>True</td>\n",
       "    </tr>\n",
       "    <tr>\n",
       "      <th>hanzade</th>\n",
       "      <td>False</td>\n",
       "      <td>True</td>\n",
       "      <td>False</td>\n",
       "    </tr>\n",
       "    <tr>\n",
       "      <th>seyh</th>\n",
       "      <td>False</td>\n",
       "      <td>False</td>\n",
       "      <td>False</td>\n",
       "    </tr>\n",
       "  </tbody>\n",
       "</table>\n",
       "</div>"
      ],
      "text/plain": [
       "           jan    feb  march\n",
       "nurhat   False  False   True\n",
       "baydag   False   True   True\n",
       "hanzade  False   True  False\n",
       "seyh     False  False  False"
      ]
     },
     "execution_count": 91,
     "metadata": {},
     "output_type": "execute_result"
    }
   ],
   "source": [
    "boolean_frame"
   ]
  },
  {
   "cell_type": "code",
   "execution_count": 92,
   "id": "e0ed67fc",
   "metadata": {
    "execution": {
     "iopub.execute_input": "2025-01-29T09:55:32.131485Z",
     "iopub.status.busy": "2025-01-29T09:55:32.131146Z",
     "iopub.status.idle": "2025-01-29T09:55:32.142864Z",
     "shell.execute_reply": "2025-01-29T09:55:32.141768Z"
    },
    "papermill": {
     "duration": 0.036537,
     "end_time": "2025-01-29T09:55:32.144603",
     "exception": false,
     "start_time": "2025-01-29T09:55:32.108066",
     "status": "completed"
    },
    "tags": []
   },
   "outputs": [
    {
     "name": "stderr",
     "output_type": "stream",
     "text": [
      "/usr/local/lib/python3.10/dist-packages/pandas/io/formats/format.py:1458: RuntimeWarning: invalid value encountered in greater\n",
      "  has_large_values = (abs_vals > 1e6).any()\n",
      "/usr/local/lib/python3.10/dist-packages/pandas/io/formats/format.py:1459: RuntimeWarning: invalid value encountered in less\n",
      "  has_small_values = ((abs_vals < 10 ** (-self.digits)) & (abs_vals > 0)).any()\n",
      "/usr/local/lib/python3.10/dist-packages/pandas/io/formats/format.py:1459: RuntimeWarning: invalid value encountered in greater\n",
      "  has_small_values = ((abs_vals < 10 ** (-self.digits)) & (abs_vals > 0)).any()\n"
     ]
    },
    {
     "data": {
      "text/html": [
       "<div>\n",
       "<style scoped>\n",
       "    .dataframe tbody tr th:only-of-type {\n",
       "        vertical-align: middle;\n",
       "    }\n",
       "\n",
       "    .dataframe tbody tr th {\n",
       "        vertical-align: top;\n",
       "    }\n",
       "\n",
       "    .dataframe thead th {\n",
       "        text-align: right;\n",
       "    }\n",
       "</style>\n",
       "<table border=\"1\" class=\"dataframe\">\n",
       "  <thead>\n",
       "    <tr style=\"text-align: right;\">\n",
       "      <th></th>\n",
       "      <th>jan</th>\n",
       "      <th>feb</th>\n",
       "      <th>march</th>\n",
       "    </tr>\n",
       "  </thead>\n",
       "  <tbody>\n",
       "    <tr>\n",
       "      <th>nurhat</th>\n",
       "      <td>NaN</td>\n",
       "      <td>NaN</td>\n",
       "      <td>30.0</td>\n",
       "    </tr>\n",
       "    <tr>\n",
       "      <th>baydag</th>\n",
       "      <td>NaN</td>\n",
       "      <td>30.0</td>\n",
       "      <td>40.0</td>\n",
       "    </tr>\n",
       "    <tr>\n",
       "      <th>hanzade</th>\n",
       "      <td>NaN</td>\n",
       "      <td>50.0</td>\n",
       "      <td>NaN</td>\n",
       "    </tr>\n",
       "    <tr>\n",
       "      <th>seyh</th>\n",
       "      <td>NaN</td>\n",
       "      <td>NaN</td>\n",
       "      <td>NaN</td>\n",
       "    </tr>\n",
       "  </tbody>\n",
       "</table>\n",
       "</div>"
      ],
      "text/plain": [
       "         jan   feb  march\n",
       "nurhat   NaN   NaN   30.0\n",
       "baydag   NaN  30.0   40.0\n",
       "hanzade  NaN  50.0    NaN\n",
       "seyh     NaN   NaN    NaN"
      ]
     },
     "execution_count": 92,
     "metadata": {},
     "output_type": "execute_result"
    }
   ],
   "source": [
    "new_dataframe[boolean_frame]"
   ]
  },
  {
   "cell_type": "code",
   "execution_count": 93,
   "id": "2f89d435",
   "metadata": {
    "execution": {
     "iopub.execute_input": "2025-01-29T09:55:32.190484Z",
     "iopub.status.busy": "2025-01-29T09:55:32.190150Z",
     "iopub.status.idle": "2025-01-29T09:55:32.202385Z",
     "shell.execute_reply": "2025-01-29T09:55:32.201289Z"
    },
    "papermill": {
     "duration": 0.036669,
     "end_time": "2025-01-29T09:55:32.203780",
     "exception": false,
     "start_time": "2025-01-29T09:55:32.167111",
     "status": "completed"
    },
    "tags": []
   },
   "outputs": [
    {
     "name": "stderr",
     "output_type": "stream",
     "text": [
      "/usr/local/lib/python3.10/dist-packages/pandas/io/formats/format.py:1458: RuntimeWarning: invalid value encountered in greater\n",
      "  has_large_values = (abs_vals > 1e6).any()\n",
      "/usr/local/lib/python3.10/dist-packages/pandas/io/formats/format.py:1459: RuntimeWarning: invalid value encountered in less\n",
      "  has_small_values = ((abs_vals < 10 ** (-self.digits)) & (abs_vals > 0)).any()\n",
      "/usr/local/lib/python3.10/dist-packages/pandas/io/formats/format.py:1459: RuntimeWarning: invalid value encountered in greater\n",
      "  has_small_values = ((abs_vals < 10 ** (-self.digits)) & (abs_vals > 0)).any()\n"
     ]
    },
    {
     "data": {
      "text/html": [
       "<div>\n",
       "<style scoped>\n",
       "    .dataframe tbody tr th:only-of-type {\n",
       "        vertical-align: middle;\n",
       "    }\n",
       "\n",
       "    .dataframe tbody tr th {\n",
       "        vertical-align: top;\n",
       "    }\n",
       "\n",
       "    .dataframe thead th {\n",
       "        text-align: right;\n",
       "    }\n",
       "</style>\n",
       "<table border=\"1\" class=\"dataframe\">\n",
       "  <thead>\n",
       "    <tr style=\"text-align: right;\">\n",
       "      <th></th>\n",
       "      <th>jan</th>\n",
       "      <th>feb</th>\n",
       "      <th>march</th>\n",
       "    </tr>\n",
       "  </thead>\n",
       "  <tbody>\n",
       "    <tr>\n",
       "      <th>nurhat</th>\n",
       "      <td>NaN</td>\n",
       "      <td>NaN</td>\n",
       "      <td>NaN</td>\n",
       "    </tr>\n",
       "    <tr>\n",
       "      <th>baydag</th>\n",
       "      <td>NaN</td>\n",
       "      <td>NaN</td>\n",
       "      <td>40.0</td>\n",
       "    </tr>\n",
       "    <tr>\n",
       "      <th>hanzade</th>\n",
       "      <td>NaN</td>\n",
       "      <td>50.0</td>\n",
       "      <td>NaN</td>\n",
       "    </tr>\n",
       "    <tr>\n",
       "      <th>seyh</th>\n",
       "      <td>NaN</td>\n",
       "      <td>NaN</td>\n",
       "      <td>NaN</td>\n",
       "    </tr>\n",
       "  </tbody>\n",
       "</table>\n",
       "</div>"
      ],
      "text/plain": [
       "         jan   feb  march\n",
       "nurhat   NaN   NaN    NaN\n",
       "baydag   NaN   NaN   40.0\n",
       "hanzade  NaN  50.0    NaN\n",
       "seyh     NaN   NaN    NaN"
      ]
     },
     "execution_count": 93,
     "metadata": {},
     "output_type": "execute_result"
    }
   ],
   "source": [
    "new_dataframe[new_dataframe>30]"
   ]
  },
  {
   "cell_type": "code",
   "execution_count": 94,
   "id": "9e4b7888",
   "metadata": {
    "execution": {
     "iopub.execute_input": "2025-01-29T09:55:32.250205Z",
     "iopub.status.busy": "2025-01-29T09:55:32.249878Z",
     "iopub.status.idle": "2025-01-29T09:55:32.258049Z",
     "shell.execute_reply": "2025-01-29T09:55:32.257162Z"
    },
    "papermill": {
     "duration": 0.033189,
     "end_time": "2025-01-29T09:55:32.259591",
     "exception": false,
     "start_time": "2025-01-29T09:55:32.226402",
     "status": "completed"
    },
    "tags": []
   },
   "outputs": [
    {
     "data": {
      "text/html": [
       "<div>\n",
       "<style scoped>\n",
       "    .dataframe tbody tr th:only-of-type {\n",
       "        vertical-align: middle;\n",
       "    }\n",
       "\n",
       "    .dataframe tbody tr th {\n",
       "        vertical-align: top;\n",
       "    }\n",
       "\n",
       "    .dataframe thead th {\n",
       "        text-align: right;\n",
       "    }\n",
       "</style>\n",
       "<table border=\"1\" class=\"dataframe\">\n",
       "  <thead>\n",
       "    <tr style=\"text-align: right;\">\n",
       "      <th></th>\n",
       "      <th>jan</th>\n",
       "      <th>feb</th>\n",
       "      <th>march</th>\n",
       "    </tr>\n",
       "  </thead>\n",
       "  <tbody>\n",
       "    <tr>\n",
       "      <th>nurhat</th>\n",
       "      <td>10</td>\n",
       "      <td>20</td>\n",
       "      <td>30</td>\n",
       "    </tr>\n",
       "    <tr>\n",
       "      <th>baydag</th>\n",
       "      <td>20</td>\n",
       "      <td>30</td>\n",
       "      <td>40</td>\n",
       "    </tr>\n",
       "    <tr>\n",
       "      <th>hanzade</th>\n",
       "      <td>20</td>\n",
       "      <td>50</td>\n",
       "      <td>10</td>\n",
       "    </tr>\n",
       "    <tr>\n",
       "      <th>seyh</th>\n",
       "      <td>10</td>\n",
       "      <td>15</td>\n",
       "      <td>20</td>\n",
       "    </tr>\n",
       "  </tbody>\n",
       "</table>\n",
       "</div>"
      ],
      "text/plain": [
       "         jan  feb  march\n",
       "nurhat    10   20     30\n",
       "baydag    20   30     40\n",
       "hanzade   20   50     10\n",
       "seyh      10   15     20"
      ]
     },
     "execution_count": 94,
     "metadata": {},
     "output_type": "execute_result"
    }
   ],
   "source": [
    "new_dataframe"
   ]
  },
  {
   "cell_type": "code",
   "execution_count": 95,
   "id": "ef75ae74",
   "metadata": {
    "execution": {
     "iopub.execute_input": "2025-01-29T09:55:32.306996Z",
     "iopub.status.busy": "2025-01-29T09:55:32.306594Z",
     "iopub.status.idle": "2025-01-29T09:55:32.315641Z",
     "shell.execute_reply": "2025-01-29T09:55:32.314620Z"
    },
    "papermill": {
     "duration": 0.034833,
     "end_time": "2025-01-29T09:55:32.317352",
     "exception": false,
     "start_time": "2025-01-29T09:55:32.282519",
     "status": "completed"
    },
    "tags": []
   },
   "outputs": [
    {
     "data": {
      "text/html": [
       "<div>\n",
       "<style scoped>\n",
       "    .dataframe tbody tr th:only-of-type {\n",
       "        vertical-align: middle;\n",
       "    }\n",
       "\n",
       "    .dataframe tbody tr th {\n",
       "        vertical-align: top;\n",
       "    }\n",
       "\n",
       "    .dataframe thead th {\n",
       "        text-align: right;\n",
       "    }\n",
       "</style>\n",
       "<table border=\"1\" class=\"dataframe\">\n",
       "  <thead>\n",
       "    <tr style=\"text-align: right;\">\n",
       "      <th></th>\n",
       "      <th>jan</th>\n",
       "      <th>feb</th>\n",
       "      <th>march</th>\n",
       "    </tr>\n",
       "  </thead>\n",
       "  <tbody>\n",
       "    <tr>\n",
       "      <th>nurhat</th>\n",
       "      <td>10</td>\n",
       "      <td>20</td>\n",
       "      <td>30</td>\n",
       "    </tr>\n",
       "    <tr>\n",
       "      <th>baydag</th>\n",
       "      <td>20</td>\n",
       "      <td>30</td>\n",
       "      <td>40</td>\n",
       "    </tr>\n",
       "  </tbody>\n",
       "</table>\n",
       "</div>"
      ],
      "text/plain": [
       "        jan  feb  march\n",
       "nurhat   10   20     30\n",
       "baydag   20   30     40"
      ]
     },
     "execution_count": 95,
     "metadata": {},
     "output_type": "execute_result"
    }
   ],
   "source": [
    "new_dataframe[new_dataframe[\"march\"]>25]"
   ]
  },
  {
   "cell_type": "code",
   "execution_count": 96,
   "id": "278b5da1",
   "metadata": {
    "execution": {
     "iopub.execute_input": "2025-01-29T09:55:32.365072Z",
     "iopub.status.busy": "2025-01-29T09:55:32.364668Z",
     "iopub.status.idle": "2025-01-29T09:55:32.373025Z",
     "shell.execute_reply": "2025-01-29T09:55:32.372119Z"
    },
    "papermill": {
     "duration": 0.033913,
     "end_time": "2025-01-29T09:55:32.374498",
     "exception": false,
     "start_time": "2025-01-29T09:55:32.340585",
     "status": "completed"
    },
    "tags": []
   },
   "outputs": [
    {
     "data": {
      "text/html": [
       "<div>\n",
       "<style scoped>\n",
       "    .dataframe tbody tr th:only-of-type {\n",
       "        vertical-align: middle;\n",
       "    }\n",
       "\n",
       "    .dataframe tbody tr th {\n",
       "        vertical-align: top;\n",
       "    }\n",
       "\n",
       "    .dataframe thead th {\n",
       "        text-align: right;\n",
       "    }\n",
       "</style>\n",
       "<table border=\"1\" class=\"dataframe\">\n",
       "  <thead>\n",
       "    <tr style=\"text-align: right;\">\n",
       "      <th></th>\n",
       "      <th>jan</th>\n",
       "      <th>feb</th>\n",
       "      <th>march</th>\n",
       "    </tr>\n",
       "  </thead>\n",
       "  <tbody>\n",
       "    <tr>\n",
       "      <th>nurhat</th>\n",
       "      <td>10</td>\n",
       "      <td>20</td>\n",
       "      <td>30</td>\n",
       "    </tr>\n",
       "    <tr>\n",
       "      <th>baydag</th>\n",
       "      <td>20</td>\n",
       "      <td>30</td>\n",
       "      <td>40</td>\n",
       "    </tr>\n",
       "    <tr>\n",
       "      <th>hanzade</th>\n",
       "      <td>20</td>\n",
       "      <td>50</td>\n",
       "      <td>10</td>\n",
       "    </tr>\n",
       "    <tr>\n",
       "      <th>seyh</th>\n",
       "      <td>10</td>\n",
       "      <td>15</td>\n",
       "      <td>20</td>\n",
       "    </tr>\n",
       "  </tbody>\n",
       "</table>\n",
       "</div>"
      ],
      "text/plain": [
       "         jan  feb  march\n",
       "nurhat    10   20     30\n",
       "baydag    20   30     40\n",
       "hanzade   20   50     10\n",
       "seyh      10   15     20"
      ]
     },
     "execution_count": 96,
     "metadata": {},
     "output_type": "execute_result"
    }
   ],
   "source": [
    "new_dataframe"
   ]
  },
  {
   "cell_type": "code",
   "execution_count": 97,
   "id": "f0c53b31",
   "metadata": {
    "execution": {
     "iopub.execute_input": "2025-01-29T09:55:32.422264Z",
     "iopub.status.busy": "2025-01-29T09:55:32.421928Z",
     "iopub.status.idle": "2025-01-29T09:55:32.431617Z",
     "shell.execute_reply": "2025-01-29T09:55:32.430596Z"
    },
    "papermill": {
     "duration": 0.035391,
     "end_time": "2025-01-29T09:55:32.433331",
     "exception": false,
     "start_time": "2025-01-29T09:55:32.397940",
     "status": "completed"
    },
    "tags": []
   },
   "outputs": [
    {
     "data": {
      "text/html": [
       "<div>\n",
       "<style scoped>\n",
       "    .dataframe tbody tr th:only-of-type {\n",
       "        vertical-align: middle;\n",
       "    }\n",
       "\n",
       "    .dataframe tbody tr th {\n",
       "        vertical-align: top;\n",
       "    }\n",
       "\n",
       "    .dataframe thead th {\n",
       "        text-align: right;\n",
       "    }\n",
       "</style>\n",
       "<table border=\"1\" class=\"dataframe\">\n",
       "  <thead>\n",
       "    <tr style=\"text-align: right;\">\n",
       "      <th></th>\n",
       "      <th>index</th>\n",
       "      <th>jan</th>\n",
       "      <th>feb</th>\n",
       "      <th>march</th>\n",
       "    </tr>\n",
       "  </thead>\n",
       "  <tbody>\n",
       "    <tr>\n",
       "      <th>0</th>\n",
       "      <td>nurhat</td>\n",
       "      <td>10</td>\n",
       "      <td>20</td>\n",
       "      <td>30</td>\n",
       "    </tr>\n",
       "    <tr>\n",
       "      <th>1</th>\n",
       "      <td>baydag</td>\n",
       "      <td>20</td>\n",
       "      <td>30</td>\n",
       "      <td>40</td>\n",
       "    </tr>\n",
       "    <tr>\n",
       "      <th>2</th>\n",
       "      <td>hanzade</td>\n",
       "      <td>20</td>\n",
       "      <td>50</td>\n",
       "      <td>10</td>\n",
       "    </tr>\n",
       "    <tr>\n",
       "      <th>3</th>\n",
       "      <td>seyh</td>\n",
       "      <td>10</td>\n",
       "      <td>15</td>\n",
       "      <td>20</td>\n",
       "    </tr>\n",
       "  </tbody>\n",
       "</table>\n",
       "</div>"
      ],
      "text/plain": [
       "     index  jan  feb  march\n",
       "0   nurhat   10   20     30\n",
       "1   baydag   20   30     40\n",
       "2  hanzade   20   50     10\n",
       "3     seyh   10   15     20"
      ]
     },
     "execution_count": 97,
     "metadata": {},
     "output_type": "execute_result"
    }
   ],
   "source": [
    "new_dataframe.reset_index()"
   ]
  },
  {
   "cell_type": "code",
   "execution_count": 98,
   "id": "d0eb5502",
   "metadata": {
    "execution": {
     "iopub.execute_input": "2025-01-29T09:55:32.482534Z",
     "iopub.status.busy": "2025-01-29T09:55:32.482179Z",
     "iopub.status.idle": "2025-01-29T09:55:32.490175Z",
     "shell.execute_reply": "2025-01-29T09:55:32.489319Z"
    },
    "papermill": {
     "duration": 0.03441,
     "end_time": "2025-01-29T09:55:32.491650",
     "exception": false,
     "start_time": "2025-01-29T09:55:32.457240",
     "status": "completed"
    },
    "tags": []
   },
   "outputs": [
    {
     "data": {
      "text/html": [
       "<div>\n",
       "<style scoped>\n",
       "    .dataframe tbody tr th:only-of-type {\n",
       "        vertical-align: middle;\n",
       "    }\n",
       "\n",
       "    .dataframe tbody tr th {\n",
       "        vertical-align: top;\n",
       "    }\n",
       "\n",
       "    .dataframe thead th {\n",
       "        text-align: right;\n",
       "    }\n",
       "</style>\n",
       "<table border=\"1\" class=\"dataframe\">\n",
       "  <thead>\n",
       "    <tr style=\"text-align: right;\">\n",
       "      <th></th>\n",
       "      <th>jan</th>\n",
       "      <th>feb</th>\n",
       "      <th>march</th>\n",
       "    </tr>\n",
       "  </thead>\n",
       "  <tbody>\n",
       "    <tr>\n",
       "      <th>nurhat</th>\n",
       "      <td>10</td>\n",
       "      <td>20</td>\n",
       "      <td>30</td>\n",
       "    </tr>\n",
       "    <tr>\n",
       "      <th>baydag</th>\n",
       "      <td>20</td>\n",
       "      <td>30</td>\n",
       "      <td>40</td>\n",
       "    </tr>\n",
       "    <tr>\n",
       "      <th>hanzade</th>\n",
       "      <td>20</td>\n",
       "      <td>50</td>\n",
       "      <td>10</td>\n",
       "    </tr>\n",
       "    <tr>\n",
       "      <th>seyh</th>\n",
       "      <td>10</td>\n",
       "      <td>15</td>\n",
       "      <td>20</td>\n",
       "    </tr>\n",
       "  </tbody>\n",
       "</table>\n",
       "</div>"
      ],
      "text/plain": [
       "         jan  feb  march\n",
       "nurhat    10   20     30\n",
       "baydag    20   30     40\n",
       "hanzade   20   50     10\n",
       "seyh      10   15     20"
      ]
     },
     "execution_count": 98,
     "metadata": {},
     "output_type": "execute_result"
    }
   ],
   "source": [
    "new_dataframe"
   ]
  },
  {
   "cell_type": "code",
   "execution_count": null,
   "id": "40ea19e2",
   "metadata": {
    "papermill": {
     "duration": 0.022859,
     "end_time": "2025-01-29T09:55:32.540138",
     "exception": false,
     "start_time": "2025-01-29T09:55:32.517279",
     "status": "completed"
    },
    "tags": []
   },
   "outputs": [],
   "source": []
  },
  {
   "cell_type": "code",
   "execution_count": 99,
   "id": "9e6c041f",
   "metadata": {
    "execution": {
     "iopub.execute_input": "2025-01-29T09:55:32.588064Z",
     "iopub.status.busy": "2025-01-29T09:55:32.587650Z",
     "iopub.status.idle": "2025-01-29T09:55:32.596309Z",
     "shell.execute_reply": "2025-01-29T09:55:32.595454Z"
    },
    "papermill": {
     "duration": 0.034675,
     "end_time": "2025-01-29T09:55:32.598152",
     "exception": false,
     "start_time": "2025-01-29T09:55:32.563477",
     "status": "completed"
    },
    "tags": []
   },
   "outputs": [
    {
     "data": {
      "text/html": [
       "<div>\n",
       "<style scoped>\n",
       "    .dataframe tbody tr th:only-of-type {\n",
       "        vertical-align: middle;\n",
       "    }\n",
       "\n",
       "    .dataframe tbody tr th {\n",
       "        vertical-align: top;\n",
       "    }\n",
       "\n",
       "    .dataframe thead th {\n",
       "        text-align: right;\n",
       "    }\n",
       "</style>\n",
       "<table border=\"1\" class=\"dataframe\">\n",
       "  <thead>\n",
       "    <tr style=\"text-align: right;\">\n",
       "      <th></th>\n",
       "      <th>jan</th>\n",
       "      <th>feb</th>\n",
       "      <th>march</th>\n",
       "    </tr>\n",
       "  </thead>\n",
       "  <tbody>\n",
       "    <tr>\n",
       "      <th>nurhat</th>\n",
       "      <td>10</td>\n",
       "      <td>20</td>\n",
       "      <td>30</td>\n",
       "    </tr>\n",
       "    <tr>\n",
       "      <th>baydag</th>\n",
       "      <td>20</td>\n",
       "      <td>30</td>\n",
       "      <td>40</td>\n",
       "    </tr>\n",
       "    <tr>\n",
       "      <th>hanzade</th>\n",
       "      <td>20</td>\n",
       "      <td>50</td>\n",
       "      <td>10</td>\n",
       "    </tr>\n",
       "    <tr>\n",
       "      <th>seyh</th>\n",
       "      <td>10</td>\n",
       "      <td>15</td>\n",
       "      <td>20</td>\n",
       "    </tr>\n",
       "  </tbody>\n",
       "</table>\n",
       "</div>"
      ],
      "text/plain": [
       "         jan  feb  march\n",
       "nurhat    10   20     30\n",
       "baydag    20   30     40\n",
       "hanzade   20   50     10\n",
       "seyh      10   15     20"
      ]
     },
     "execution_count": 99,
     "metadata": {},
     "output_type": "execute_result"
    }
   ],
   "source": [
    "new_dataframe"
   ]
  },
  {
   "cell_type": "code",
   "execution_count": 100,
   "id": "335b03b0",
   "metadata": {
    "execution": {
     "iopub.execute_input": "2025-01-29T09:55:32.650200Z",
     "iopub.status.busy": "2025-01-29T09:55:32.649860Z",
     "iopub.status.idle": "2025-01-29T09:55:32.654600Z",
     "shell.execute_reply": "2025-01-29T09:55:32.653664Z"
    },
    "papermill": {
     "duration": 0.032394,
     "end_time": "2025-01-29T09:55:32.656245",
     "exception": false,
     "start_time": "2025-01-29T09:55:32.623851",
     "status": "completed"
    },
    "tags": []
   },
   "outputs": [],
   "source": [
    "new_dataframe[\"NewIndex\"]=[\"Jam\",\"Lar\",\"Kir\",\"Robert\"]"
   ]
  },
  {
   "cell_type": "code",
   "execution_count": 101,
   "id": "376f1758",
   "metadata": {
    "execution": {
     "iopub.execute_input": "2025-01-29T09:55:32.704890Z",
     "iopub.status.busy": "2025-01-29T09:55:32.704512Z",
     "iopub.status.idle": "2025-01-29T09:55:32.712822Z",
     "shell.execute_reply": "2025-01-29T09:55:32.712002Z"
    },
    "papermill": {
     "duration": 0.034391,
     "end_time": "2025-01-29T09:55:32.714402",
     "exception": false,
     "start_time": "2025-01-29T09:55:32.680011",
     "status": "completed"
    },
    "tags": []
   },
   "outputs": [
    {
     "data": {
      "text/html": [
       "<div>\n",
       "<style scoped>\n",
       "    .dataframe tbody tr th:only-of-type {\n",
       "        vertical-align: middle;\n",
       "    }\n",
       "\n",
       "    .dataframe tbody tr th {\n",
       "        vertical-align: top;\n",
       "    }\n",
       "\n",
       "    .dataframe thead th {\n",
       "        text-align: right;\n",
       "    }\n",
       "</style>\n",
       "<table border=\"1\" class=\"dataframe\">\n",
       "  <thead>\n",
       "    <tr style=\"text-align: right;\">\n",
       "      <th></th>\n",
       "      <th>jan</th>\n",
       "      <th>feb</th>\n",
       "      <th>march</th>\n",
       "      <th>NewIndex</th>\n",
       "    </tr>\n",
       "  </thead>\n",
       "  <tbody>\n",
       "    <tr>\n",
       "      <th>nurhat</th>\n",
       "      <td>10</td>\n",
       "      <td>20</td>\n",
       "      <td>30</td>\n",
       "      <td>Jam</td>\n",
       "    </tr>\n",
       "    <tr>\n",
       "      <th>baydag</th>\n",
       "      <td>20</td>\n",
       "      <td>30</td>\n",
       "      <td>40</td>\n",
       "      <td>Lar</td>\n",
       "    </tr>\n",
       "    <tr>\n",
       "      <th>hanzade</th>\n",
       "      <td>20</td>\n",
       "      <td>50</td>\n",
       "      <td>10</td>\n",
       "      <td>Kir</td>\n",
       "    </tr>\n",
       "    <tr>\n",
       "      <th>seyh</th>\n",
       "      <td>10</td>\n",
       "      <td>15</td>\n",
       "      <td>20</td>\n",
       "      <td>Robert</td>\n",
       "    </tr>\n",
       "  </tbody>\n",
       "</table>\n",
       "</div>"
      ],
      "text/plain": [
       "         jan  feb  march NewIndex\n",
       "nurhat    10   20     30      Jam\n",
       "baydag    20   30     40      Lar\n",
       "hanzade   20   50     10      Kir\n",
       "seyh      10   15     20   Robert"
      ]
     },
     "execution_count": 101,
     "metadata": {},
     "output_type": "execute_result"
    }
   ],
   "source": [
    "new_dataframe\n"
   ]
  },
  {
   "cell_type": "code",
   "execution_count": 102,
   "id": "a857f238",
   "metadata": {
    "execution": {
     "iopub.execute_input": "2025-01-29T09:55:32.763425Z",
     "iopub.status.busy": "2025-01-29T09:55:32.763108Z",
     "iopub.status.idle": "2025-01-29T09:55:32.772407Z",
     "shell.execute_reply": "2025-01-29T09:55:32.771365Z"
    },
    "papermill": {
     "duration": 0.035638,
     "end_time": "2025-01-29T09:55:32.774009",
     "exception": false,
     "start_time": "2025-01-29T09:55:32.738371",
     "status": "completed"
    },
    "tags": []
   },
   "outputs": [
    {
     "data": {
      "text/html": [
       "<div>\n",
       "<style scoped>\n",
       "    .dataframe tbody tr th:only-of-type {\n",
       "        vertical-align: middle;\n",
       "    }\n",
       "\n",
       "    .dataframe tbody tr th {\n",
       "        vertical-align: top;\n",
       "    }\n",
       "\n",
       "    .dataframe thead th {\n",
       "        text-align: right;\n",
       "    }\n",
       "</style>\n",
       "<table border=\"1\" class=\"dataframe\">\n",
       "  <thead>\n",
       "    <tr style=\"text-align: right;\">\n",
       "      <th></th>\n",
       "      <th>jan</th>\n",
       "      <th>feb</th>\n",
       "      <th>march</th>\n",
       "    </tr>\n",
       "    <tr>\n",
       "      <th>NewIndex</th>\n",
       "      <th></th>\n",
       "      <th></th>\n",
       "      <th></th>\n",
       "    </tr>\n",
       "  </thead>\n",
       "  <tbody>\n",
       "    <tr>\n",
       "      <th>Jam</th>\n",
       "      <td>10</td>\n",
       "      <td>20</td>\n",
       "      <td>30</td>\n",
       "    </tr>\n",
       "    <tr>\n",
       "      <th>Lar</th>\n",
       "      <td>20</td>\n",
       "      <td>30</td>\n",
       "      <td>40</td>\n",
       "    </tr>\n",
       "    <tr>\n",
       "      <th>Kir</th>\n",
       "      <td>20</td>\n",
       "      <td>50</td>\n",
       "      <td>10</td>\n",
       "    </tr>\n",
       "    <tr>\n",
       "      <th>Robert</th>\n",
       "      <td>10</td>\n",
       "      <td>15</td>\n",
       "      <td>20</td>\n",
       "    </tr>\n",
       "  </tbody>\n",
       "</table>\n",
       "</div>"
      ],
      "text/plain": [
       "          jan  feb  march\n",
       "NewIndex                 \n",
       "Jam        10   20     30\n",
       "Lar        20   30     40\n",
       "Kir        20   50     10\n",
       "Robert     10   15     20"
      ]
     },
     "execution_count": 102,
     "metadata": {},
     "output_type": "execute_result"
    }
   ],
   "source": [
    "new_dataframe.set_index(\"NewIndex\")"
   ]
  },
  {
   "cell_type": "code",
   "execution_count": 103,
   "id": "bc04afcc",
   "metadata": {
    "execution": {
     "iopub.execute_input": "2025-01-29T09:55:32.823416Z",
     "iopub.status.busy": "2025-01-29T09:55:32.823071Z",
     "iopub.status.idle": "2025-01-29T09:55:32.831937Z",
     "shell.execute_reply": "2025-01-29T09:55:32.830916Z"
    },
    "papermill": {
     "duration": 0.03528,
     "end_time": "2025-01-29T09:55:32.833408",
     "exception": false,
     "start_time": "2025-01-29T09:55:32.798128",
     "status": "completed"
    },
    "tags": []
   },
   "outputs": [
    {
     "data": {
      "text/html": [
       "<div>\n",
       "<style scoped>\n",
       "    .dataframe tbody tr th:only-of-type {\n",
       "        vertical-align: middle;\n",
       "    }\n",
       "\n",
       "    .dataframe tbody tr th {\n",
       "        vertical-align: top;\n",
       "    }\n",
       "\n",
       "    .dataframe thead th {\n",
       "        text-align: right;\n",
       "    }\n",
       "</style>\n",
       "<table border=\"1\" class=\"dataframe\">\n",
       "  <thead>\n",
       "    <tr style=\"text-align: right;\">\n",
       "      <th></th>\n",
       "      <th>jan</th>\n",
       "      <th>feb</th>\n",
       "      <th>march</th>\n",
       "      <th>NewIndex</th>\n",
       "    </tr>\n",
       "  </thead>\n",
       "  <tbody>\n",
       "    <tr>\n",
       "      <th>nurhat</th>\n",
       "      <td>10</td>\n",
       "      <td>20</td>\n",
       "      <td>30</td>\n",
       "      <td>Jam</td>\n",
       "    </tr>\n",
       "    <tr>\n",
       "      <th>baydag</th>\n",
       "      <td>20</td>\n",
       "      <td>30</td>\n",
       "      <td>40</td>\n",
       "      <td>Lar</td>\n",
       "    </tr>\n",
       "    <tr>\n",
       "      <th>hanzade</th>\n",
       "      <td>20</td>\n",
       "      <td>50</td>\n",
       "      <td>10</td>\n",
       "      <td>Kir</td>\n",
       "    </tr>\n",
       "    <tr>\n",
       "      <th>seyh</th>\n",
       "      <td>10</td>\n",
       "      <td>15</td>\n",
       "      <td>20</td>\n",
       "      <td>Robert</td>\n",
       "    </tr>\n",
       "  </tbody>\n",
       "</table>\n",
       "</div>"
      ],
      "text/plain": [
       "         jan  feb  march NewIndex\n",
       "nurhat    10   20     30      Jam\n",
       "baydag    20   30     40      Lar\n",
       "hanzade   20   50     10      Kir\n",
       "seyh      10   15     20   Robert"
      ]
     },
     "execution_count": 103,
     "metadata": {},
     "output_type": "execute_result"
    }
   ],
   "source": [
    "new_dataframe"
   ]
  },
  {
   "cell_type": "code",
   "execution_count": 104,
   "id": "08cad75d",
   "metadata": {
    "execution": {
     "iopub.execute_input": "2025-01-29T09:55:32.883459Z",
     "iopub.status.busy": "2025-01-29T09:55:32.883136Z",
     "iopub.status.idle": "2025-01-29T09:55:32.887784Z",
     "shell.execute_reply": "2025-01-29T09:55:32.886969Z"
    },
    "papermill": {
     "duration": 0.031194,
     "end_time": "2025-01-29T09:55:32.889264",
     "exception": false,
     "start_time": "2025-01-29T09:55:32.858070",
     "status": "completed"
    },
    "tags": []
   },
   "outputs": [],
   "source": [
    "new_dataframe.drop(\"NewIndex\",axis=1,inplace=True)"
   ]
  },
  {
   "cell_type": "code",
   "execution_count": 105,
   "id": "5ad05cd9",
   "metadata": {
    "execution": {
     "iopub.execute_input": "2025-01-29T09:55:32.939155Z",
     "iopub.status.busy": "2025-01-29T09:55:32.938773Z",
     "iopub.status.idle": "2025-01-29T09:55:32.946820Z",
     "shell.execute_reply": "2025-01-29T09:55:32.946006Z"
    },
    "papermill": {
     "duration": 0.034967,
     "end_time": "2025-01-29T09:55:32.948467",
     "exception": false,
     "start_time": "2025-01-29T09:55:32.913500",
     "status": "completed"
    },
    "tags": []
   },
   "outputs": [
    {
     "data": {
      "text/html": [
       "<div>\n",
       "<style scoped>\n",
       "    .dataframe tbody tr th:only-of-type {\n",
       "        vertical-align: middle;\n",
       "    }\n",
       "\n",
       "    .dataframe tbody tr th {\n",
       "        vertical-align: top;\n",
       "    }\n",
       "\n",
       "    .dataframe thead th {\n",
       "        text-align: right;\n",
       "    }\n",
       "</style>\n",
       "<table border=\"1\" class=\"dataframe\">\n",
       "  <thead>\n",
       "    <tr style=\"text-align: right;\">\n",
       "      <th></th>\n",
       "      <th>jan</th>\n",
       "      <th>feb</th>\n",
       "      <th>march</th>\n",
       "    </tr>\n",
       "  </thead>\n",
       "  <tbody>\n",
       "    <tr>\n",
       "      <th>nurhat</th>\n",
       "      <td>10</td>\n",
       "      <td>20</td>\n",
       "      <td>30</td>\n",
       "    </tr>\n",
       "    <tr>\n",
       "      <th>baydag</th>\n",
       "      <td>20</td>\n",
       "      <td>30</td>\n",
       "      <td>40</td>\n",
       "    </tr>\n",
       "    <tr>\n",
       "      <th>hanzade</th>\n",
       "      <td>20</td>\n",
       "      <td>50</td>\n",
       "      <td>10</td>\n",
       "    </tr>\n",
       "    <tr>\n",
       "      <th>seyh</th>\n",
       "      <td>10</td>\n",
       "      <td>15</td>\n",
       "      <td>20</td>\n",
       "    </tr>\n",
       "  </tbody>\n",
       "</table>\n",
       "</div>"
      ],
      "text/plain": [
       "         jan  feb  march\n",
       "nurhat    10   20     30\n",
       "baydag    20   30     40\n",
       "hanzade   20   50     10\n",
       "seyh      10   15     20"
      ]
     },
     "execution_count": 105,
     "metadata": {},
     "output_type": "execute_result"
    }
   ],
   "source": [
    "new_dataframe"
   ]
  },
  {
   "cell_type": "code",
   "execution_count": null,
   "id": "fcfaba36",
   "metadata": {
    "papermill": {
     "duration": 0.024135,
     "end_time": "2025-01-29T09:55:32.996915",
     "exception": false,
     "start_time": "2025-01-29T09:55:32.972780",
     "status": "completed"
    },
    "tags": []
   },
   "outputs": [],
   "source": []
  }
 ],
 "metadata": {
  "kaggle": {
   "accelerator": "none",
   "dataSources": [],
   "isGpuEnabled": false,
   "isInternetEnabled": true,
   "language": "python",
   "sourceType": "notebook"
  },
  "kernelspec": {
   "display_name": "Python 3",
   "language": "python",
   "name": "python3"
  },
  "language_info": {
   "codemirror_mode": {
    "name": "ipython",
    "version": 3
   },
   "file_extension": ".py",
   "mimetype": "text/x-python",
   "name": "python",
   "nbconvert_exporter": "python",
   "pygments_lexer": "ipython3",
   "version": "3.10.12"
  },
  "papermill": {
   "default_parameters": {},
   "duration": 9.020175,
   "end_time": "2025-01-29T09:55:33.540374",
   "environment_variables": {},
   "exception": null,
   "input_path": "__notebook__.ipynb",
   "output_path": "__notebook__.ipynb",
   "parameters": {},
   "start_time": "2025-01-29T09:55:24.520199",
   "version": "2.6.0"
  }
 },
 "nbformat": 4,
 "nbformat_minor": 5
}
