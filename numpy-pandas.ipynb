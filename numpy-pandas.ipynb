{
 "cells": [
  {
   "cell_type": "code",
   "execution_count": 1,
   "id": "1d2824ad",
   "metadata": {
    "execution": {
     "iopub.execute_input": "2025-01-30T22:55:44.004004Z",
     "iopub.status.busy": "2025-01-30T22:55:44.003648Z",
     "iopub.status.idle": "2025-01-30T22:55:44.891082Z",
     "shell.execute_reply": "2025-01-30T22:55:44.889972Z"
    },
    "papermill": {
     "duration": 0.898941,
     "end_time": "2025-01-30T22:55:44.893126",
     "exception": false,
     "start_time": "2025-01-30T22:55:43.994185",
     "status": "completed"
    },
    "tags": []
   },
   "outputs": [],
   "source": [
    "import numpy as np\n",
    "import pandas as pd"
   ]
  },
  {
   "cell_type": "code",
   "execution_count": 2,
   "id": "e690464d",
   "metadata": {
    "execution": {
     "iopub.execute_input": "2025-01-30T22:55:44.906972Z",
     "iopub.status.busy": "2025-01-30T22:55:44.906502Z",
     "iopub.status.idle": "2025-01-30T22:55:44.911217Z",
     "shell.execute_reply": "2025-01-30T22:55:44.910160Z"
    },
    "papermill": {
     "duration": 0.01313,
     "end_time": "2025-01-30T22:55:44.912875",
     "exception": false,
     "start_time": "2025-01-30T22:55:44.899745",
     "status": "completed"
    },
    "tags": []
   },
   "outputs": [],
   "source": [
    "my_dict={\"James\":[40,30,np.nan],\"Kirk\":[20,np.nan,50],\"Lars\":[30,50,40]}"
   ]
  },
  {
   "cell_type": "code",
   "execution_count": 3,
   "id": "96204cf2",
   "metadata": {
    "execution": {
     "iopub.execute_input": "2025-01-30T22:55:44.928060Z",
     "iopub.status.busy": "2025-01-30T22:55:44.927708Z",
     "iopub.status.idle": "2025-01-30T22:55:44.934211Z",
     "shell.execute_reply": "2025-01-30T22:55:44.933139Z"
    },
    "papermill": {
     "duration": 0.014995,
     "end_time": "2025-01-30T22:55:44.935751",
     "exception": false,
     "start_time": "2025-01-30T22:55:44.920756",
     "status": "completed"
    },
    "tags": []
   },
   "outputs": [],
   "source": [
    "my_dataframe=pd.DataFrame(my_dict)"
   ]
  },
  {
   "cell_type": "code",
   "execution_count": 4,
   "id": "4f5508f0",
   "metadata": {
    "execution": {
     "iopub.execute_input": "2025-01-30T22:55:44.948980Z",
     "iopub.status.busy": "2025-01-30T22:55:44.948680Z",
     "iopub.status.idle": "2025-01-30T22:55:44.978078Z",
     "shell.execute_reply": "2025-01-30T22:55:44.976995Z"
    },
    "papermill": {
     "duration": 0.038055,
     "end_time": "2025-01-30T22:55:44.979877",
     "exception": false,
     "start_time": "2025-01-30T22:55:44.941822",
     "status": "completed"
    },
    "tags": []
   },
   "outputs": [
    {
     "name": "stderr",
     "output_type": "stream",
     "text": [
      "/usr/local/lib/python3.10/dist-packages/pandas/io/formats/format.py:1458: RuntimeWarning: invalid value encountered in greater\n",
      "  has_large_values = (abs_vals > 1e6).any()\n",
      "/usr/local/lib/python3.10/dist-packages/pandas/io/formats/format.py:1459: RuntimeWarning: invalid value encountered in less\n",
      "  has_small_values = ((abs_vals < 10 ** (-self.digits)) & (abs_vals > 0)).any()\n",
      "/usr/local/lib/python3.10/dist-packages/pandas/io/formats/format.py:1459: RuntimeWarning: invalid value encountered in greater\n",
      "  has_small_values = ((abs_vals < 10 ** (-self.digits)) & (abs_vals > 0)).any()\n"
     ]
    },
    {
     "data": {
      "text/html": [
       "<div>\n",
       "<style scoped>\n",
       "    .dataframe tbody tr th:only-of-type {\n",
       "        vertical-align: middle;\n",
       "    }\n",
       "\n",
       "    .dataframe tbody tr th {\n",
       "        vertical-align: top;\n",
       "    }\n",
       "\n",
       "    .dataframe thead th {\n",
       "        text-align: right;\n",
       "    }\n",
       "</style>\n",
       "<table border=\"1\" class=\"dataframe\">\n",
       "  <thead>\n",
       "    <tr style=\"text-align: right;\">\n",
       "      <th></th>\n",
       "      <th>James</th>\n",
       "      <th>Kirk</th>\n",
       "      <th>Lars</th>\n",
       "    </tr>\n",
       "  </thead>\n",
       "  <tbody>\n",
       "    <tr>\n",
       "      <th>0</th>\n",
       "      <td>40.0</td>\n",
       "      <td>20.0</td>\n",
       "      <td>30</td>\n",
       "    </tr>\n",
       "    <tr>\n",
       "      <th>1</th>\n",
       "      <td>30.0</td>\n",
       "      <td>NaN</td>\n",
       "      <td>50</td>\n",
       "    </tr>\n",
       "    <tr>\n",
       "      <th>2</th>\n",
       "      <td>NaN</td>\n",
       "      <td>50.0</td>\n",
       "      <td>40</td>\n",
       "    </tr>\n",
       "  </tbody>\n",
       "</table>\n",
       "</div>"
      ],
      "text/plain": [
       "   James  Kirk  Lars\n",
       "0   40.0  20.0    30\n",
       "1   30.0   NaN    50\n",
       "2    NaN  50.0    40"
      ]
     },
     "execution_count": 4,
     "metadata": {},
     "output_type": "execute_result"
    }
   ],
   "source": [
    "my_dataframe"
   ]
  },
  {
   "cell_type": "code",
   "execution_count": 5,
   "id": "b0405564",
   "metadata": {
    "execution": {
     "iopub.execute_input": "2025-01-30T22:55:44.994038Z",
     "iopub.status.busy": "2025-01-30T22:55:44.993694Z",
     "iopub.status.idle": "2025-01-30T22:55:45.011038Z",
     "shell.execute_reply": "2025-01-30T22:55:45.010034Z"
    },
    "papermill": {
     "duration": 0.026176,
     "end_time": "2025-01-30T22:55:45.012525",
     "exception": false,
     "start_time": "2025-01-30T22:55:44.986349",
     "status": "completed"
    },
    "tags": []
   },
   "outputs": [
    {
     "data": {
      "text/html": [
       "<div>\n",
       "<style scoped>\n",
       "    .dataframe tbody tr th:only-of-type {\n",
       "        vertical-align: middle;\n",
       "    }\n",
       "\n",
       "    .dataframe tbody tr th {\n",
       "        vertical-align: top;\n",
       "    }\n",
       "\n",
       "    .dataframe thead th {\n",
       "        text-align: right;\n",
       "    }\n",
       "</style>\n",
       "<table border=\"1\" class=\"dataframe\">\n",
       "  <thead>\n",
       "    <tr style=\"text-align: right;\">\n",
       "      <th></th>\n",
       "      <th>James</th>\n",
       "      <th>Kirk</th>\n",
       "      <th>Lars</th>\n",
       "    </tr>\n",
       "  </thead>\n",
       "  <tbody>\n",
       "    <tr>\n",
       "      <th>0</th>\n",
       "      <td>40.0</td>\n",
       "      <td>20.0</td>\n",
       "      <td>30</td>\n",
       "    </tr>\n",
       "  </tbody>\n",
       "</table>\n",
       "</div>"
      ],
      "text/plain": [
       "   James  Kirk  Lars\n",
       "0   40.0  20.0    30"
      ]
     },
     "execution_count": 5,
     "metadata": {},
     "output_type": "execute_result"
    }
   ],
   "source": [
    "my_dataframe.dropna()"
   ]
  },
  {
   "cell_type": "code",
   "execution_count": 6,
   "id": "53909b07",
   "metadata": {
    "execution": {
     "iopub.execute_input": "2025-01-30T22:55:45.026906Z",
     "iopub.status.busy": "2025-01-30T22:55:45.026567Z",
     "iopub.status.idle": "2025-01-30T22:55:45.035592Z",
     "shell.execute_reply": "2025-01-30T22:55:45.034599Z"
    },
    "papermill": {
     "duration": 0.01792,
     "end_time": "2025-01-30T22:55:45.037331",
     "exception": false,
     "start_time": "2025-01-30T22:55:45.019411",
     "status": "completed"
    },
    "tags": []
   },
   "outputs": [
    {
     "data": {
      "text/html": [
       "<div>\n",
       "<style scoped>\n",
       "    .dataframe tbody tr th:only-of-type {\n",
       "        vertical-align: middle;\n",
       "    }\n",
       "\n",
       "    .dataframe tbody tr th {\n",
       "        vertical-align: top;\n",
       "    }\n",
       "\n",
       "    .dataframe thead th {\n",
       "        text-align: right;\n",
       "    }\n",
       "</style>\n",
       "<table border=\"1\" class=\"dataframe\">\n",
       "  <thead>\n",
       "    <tr style=\"text-align: right;\">\n",
       "      <th></th>\n",
       "      <th>Lars</th>\n",
       "    </tr>\n",
       "  </thead>\n",
       "  <tbody>\n",
       "    <tr>\n",
       "      <th>0</th>\n",
       "      <td>30</td>\n",
       "    </tr>\n",
       "    <tr>\n",
       "      <th>1</th>\n",
       "      <td>50</td>\n",
       "    </tr>\n",
       "    <tr>\n",
       "      <th>2</th>\n",
       "      <td>40</td>\n",
       "    </tr>\n",
       "  </tbody>\n",
       "</table>\n",
       "</div>"
      ],
      "text/plain": [
       "   Lars\n",
       "0    30\n",
       "1    50\n",
       "2    40"
      ]
     },
     "execution_count": 6,
     "metadata": {},
     "output_type": "execute_result"
    }
   ],
   "source": [
    "my_dataframe.dropna(axis=1)"
   ]
  },
  {
   "cell_type": "code",
   "execution_count": 7,
   "id": "2d5cc2bd",
   "metadata": {
    "execution": {
     "iopub.execute_input": "2025-01-30T22:55:45.052153Z",
     "iopub.status.busy": "2025-01-30T22:55:45.051834Z",
     "iopub.status.idle": "2025-01-30T22:55:45.056356Z",
     "shell.execute_reply": "2025-01-30T22:55:45.055331Z"
    },
    "papermill": {
     "duration": 0.013781,
     "end_time": "2025-01-30T22:55:45.057947",
     "exception": false,
     "start_time": "2025-01-30T22:55:45.044166",
     "status": "completed"
    },
    "tags": []
   },
   "outputs": [],
   "source": [
    "new_dict={\"James\":[40,30,np.nan],\"Kirk\":[20,np.nan,50],\"Lars\":[30,50,40],\"Rob\":[45,np.nan,np.nan]}"
   ]
  },
  {
   "cell_type": "code",
   "execution_count": 8,
   "id": "93b09fee",
   "metadata": {
    "execution": {
     "iopub.execute_input": "2025-01-30T22:55:45.073153Z",
     "iopub.status.busy": "2025-01-30T22:55:45.072832Z",
     "iopub.status.idle": "2025-01-30T22:55:45.077597Z",
     "shell.execute_reply": "2025-01-30T22:55:45.076686Z"
    },
    "papermill": {
     "duration": 0.014223,
     "end_time": "2025-01-30T22:55:45.079021",
     "exception": false,
     "start_time": "2025-01-30T22:55:45.064798",
     "status": "completed"
    },
    "tags": []
   },
   "outputs": [],
   "source": [
    "new_dataframe=pd.DataFrame(new_dict)"
   ]
  },
  {
   "cell_type": "code",
   "execution_count": 9,
   "id": "e9a22f0f",
   "metadata": {
    "execution": {
     "iopub.execute_input": "2025-01-30T22:55:45.093830Z",
     "iopub.status.busy": "2025-01-30T22:55:45.093511Z",
     "iopub.status.idle": "2025-01-30T22:55:45.104267Z",
     "shell.execute_reply": "2025-01-30T22:55:45.103207Z"
    },
    "papermill": {
     "duration": 0.019853,
     "end_time": "2025-01-30T22:55:45.105792",
     "exception": false,
     "start_time": "2025-01-30T22:55:45.085939",
     "status": "completed"
    },
    "tags": []
   },
   "outputs": [
    {
     "name": "stderr",
     "output_type": "stream",
     "text": [
      "/usr/local/lib/python3.10/dist-packages/pandas/io/formats/format.py:1458: RuntimeWarning: invalid value encountered in greater\n",
      "  has_large_values = (abs_vals > 1e6).any()\n",
      "/usr/local/lib/python3.10/dist-packages/pandas/io/formats/format.py:1459: RuntimeWarning: invalid value encountered in less\n",
      "  has_small_values = ((abs_vals < 10 ** (-self.digits)) & (abs_vals > 0)).any()\n",
      "/usr/local/lib/python3.10/dist-packages/pandas/io/formats/format.py:1459: RuntimeWarning: invalid value encountered in greater\n",
      "  has_small_values = ((abs_vals < 10 ** (-self.digits)) & (abs_vals > 0)).any()\n"
     ]
    },
    {
     "data": {
      "text/html": [
       "<div>\n",
       "<style scoped>\n",
       "    .dataframe tbody tr th:only-of-type {\n",
       "        vertical-align: middle;\n",
       "    }\n",
       "\n",
       "    .dataframe tbody tr th {\n",
       "        vertical-align: top;\n",
       "    }\n",
       "\n",
       "    .dataframe thead th {\n",
       "        text-align: right;\n",
       "    }\n",
       "</style>\n",
       "<table border=\"1\" class=\"dataframe\">\n",
       "  <thead>\n",
       "    <tr style=\"text-align: right;\">\n",
       "      <th></th>\n",
       "      <th>James</th>\n",
       "      <th>Kirk</th>\n",
       "      <th>Lars</th>\n",
       "      <th>Rob</th>\n",
       "    </tr>\n",
       "  </thead>\n",
       "  <tbody>\n",
       "    <tr>\n",
       "      <th>0</th>\n",
       "      <td>40.0</td>\n",
       "      <td>20.0</td>\n",
       "      <td>30</td>\n",
       "      <td>45.0</td>\n",
       "    </tr>\n",
       "    <tr>\n",
       "      <th>1</th>\n",
       "      <td>30.0</td>\n",
       "      <td>NaN</td>\n",
       "      <td>50</td>\n",
       "      <td>NaN</td>\n",
       "    </tr>\n",
       "    <tr>\n",
       "      <th>2</th>\n",
       "      <td>NaN</td>\n",
       "      <td>50.0</td>\n",
       "      <td>40</td>\n",
       "      <td>NaN</td>\n",
       "    </tr>\n",
       "  </tbody>\n",
       "</table>\n",
       "</div>"
      ],
      "text/plain": [
       "   James  Kirk  Lars   Rob\n",
       "0   40.0  20.0    30  45.0\n",
       "1   30.0   NaN    50   NaN\n",
       "2    NaN  50.0    40   NaN"
      ]
     },
     "execution_count": 9,
     "metadata": {},
     "output_type": "execute_result"
    }
   ],
   "source": [
    "new_dataframe"
   ]
  },
  {
   "cell_type": "code",
   "execution_count": 10,
   "id": "5ee7fefc",
   "metadata": {
    "execution": {
     "iopub.execute_input": "2025-01-30T22:55:45.121113Z",
     "iopub.status.busy": "2025-01-30T22:55:45.120798Z",
     "iopub.status.idle": "2025-01-30T22:55:45.132181Z",
     "shell.execute_reply": "2025-01-30T22:55:45.131004Z"
    },
    "papermill": {
     "duration": 0.020943,
     "end_time": "2025-01-30T22:55:45.133904",
     "exception": false,
     "start_time": "2025-01-30T22:55:45.112961",
     "status": "completed"
    },
    "tags": []
   },
   "outputs": [
    {
     "name": "stderr",
     "output_type": "stream",
     "text": [
      "/usr/local/lib/python3.10/dist-packages/pandas/io/formats/format.py:1458: RuntimeWarning: invalid value encountered in greater\n",
      "  has_large_values = (abs_vals > 1e6).any()\n",
      "/usr/local/lib/python3.10/dist-packages/pandas/io/formats/format.py:1459: RuntimeWarning: invalid value encountered in less\n",
      "  has_small_values = ((abs_vals < 10 ** (-self.digits)) & (abs_vals > 0)).any()\n",
      "/usr/local/lib/python3.10/dist-packages/pandas/io/formats/format.py:1459: RuntimeWarning: invalid value encountered in greater\n",
      "  has_small_values = ((abs_vals < 10 ** (-self.digits)) & (abs_vals > 0)).any()\n"
     ]
    },
    {
     "data": {
      "text/html": [
       "<div>\n",
       "<style scoped>\n",
       "    .dataframe tbody tr th:only-of-type {\n",
       "        vertical-align: middle;\n",
       "    }\n",
       "\n",
       "    .dataframe tbody tr th {\n",
       "        vertical-align: top;\n",
       "    }\n",
       "\n",
       "    .dataframe thead th {\n",
       "        text-align: right;\n",
       "    }\n",
       "</style>\n",
       "<table border=\"1\" class=\"dataframe\">\n",
       "  <thead>\n",
       "    <tr style=\"text-align: right;\">\n",
       "      <th></th>\n",
       "      <th>James</th>\n",
       "      <th>Kirk</th>\n",
       "      <th>Lars</th>\n",
       "    </tr>\n",
       "  </thead>\n",
       "  <tbody>\n",
       "    <tr>\n",
       "      <th>0</th>\n",
       "      <td>40.0</td>\n",
       "      <td>20.0</td>\n",
       "      <td>30</td>\n",
       "    </tr>\n",
       "    <tr>\n",
       "      <th>1</th>\n",
       "      <td>30.0</td>\n",
       "      <td>NaN</td>\n",
       "      <td>50</td>\n",
       "    </tr>\n",
       "    <tr>\n",
       "      <th>2</th>\n",
       "      <td>NaN</td>\n",
       "      <td>50.0</td>\n",
       "      <td>40</td>\n",
       "    </tr>\n",
       "  </tbody>\n",
       "</table>\n",
       "</div>"
      ],
      "text/plain": [
       "   James  Kirk  Lars\n",
       "0   40.0  20.0    30\n",
       "1   30.0   NaN    50\n",
       "2    NaN  50.0    40"
      ]
     },
     "execution_count": 10,
     "metadata": {},
     "output_type": "execute_result"
    }
   ],
   "source": [
    "new_dataframe.dropna(axis=1,thresh=2)"
   ]
  },
  {
   "cell_type": "code",
   "execution_count": 11,
   "id": "efd44d84",
   "metadata": {
    "execution": {
     "iopub.execute_input": "2025-01-30T22:55:45.149567Z",
     "iopub.status.busy": "2025-01-30T22:55:45.149202Z",
     "iopub.status.idle": "2025-01-30T22:55:45.160651Z",
     "shell.execute_reply": "2025-01-30T22:55:45.159674Z"
    },
    "papermill": {
     "duration": 0.020858,
     "end_time": "2025-01-30T22:55:45.162176",
     "exception": false,
     "start_time": "2025-01-30T22:55:45.141318",
     "status": "completed"
    },
    "tags": []
   },
   "outputs": [
    {
     "data": {
      "text/html": [
       "<div>\n",
       "<style scoped>\n",
       "    .dataframe tbody tr th:only-of-type {\n",
       "        vertical-align: middle;\n",
       "    }\n",
       "\n",
       "    .dataframe tbody tr th {\n",
       "        vertical-align: top;\n",
       "    }\n",
       "\n",
       "    .dataframe thead th {\n",
       "        text-align: right;\n",
       "    }\n",
       "</style>\n",
       "<table border=\"1\" class=\"dataframe\">\n",
       "  <thead>\n",
       "    <tr style=\"text-align: right;\">\n",
       "      <th></th>\n",
       "      <th>James</th>\n",
       "      <th>Kirk</th>\n",
       "      <th>Lars</th>\n",
       "      <th>Rob</th>\n",
       "    </tr>\n",
       "  </thead>\n",
       "  <tbody>\n",
       "    <tr>\n",
       "      <th>0</th>\n",
       "      <td>40.0</td>\n",
       "      <td>20.0</td>\n",
       "      <td>30</td>\n",
       "      <td>45.0</td>\n",
       "    </tr>\n",
       "    <tr>\n",
       "      <th>1</th>\n",
       "      <td>30.0</td>\n",
       "      <td>35.0</td>\n",
       "      <td>50</td>\n",
       "      <td>45.0</td>\n",
       "    </tr>\n",
       "    <tr>\n",
       "      <th>2</th>\n",
       "      <td>35.0</td>\n",
       "      <td>50.0</td>\n",
       "      <td>40</td>\n",
       "      <td>45.0</td>\n",
       "    </tr>\n",
       "  </tbody>\n",
       "</table>\n",
       "</div>"
      ],
      "text/plain": [
       "   James  Kirk  Lars   Rob\n",
       "0   40.0  20.0    30  45.0\n",
       "1   30.0  35.0    50  45.0\n",
       "2   35.0  50.0    40  45.0"
      ]
     },
     "execution_count": 11,
     "metadata": {},
     "output_type": "execute_result"
    }
   ],
   "source": [
    "new_dataframe.fillna(new_dataframe.mean())"
   ]
  },
  {
   "cell_type": "code",
   "execution_count": 12,
   "id": "447fcf26",
   "metadata": {
    "execution": {
     "iopub.execute_input": "2025-01-30T22:55:45.178035Z",
     "iopub.status.busy": "2025-01-30T22:55:45.177740Z",
     "iopub.status.idle": "2025-01-30T22:55:45.181934Z",
     "shell.execute_reply": "2025-01-30T22:55:45.181044Z"
    },
    "papermill": {
     "duration": 0.013779,
     "end_time": "2025-01-30T22:55:45.183449",
     "exception": false,
     "start_time": "2025-01-30T22:55:45.169670",
     "status": "completed"
    },
    "tags": []
   },
   "outputs": [],
   "source": [
    "salary_dict={\"Programming lenguage\":[\"Python\",\"Python\",\"Python\",\"Swift\",\"Java\",\"Java\"],\"Name\":[\"A\",\"B\",\"C\",\"D\",\"E\",\"F\"],\"Salary\":[100,90,80,70,60,50]}"
   ]
  },
  {
   "cell_type": "code",
   "execution_count": 13,
   "id": "02f9d027",
   "metadata": {
    "execution": {
     "iopub.execute_input": "2025-01-30T22:55:45.199204Z",
     "iopub.status.busy": "2025-01-30T22:55:45.198827Z",
     "iopub.status.idle": "2025-01-30T22:55:45.203556Z",
     "shell.execute_reply": "2025-01-30T22:55:45.202516Z"
    },
    "papermill": {
     "duration": 0.014362,
     "end_time": "2025-01-30T22:55:45.205064",
     "exception": false,
     "start_time": "2025-01-30T22:55:45.190702",
     "status": "completed"
    },
    "tags": []
   },
   "outputs": [],
   "source": [
    "salary_data=pd.DataFrame(salary_dict)"
   ]
  },
  {
   "cell_type": "code",
   "execution_count": 14,
   "id": "697a6bbf",
   "metadata": {
    "execution": {
     "iopub.execute_input": "2025-01-30T22:55:45.221214Z",
     "iopub.status.busy": "2025-01-30T22:55:45.220855Z",
     "iopub.status.idle": "2025-01-30T22:55:45.229433Z",
     "shell.execute_reply": "2025-01-30T22:55:45.228437Z"
    },
    "papermill": {
     "duration": 0.018263,
     "end_time": "2025-01-30T22:55:45.231060",
     "exception": false,
     "start_time": "2025-01-30T22:55:45.212797",
     "status": "completed"
    },
    "tags": []
   },
   "outputs": [
    {
     "data": {
      "text/html": [
       "<div>\n",
       "<style scoped>\n",
       "    .dataframe tbody tr th:only-of-type {\n",
       "        vertical-align: middle;\n",
       "    }\n",
       "\n",
       "    .dataframe tbody tr th {\n",
       "        vertical-align: top;\n",
       "    }\n",
       "\n",
       "    .dataframe thead th {\n",
       "        text-align: right;\n",
       "    }\n",
       "</style>\n",
       "<table border=\"1\" class=\"dataframe\">\n",
       "  <thead>\n",
       "    <tr style=\"text-align: right;\">\n",
       "      <th></th>\n",
       "      <th>Programming lenguage</th>\n",
       "      <th>Name</th>\n",
       "      <th>Salary</th>\n",
       "    </tr>\n",
       "  </thead>\n",
       "  <tbody>\n",
       "    <tr>\n",
       "      <th>0</th>\n",
       "      <td>Python</td>\n",
       "      <td>A</td>\n",
       "      <td>100</td>\n",
       "    </tr>\n",
       "    <tr>\n",
       "      <th>1</th>\n",
       "      <td>Python</td>\n",
       "      <td>B</td>\n",
       "      <td>90</td>\n",
       "    </tr>\n",
       "    <tr>\n",
       "      <th>2</th>\n",
       "      <td>Python</td>\n",
       "      <td>C</td>\n",
       "      <td>80</td>\n",
       "    </tr>\n",
       "    <tr>\n",
       "      <th>3</th>\n",
       "      <td>Swift</td>\n",
       "      <td>D</td>\n",
       "      <td>70</td>\n",
       "    </tr>\n",
       "    <tr>\n",
       "      <th>4</th>\n",
       "      <td>Java</td>\n",
       "      <td>E</td>\n",
       "      <td>60</td>\n",
       "    </tr>\n",
       "    <tr>\n",
       "      <th>5</th>\n",
       "      <td>Java</td>\n",
       "      <td>F</td>\n",
       "      <td>50</td>\n",
       "    </tr>\n",
       "  </tbody>\n",
       "</table>\n",
       "</div>"
      ],
      "text/plain": [
       "  Programming lenguage Name  Salary\n",
       "0               Python    A     100\n",
       "1               Python    B      90\n",
       "2               Python    C      80\n",
       "3                Swift    D      70\n",
       "4                 Java    E      60\n",
       "5                 Java    F      50"
      ]
     },
     "execution_count": 14,
     "metadata": {},
     "output_type": "execute_result"
    }
   ],
   "source": [
    "salary_data"
   ]
  },
  {
   "cell_type": "code",
   "execution_count": 15,
   "id": "2503a284",
   "metadata": {
    "execution": {
     "iopub.execute_input": "2025-01-30T22:55:45.249065Z",
     "iopub.status.busy": "2025-01-30T22:55:45.248742Z",
     "iopub.status.idle": "2025-01-30T22:55:45.253462Z",
     "shell.execute_reply": "2025-01-30T22:55:45.252470Z"
    },
    "papermill": {
     "duration": 0.016083,
     "end_time": "2025-01-30T22:55:45.255193",
     "exception": false,
     "start_time": "2025-01-30T22:55:45.239110",
     "status": "completed"
    },
    "tags": []
   },
   "outputs": [],
   "source": [
    "salary_data=pd.DataFrame(salary_dict)"
   ]
  },
  {
   "cell_type": "code",
   "execution_count": 16,
   "id": "1dff7ed7",
   "metadata": {
    "execution": {
     "iopub.execute_input": "2025-01-30T22:55:45.271965Z",
     "iopub.status.busy": "2025-01-30T22:55:45.271627Z",
     "iopub.status.idle": "2025-01-30T22:55:45.275836Z",
     "shell.execute_reply": "2025-01-30T22:55:45.274943Z"
    },
    "papermill": {
     "duration": 0.01433,
     "end_time": "2025-01-30T22:55:45.277450",
     "exception": false,
     "start_time": "2025-01-30T22:55:45.263120",
     "status": "completed"
    },
    "tags": []
   },
   "outputs": [],
   "source": [
    "group_object=salary_data.groupby(\"Programming lenguage\")"
   ]
  },
  {
   "cell_type": "code",
   "execution_count": 17,
   "id": "e45b30b7",
   "metadata": {
    "execution": {
     "iopub.execute_input": "2025-01-30T22:55:45.293620Z",
     "iopub.status.busy": "2025-01-30T22:55:45.293248Z",
     "iopub.status.idle": "2025-01-30T22:55:45.306089Z",
     "shell.execute_reply": "2025-01-30T22:55:45.305033Z"
    },
    "papermill": {
     "duration": 0.022451,
     "end_time": "2025-01-30T22:55:45.307637",
     "exception": false,
     "start_time": "2025-01-30T22:55:45.285186",
     "status": "completed"
    },
    "tags": []
   },
   "outputs": [
    {
     "data": {
      "text/html": [
       "<div>\n",
       "<style scoped>\n",
       "    .dataframe tbody tr th:only-of-type {\n",
       "        vertical-align: middle;\n",
       "    }\n",
       "\n",
       "    .dataframe tbody tr th {\n",
       "        vertical-align: top;\n",
       "    }\n",
       "\n",
       "    .dataframe thead th {\n",
       "        text-align: right;\n",
       "    }\n",
       "</style>\n",
       "<table border=\"1\" class=\"dataframe\">\n",
       "  <thead>\n",
       "    <tr style=\"text-align: right;\">\n",
       "      <th></th>\n",
       "      <th>Name</th>\n",
       "      <th>Salary</th>\n",
       "    </tr>\n",
       "    <tr>\n",
       "      <th>Programming lenguage</th>\n",
       "      <th></th>\n",
       "      <th></th>\n",
       "    </tr>\n",
       "  </thead>\n",
       "  <tbody>\n",
       "    <tr>\n",
       "      <th>Java</th>\n",
       "      <td>2</td>\n",
       "      <td>2</td>\n",
       "    </tr>\n",
       "    <tr>\n",
       "      <th>Python</th>\n",
       "      <td>3</td>\n",
       "      <td>3</td>\n",
       "    </tr>\n",
       "    <tr>\n",
       "      <th>Swift</th>\n",
       "      <td>1</td>\n",
       "      <td>1</td>\n",
       "    </tr>\n",
       "  </tbody>\n",
       "</table>\n",
       "</div>"
      ],
      "text/plain": [
       "                      Name  Salary\n",
       "Programming lenguage              \n",
       "Java                     2       2\n",
       "Python                   3       3\n",
       "Swift                    1       1"
      ]
     },
     "execution_count": 17,
     "metadata": {},
     "output_type": "execute_result"
    }
   ],
   "source": [
    "group_object.count()"
   ]
  },
  {
   "cell_type": "code",
   "execution_count": 18,
   "id": "07a94c25",
   "metadata": {
    "execution": {
     "iopub.execute_input": "2025-01-30T22:55:45.324592Z",
     "iopub.status.busy": "2025-01-30T22:55:45.324142Z",
     "iopub.status.idle": "2025-01-30T22:55:45.337587Z",
     "shell.execute_reply": "2025-01-30T22:55:45.336669Z"
    },
    "papermill": {
     "duration": 0.023408,
     "end_time": "2025-01-30T22:55:45.339055",
     "exception": false,
     "start_time": "2025-01-30T22:55:45.315647",
     "status": "completed"
    },
    "tags": []
   },
   "outputs": [
    {
     "data": {
      "text/html": [
       "<div>\n",
       "<style scoped>\n",
       "    .dataframe tbody tr th:only-of-type {\n",
       "        vertical-align: middle;\n",
       "    }\n",
       "\n",
       "    .dataframe tbody tr th {\n",
       "        vertical-align: top;\n",
       "    }\n",
       "\n",
       "    .dataframe thead th {\n",
       "        text-align: right;\n",
       "    }\n",
       "</style>\n",
       "<table border=\"1\" class=\"dataframe\">\n",
       "  <thead>\n",
       "    <tr style=\"text-align: right;\">\n",
       "      <th></th>\n",
       "      <th>Name</th>\n",
       "      <th>Salary</th>\n",
       "    </tr>\n",
       "    <tr>\n",
       "      <th>Programming lenguage</th>\n",
       "      <th></th>\n",
       "      <th></th>\n",
       "    </tr>\n",
       "  </thead>\n",
       "  <tbody>\n",
       "    <tr>\n",
       "      <th>Java</th>\n",
       "      <td>E</td>\n",
       "      <td>50</td>\n",
       "    </tr>\n",
       "    <tr>\n",
       "      <th>Python</th>\n",
       "      <td>A</td>\n",
       "      <td>80</td>\n",
       "    </tr>\n",
       "    <tr>\n",
       "      <th>Swift</th>\n",
       "      <td>D</td>\n",
       "      <td>70</td>\n",
       "    </tr>\n",
       "  </tbody>\n",
       "</table>\n",
       "</div>"
      ],
      "text/plain": [
       "                     Name  Salary\n",
       "Programming lenguage             \n",
       "Java                    E      50\n",
       "Python                  A      80\n",
       "Swift                   D      70"
      ]
     },
     "execution_count": 18,
     "metadata": {},
     "output_type": "execute_result"
    }
   ],
   "source": [
    "group_object.min()"
   ]
  },
  {
   "cell_type": "code",
   "execution_count": 19,
   "id": "c20c9fb9",
   "metadata": {
    "execution": {
     "iopub.execute_input": "2025-01-30T22:55:45.356575Z",
     "iopub.status.busy": "2025-01-30T22:55:45.356188Z",
     "iopub.status.idle": "2025-01-30T22:55:45.366001Z",
     "shell.execute_reply": "2025-01-30T22:55:45.364845Z"
    },
    "papermill": {
     "duration": 0.020314,
     "end_time": "2025-01-30T22:55:45.367812",
     "exception": false,
     "start_time": "2025-01-30T22:55:45.347498",
     "status": "completed"
    },
    "tags": []
   },
   "outputs": [
    {
     "data": {
      "text/html": [
       "<div>\n",
       "<style scoped>\n",
       "    .dataframe tbody tr th:only-of-type {\n",
       "        vertical-align: middle;\n",
       "    }\n",
       "\n",
       "    .dataframe tbody tr th {\n",
       "        vertical-align: top;\n",
       "    }\n",
       "\n",
       "    .dataframe thead th {\n",
       "        text-align: right;\n",
       "    }\n",
       "</style>\n",
       "<table border=\"1\" class=\"dataframe\">\n",
       "  <thead>\n",
       "    <tr style=\"text-align: right;\">\n",
       "      <th></th>\n",
       "      <th>Name</th>\n",
       "      <th>Salary</th>\n",
       "    </tr>\n",
       "    <tr>\n",
       "      <th>Programming lenguage</th>\n",
       "      <th></th>\n",
       "      <th></th>\n",
       "    </tr>\n",
       "  </thead>\n",
       "  <tbody>\n",
       "    <tr>\n",
       "      <th>Java</th>\n",
       "      <td>F</td>\n",
       "      <td>60</td>\n",
       "    </tr>\n",
       "    <tr>\n",
       "      <th>Python</th>\n",
       "      <td>C</td>\n",
       "      <td>100</td>\n",
       "    </tr>\n",
       "    <tr>\n",
       "      <th>Swift</th>\n",
       "      <td>D</td>\n",
       "      <td>70</td>\n",
       "    </tr>\n",
       "  </tbody>\n",
       "</table>\n",
       "</div>"
      ],
      "text/plain": [
       "                     Name  Salary\n",
       "Programming lenguage             \n",
       "Java                    F      60\n",
       "Python                  C     100\n",
       "Swift                   D      70"
      ]
     },
     "execution_count": 19,
     "metadata": {},
     "output_type": "execute_result"
    }
   ],
   "source": [
    "group_object.max()"
   ]
  },
  {
   "cell_type": "code",
   "execution_count": 20,
   "id": "9de0eb5d",
   "metadata": {
    "execution": {
     "iopub.execute_input": "2025-01-30T22:55:45.385880Z",
     "iopub.status.busy": "2025-01-30T22:55:45.385563Z",
     "iopub.status.idle": "2025-01-30T22:55:45.394091Z",
     "shell.execute_reply": "2025-01-30T22:55:45.392870Z"
    },
    "papermill": {
     "duration": 0.01968,
     "end_time": "2025-01-30T22:55:45.395982",
     "exception": false,
     "start_time": "2025-01-30T22:55:45.376302",
     "status": "completed"
    },
    "tags": []
   },
   "outputs": [
    {
     "data": {
      "text/html": [
       "<div>\n",
       "<style scoped>\n",
       "    .dataframe tbody tr th:only-of-type {\n",
       "        vertical-align: middle;\n",
       "    }\n",
       "\n",
       "    .dataframe tbody tr th {\n",
       "        vertical-align: top;\n",
       "    }\n",
       "\n",
       "    .dataframe thead th {\n",
       "        text-align: right;\n",
       "    }\n",
       "</style>\n",
       "<table border=\"1\" class=\"dataframe\">\n",
       "  <thead>\n",
       "    <tr style=\"text-align: right;\">\n",
       "      <th></th>\n",
       "      <th>Salary</th>\n",
       "    </tr>\n",
       "    <tr>\n",
       "      <th>Programming lenguage</th>\n",
       "      <th></th>\n",
       "    </tr>\n",
       "  </thead>\n",
       "  <tbody>\n",
       "    <tr>\n",
       "      <th>Java</th>\n",
       "      <td>50</td>\n",
       "    </tr>\n",
       "    <tr>\n",
       "      <th>Python</th>\n",
       "      <td>80</td>\n",
       "    </tr>\n",
       "    <tr>\n",
       "      <th>Swift</th>\n",
       "      <td>70</td>\n",
       "    </tr>\n",
       "  </tbody>\n",
       "</table>\n",
       "</div>"
      ],
      "text/plain": [
       "                      Salary\n",
       "Programming lenguage        \n",
       "Java                      50\n",
       "Python                    80\n",
       "Swift                     70"
      ]
     },
     "execution_count": 20,
     "metadata": {},
     "output_type": "execute_result"
    }
   ],
   "source": [
    "group_object.min(\"Salary\")"
   ]
  },
  {
   "cell_type": "code",
   "execution_count": 21,
   "id": "e585b52b",
   "metadata": {
    "execution": {
     "iopub.execute_input": "2025-01-30T22:55:45.414957Z",
     "iopub.status.busy": "2025-01-30T22:55:45.414614Z",
     "iopub.status.idle": "2025-01-30T22:55:45.424865Z",
     "shell.execute_reply": "2025-01-30T22:55:45.423997Z"
    },
    "papermill": {
     "duration": 0.021427,
     "end_time": "2025-01-30T22:55:45.426278",
     "exception": false,
     "start_time": "2025-01-30T22:55:45.404851",
     "status": "completed"
    },
    "tags": []
   },
   "outputs": [
    {
     "data": {
      "text/html": [
       "<div>\n",
       "<style scoped>\n",
       "    .dataframe tbody tr th:only-of-type {\n",
       "        vertical-align: middle;\n",
       "    }\n",
       "\n",
       "    .dataframe tbody tr th {\n",
       "        vertical-align: top;\n",
       "    }\n",
       "\n",
       "    .dataframe thead th {\n",
       "        text-align: right;\n",
       "    }\n",
       "</style>\n",
       "<table border=\"1\" class=\"dataframe\">\n",
       "  <thead>\n",
       "    <tr style=\"text-align: right;\">\n",
       "      <th></th>\n",
       "      <th>Salary</th>\n",
       "    </tr>\n",
       "    <tr>\n",
       "      <th>Programming lenguage</th>\n",
       "      <th></th>\n",
       "    </tr>\n",
       "  </thead>\n",
       "  <tbody>\n",
       "    <tr>\n",
       "      <th>Java</th>\n",
       "      <td>55.0</td>\n",
       "    </tr>\n",
       "    <tr>\n",
       "      <th>Python</th>\n",
       "      <td>90.0</td>\n",
       "    </tr>\n",
       "    <tr>\n",
       "      <th>Swift</th>\n",
       "      <td>70.0</td>\n",
       "    </tr>\n",
       "  </tbody>\n",
       "</table>\n",
       "</div>"
      ],
      "text/plain": [
       "                      Salary\n",
       "Programming lenguage        \n",
       "Java                    55.0\n",
       "Python                  90.0\n",
       "Swift                   70.0"
      ]
     },
     "execution_count": 21,
     "metadata": {},
     "output_type": "execute_result"
    }
   ],
   "source": [
    "group_object.mean(\"Salayr\")"
   ]
  },
  {
   "cell_type": "code",
   "execution_count": 22,
   "id": "77bdefc7",
   "metadata": {
    "execution": {
     "iopub.execute_input": "2025-01-30T22:55:45.445122Z",
     "iopub.status.busy": "2025-01-30T22:55:45.444792Z",
     "iopub.status.idle": "2025-01-30T22:55:45.452873Z",
     "shell.execute_reply": "2025-01-30T22:55:45.451937Z"
    },
    "papermill": {
     "duration": 0.019111,
     "end_time": "2025-01-30T22:55:45.454426",
     "exception": false,
     "start_time": "2025-01-30T22:55:45.435315",
     "status": "completed"
    },
    "tags": []
   },
   "outputs": [
    {
     "data": {
      "text/html": [
       "<div>\n",
       "<style scoped>\n",
       "    .dataframe tbody tr th:only-of-type {\n",
       "        vertical-align: middle;\n",
       "    }\n",
       "\n",
       "    .dataframe tbody tr th {\n",
       "        vertical-align: top;\n",
       "    }\n",
       "\n",
       "    .dataframe thead th {\n",
       "        text-align: right;\n",
       "    }\n",
       "</style>\n",
       "<table border=\"1\" class=\"dataframe\">\n",
       "  <thead>\n",
       "    <tr style=\"text-align: right;\">\n",
       "      <th></th>\n",
       "      <th>Salary</th>\n",
       "    </tr>\n",
       "    <tr>\n",
       "      <th>Programming lenguage</th>\n",
       "      <th></th>\n",
       "    </tr>\n",
       "  </thead>\n",
       "  <tbody>\n",
       "    <tr>\n",
       "      <th>Java</th>\n",
       "      <td>50</td>\n",
       "    </tr>\n",
       "    <tr>\n",
       "      <th>Python</th>\n",
       "      <td>80</td>\n",
       "    </tr>\n",
       "    <tr>\n",
       "      <th>Swift</th>\n",
       "      <td>70</td>\n",
       "    </tr>\n",
       "  </tbody>\n",
       "</table>\n",
       "</div>"
      ],
      "text/plain": [
       "                      Salary\n",
       "Programming lenguage        \n",
       "Java                      50\n",
       "Python                    80\n",
       "Swift                     70"
      ]
     },
     "execution_count": 22,
     "metadata": {},
     "output_type": "execute_result"
    }
   ],
   "source": [
    "group_object.min(numeric_only=True)"
   ]
  },
  {
   "cell_type": "code",
   "execution_count": 23,
   "id": "67841140",
   "metadata": {
    "execution": {
     "iopub.execute_input": "2025-01-30T22:55:45.473472Z",
     "iopub.status.busy": "2025-01-30T22:55:45.473083Z",
     "iopub.status.idle": "2025-01-30T22:55:45.516044Z",
     "shell.execute_reply": "2025-01-30T22:55:45.514735Z"
    },
    "papermill": {
     "duration": 0.054616,
     "end_time": "2025-01-30T22:55:45.517885",
     "exception": false,
     "start_time": "2025-01-30T22:55:45.463269",
     "status": "completed"
    },
    "tags": []
   },
   "outputs": [
    {
     "name": "stderr",
     "output_type": "stream",
     "text": [
      "/usr/local/lib/python3.10/dist-packages/pandas/io/formats/format.py:1458: RuntimeWarning: invalid value encountered in greater\n",
      "  has_large_values = (abs_vals > 1e6).any()\n",
      "/usr/local/lib/python3.10/dist-packages/pandas/io/formats/format.py:1459: RuntimeWarning: invalid value encountered in less\n",
      "  has_small_values = ((abs_vals < 10 ** (-self.digits)) & (abs_vals > 0)).any()\n",
      "/usr/local/lib/python3.10/dist-packages/pandas/io/formats/format.py:1459: RuntimeWarning: invalid value encountered in greater\n",
      "  has_small_values = ((abs_vals < 10 ** (-self.digits)) & (abs_vals > 0)).any()\n"
     ]
    },
    {
     "data": {
      "text/html": [
       "<div>\n",
       "<style scoped>\n",
       "    .dataframe tbody tr th:only-of-type {\n",
       "        vertical-align: middle;\n",
       "    }\n",
       "\n",
       "    .dataframe tbody tr th {\n",
       "        vertical-align: top;\n",
       "    }\n",
       "\n",
       "    .dataframe thead tr th {\n",
       "        text-align: left;\n",
       "    }\n",
       "\n",
       "    .dataframe thead tr:last-of-type th {\n",
       "        text-align: right;\n",
       "    }\n",
       "</style>\n",
       "<table border=\"1\" class=\"dataframe\">\n",
       "  <thead>\n",
       "    <tr>\n",
       "      <th></th>\n",
       "      <th colspan=\"8\" halign=\"left\">Salary</th>\n",
       "    </tr>\n",
       "    <tr>\n",
       "      <th></th>\n",
       "      <th>count</th>\n",
       "      <th>mean</th>\n",
       "      <th>std</th>\n",
       "      <th>min</th>\n",
       "      <th>25%</th>\n",
       "      <th>50%</th>\n",
       "      <th>75%</th>\n",
       "      <th>max</th>\n",
       "    </tr>\n",
       "    <tr>\n",
       "      <th>Programming lenguage</th>\n",
       "      <th></th>\n",
       "      <th></th>\n",
       "      <th></th>\n",
       "      <th></th>\n",
       "      <th></th>\n",
       "      <th></th>\n",
       "      <th></th>\n",
       "      <th></th>\n",
       "    </tr>\n",
       "  </thead>\n",
       "  <tbody>\n",
       "    <tr>\n",
       "      <th>Java</th>\n",
       "      <td>2.0</td>\n",
       "      <td>55.0</td>\n",
       "      <td>7.071068</td>\n",
       "      <td>50.0</td>\n",
       "      <td>52.5</td>\n",
       "      <td>55.0</td>\n",
       "      <td>57.5</td>\n",
       "      <td>60.0</td>\n",
       "    </tr>\n",
       "    <tr>\n",
       "      <th>Python</th>\n",
       "      <td>3.0</td>\n",
       "      <td>90.0</td>\n",
       "      <td>10.000000</td>\n",
       "      <td>80.0</td>\n",
       "      <td>85.0</td>\n",
       "      <td>90.0</td>\n",
       "      <td>95.0</td>\n",
       "      <td>100.0</td>\n",
       "    </tr>\n",
       "    <tr>\n",
       "      <th>Swift</th>\n",
       "      <td>1.0</td>\n",
       "      <td>70.0</td>\n",
       "      <td>NaN</td>\n",
       "      <td>70.0</td>\n",
       "      <td>70.0</td>\n",
       "      <td>70.0</td>\n",
       "      <td>70.0</td>\n",
       "      <td>70.0</td>\n",
       "    </tr>\n",
       "  </tbody>\n",
       "</table>\n",
       "</div>"
      ],
      "text/plain": [
       "                     Salary                                                \n",
       "                      count  mean        std   min   25%   50%   75%    max\n",
       "Programming lenguage                                                       \n",
       "Java                    2.0  55.0   7.071068  50.0  52.5  55.0  57.5   60.0\n",
       "Python                  3.0  90.0  10.000000  80.0  85.0  90.0  95.0  100.0\n",
       "Swift                   1.0  70.0        NaN  70.0  70.0  70.0  70.0   70.0"
      ]
     },
     "execution_count": 23,
     "metadata": {},
     "output_type": "execute_result"
    }
   ],
   "source": [
    "group_object.describe()"
   ]
  },
  {
   "cell_type": "code",
   "execution_count": 24,
   "id": "c732e704",
   "metadata": {
    "execution": {
     "iopub.execute_input": "2025-01-30T22:55:45.537037Z",
     "iopub.status.busy": "2025-01-30T22:55:45.536688Z",
     "iopub.status.idle": "2025-01-30T22:55:45.540884Z",
     "shell.execute_reply": "2025-01-30T22:55:45.539924Z"
    },
    "papermill": {
     "duration": 0.015331,
     "end_time": "2025-01-30T22:55:45.542354",
     "exception": false,
     "start_time": "2025-01-30T22:55:45.527023",
     "status": "completed"
    },
    "tags": []
   },
   "outputs": [],
   "source": [
    "dict1={\"Name\":[\"A\",\"B\",\"C\",\"D\"],\n",
    "       \"Sports\":[\"Basketball\",\"Football\",\"Tennis\",\"Running\"],\n",
    "       \"Calories\":[100,200,300,400]}"
   ]
  },
  {
   "cell_type": "code",
   "execution_count": 25,
   "id": "9187667a",
   "metadata": {
    "execution": {
     "iopub.execute_input": "2025-01-30T22:55:45.561548Z",
     "iopub.status.busy": "2025-01-30T22:55:45.561190Z",
     "iopub.status.idle": "2025-01-30T22:55:45.565720Z",
     "shell.execute_reply": "2025-01-30T22:55:45.564889Z"
    },
    "papermill": {
     "duration": 0.015591,
     "end_time": "2025-01-30T22:55:45.567120",
     "exception": false,
     "start_time": "2025-01-30T22:55:45.551529",
     "status": "completed"
    },
    "tags": []
   },
   "outputs": [],
   "source": [
    "frame1=pd.DataFrame(dict1,index=[1,2,3,4])"
   ]
  },
  {
   "cell_type": "code",
   "execution_count": 26,
   "id": "683c214e",
   "metadata": {
    "execution": {
     "iopub.execute_input": "2025-01-30T22:55:45.586171Z",
     "iopub.status.busy": "2025-01-30T22:55:45.585854Z",
     "iopub.status.idle": "2025-01-30T22:55:45.594161Z",
     "shell.execute_reply": "2025-01-30T22:55:45.593383Z"
    },
    "papermill": {
     "duration": 0.019428,
     "end_time": "2025-01-30T22:55:45.595579",
     "exception": false,
     "start_time": "2025-01-30T22:55:45.576151",
     "status": "completed"
    },
    "tags": []
   },
   "outputs": [
    {
     "data": {
      "text/html": [
       "<div>\n",
       "<style scoped>\n",
       "    .dataframe tbody tr th:only-of-type {\n",
       "        vertical-align: middle;\n",
       "    }\n",
       "\n",
       "    .dataframe tbody tr th {\n",
       "        vertical-align: top;\n",
       "    }\n",
       "\n",
       "    .dataframe thead th {\n",
       "        text-align: right;\n",
       "    }\n",
       "</style>\n",
       "<table border=\"1\" class=\"dataframe\">\n",
       "  <thead>\n",
       "    <tr style=\"text-align: right;\">\n",
       "      <th></th>\n",
       "      <th>Name</th>\n",
       "      <th>Sports</th>\n",
       "      <th>Calories</th>\n",
       "    </tr>\n",
       "  </thead>\n",
       "  <tbody>\n",
       "    <tr>\n",
       "      <th>1</th>\n",
       "      <td>A</td>\n",
       "      <td>Basketball</td>\n",
       "      <td>100</td>\n",
       "    </tr>\n",
       "    <tr>\n",
       "      <th>2</th>\n",
       "      <td>B</td>\n",
       "      <td>Football</td>\n",
       "      <td>200</td>\n",
       "    </tr>\n",
       "    <tr>\n",
       "      <th>3</th>\n",
       "      <td>C</td>\n",
       "      <td>Tennis</td>\n",
       "      <td>300</td>\n",
       "    </tr>\n",
       "    <tr>\n",
       "      <th>4</th>\n",
       "      <td>D</td>\n",
       "      <td>Running</td>\n",
       "      <td>400</td>\n",
       "    </tr>\n",
       "  </tbody>\n",
       "</table>\n",
       "</div>"
      ],
      "text/plain": [
       "  Name      Sports  Calories\n",
       "1    A  Basketball       100\n",
       "2    B    Football       200\n",
       "3    C      Tennis       300\n",
       "4    D     Running       400"
      ]
     },
     "execution_count": 26,
     "metadata": {},
     "output_type": "execute_result"
    }
   ],
   "source": [
    "frame1"
   ]
  },
  {
   "cell_type": "code",
   "execution_count": 27,
   "id": "2bd5b2a7",
   "metadata": {
    "execution": {
     "iopub.execute_input": "2025-01-30T22:55:45.615346Z",
     "iopub.status.busy": "2025-01-30T22:55:45.614957Z",
     "iopub.status.idle": "2025-01-30T22:55:45.619535Z",
     "shell.execute_reply": "2025-01-30T22:55:45.618478Z"
    },
    "papermill": {
     "duration": 0.016268,
     "end_time": "2025-01-30T22:55:45.621097",
     "exception": false,
     "start_time": "2025-01-30T22:55:45.604829",
     "status": "completed"
    },
    "tags": []
   },
   "outputs": [],
   "source": [
    "dict2={\"Name\":[\"E\",\"F\",\"G\",\"H\"],\n",
    "       \"Sports\":[\"Basketball\",\"Football\",\"Tennis\",\"Running\"],\n",
    "       \"Calories\":[200,230,330,440]}"
   ]
  },
  {
   "cell_type": "code",
   "execution_count": 28,
   "id": "33a2ea37",
   "metadata": {
    "execution": {
     "iopub.execute_input": "2025-01-30T22:55:45.640928Z",
     "iopub.status.busy": "2025-01-30T22:55:45.640615Z",
     "iopub.status.idle": "2025-01-30T22:55:45.645235Z",
     "shell.execute_reply": "2025-01-30T22:55:45.644301Z"
    },
    "papermill": {
     "duration": 0.016149,
     "end_time": "2025-01-30T22:55:45.646774",
     "exception": false,
     "start_time": "2025-01-30T22:55:45.630625",
     "status": "completed"
    },
    "tags": []
   },
   "outputs": [],
   "source": [
    "frame2=pd.DataFrame(dict2,index=[5,6,7,8])"
   ]
  },
  {
   "cell_type": "code",
   "execution_count": 29,
   "id": "6f278be3",
   "metadata": {
    "execution": {
     "iopub.execute_input": "2025-01-30T22:55:45.666129Z",
     "iopub.status.busy": "2025-01-30T22:55:45.665823Z",
     "iopub.status.idle": "2025-01-30T22:55:45.674232Z",
     "shell.execute_reply": "2025-01-30T22:55:45.673215Z"
    },
    "papermill": {
     "duration": 0.019681,
     "end_time": "2025-01-30T22:55:45.675798",
     "exception": false,
     "start_time": "2025-01-30T22:55:45.656117",
     "status": "completed"
    },
    "tags": []
   },
   "outputs": [
    {
     "data": {
      "text/html": [
       "<div>\n",
       "<style scoped>\n",
       "    .dataframe tbody tr th:only-of-type {\n",
       "        vertical-align: middle;\n",
       "    }\n",
       "\n",
       "    .dataframe tbody tr th {\n",
       "        vertical-align: top;\n",
       "    }\n",
       "\n",
       "    .dataframe thead th {\n",
       "        text-align: right;\n",
       "    }\n",
       "</style>\n",
       "<table border=\"1\" class=\"dataframe\">\n",
       "  <thead>\n",
       "    <tr style=\"text-align: right;\">\n",
       "      <th></th>\n",
       "      <th>Name</th>\n",
       "      <th>Sports</th>\n",
       "      <th>Calories</th>\n",
       "    </tr>\n",
       "  </thead>\n",
       "  <tbody>\n",
       "    <tr>\n",
       "      <th>5</th>\n",
       "      <td>E</td>\n",
       "      <td>Basketball</td>\n",
       "      <td>200</td>\n",
       "    </tr>\n",
       "    <tr>\n",
       "      <th>6</th>\n",
       "      <td>F</td>\n",
       "      <td>Football</td>\n",
       "      <td>230</td>\n",
       "    </tr>\n",
       "    <tr>\n",
       "      <th>7</th>\n",
       "      <td>G</td>\n",
       "      <td>Tennis</td>\n",
       "      <td>330</td>\n",
       "    </tr>\n",
       "    <tr>\n",
       "      <th>8</th>\n",
       "      <td>H</td>\n",
       "      <td>Running</td>\n",
       "      <td>440</td>\n",
       "    </tr>\n",
       "  </tbody>\n",
       "</table>\n",
       "</div>"
      ],
      "text/plain": [
       "  Name      Sports  Calories\n",
       "5    E  Basketball       200\n",
       "6    F    Football       230\n",
       "7    G      Tennis       330\n",
       "8    H     Running       440"
      ]
     },
     "execution_count": 29,
     "metadata": {},
     "output_type": "execute_result"
    }
   ],
   "source": [
    "frame2"
   ]
  },
  {
   "cell_type": "code",
   "execution_count": 30,
   "id": "0ad25dfe",
   "metadata": {
    "execution": {
     "iopub.execute_input": "2025-01-30T22:55:45.696011Z",
     "iopub.status.busy": "2025-01-30T22:55:45.695677Z",
     "iopub.status.idle": "2025-01-30T22:55:45.700042Z",
     "shell.execute_reply": "2025-01-30T22:55:45.699140Z"
    },
    "papermill": {
     "duration": 0.016509,
     "end_time": "2025-01-30T22:55:45.701774",
     "exception": false,
     "start_time": "2025-01-30T22:55:45.685265",
     "status": "completed"
    },
    "tags": []
   },
   "outputs": [],
   "source": [
    "dict3={\"Name\":[\"I\",\"J\",\"K\",\"L\"],\n",
    "       \"Sports\":[\"Basketball\",\"Football\",\"Tennis\",\"Running\"],\n",
    "       \"Calories\":[300,130,320,40]}"
   ]
  },
  {
   "cell_type": "code",
   "execution_count": 31,
   "id": "3aa06047",
   "metadata": {
    "execution": {
     "iopub.execute_input": "2025-01-30T22:55:45.722609Z",
     "iopub.status.busy": "2025-01-30T22:55:45.722199Z",
     "iopub.status.idle": "2025-01-30T22:55:45.726969Z",
     "shell.execute_reply": "2025-01-30T22:55:45.726041Z"
    },
    "papermill": {
     "duration": 0.016958,
     "end_time": "2025-01-30T22:55:45.728620",
     "exception": false,
     "start_time": "2025-01-30T22:55:45.711662",
     "status": "completed"
    },
    "tags": []
   },
   "outputs": [],
   "source": [
    "frame3=pd.DataFrame(dict3,index=[9,10,11,12])"
   ]
  },
  {
   "cell_type": "code",
   "execution_count": 32,
   "id": "e8c388e0",
   "metadata": {
    "execution": {
     "iopub.execute_input": "2025-01-30T22:55:45.749529Z",
     "iopub.status.busy": "2025-01-30T22:55:45.749119Z",
     "iopub.status.idle": "2025-01-30T22:55:45.757829Z",
     "shell.execute_reply": "2025-01-30T22:55:45.756811Z"
    },
    "papermill": {
     "duration": 0.02062,
     "end_time": "2025-01-30T22:55:45.759334",
     "exception": false,
     "start_time": "2025-01-30T22:55:45.738714",
     "status": "completed"
    },
    "tags": []
   },
   "outputs": [
    {
     "data": {
      "text/html": [
       "<div>\n",
       "<style scoped>\n",
       "    .dataframe tbody tr th:only-of-type {\n",
       "        vertical-align: middle;\n",
       "    }\n",
       "\n",
       "    .dataframe tbody tr th {\n",
       "        vertical-align: top;\n",
       "    }\n",
       "\n",
       "    .dataframe thead th {\n",
       "        text-align: right;\n",
       "    }\n",
       "</style>\n",
       "<table border=\"1\" class=\"dataframe\">\n",
       "  <thead>\n",
       "    <tr style=\"text-align: right;\">\n",
       "      <th></th>\n",
       "      <th>Name</th>\n",
       "      <th>Sports</th>\n",
       "      <th>Calories</th>\n",
       "    </tr>\n",
       "  </thead>\n",
       "  <tbody>\n",
       "    <tr>\n",
       "      <th>9</th>\n",
       "      <td>I</td>\n",
       "      <td>Basketball</td>\n",
       "      <td>300</td>\n",
       "    </tr>\n",
       "    <tr>\n",
       "      <th>10</th>\n",
       "      <td>J</td>\n",
       "      <td>Football</td>\n",
       "      <td>130</td>\n",
       "    </tr>\n",
       "    <tr>\n",
       "      <th>11</th>\n",
       "      <td>K</td>\n",
       "      <td>Tennis</td>\n",
       "      <td>320</td>\n",
       "    </tr>\n",
       "    <tr>\n",
       "      <th>12</th>\n",
       "      <td>L</td>\n",
       "      <td>Running</td>\n",
       "      <td>40</td>\n",
       "    </tr>\n",
       "  </tbody>\n",
       "</table>\n",
       "</div>"
      ],
      "text/plain": [
       "   Name      Sports  Calories\n",
       "9     I  Basketball       300\n",
       "10    J    Football       130\n",
       "11    K      Tennis       320\n",
       "12    L     Running        40"
      ]
     },
     "execution_count": 32,
     "metadata": {},
     "output_type": "execute_result"
    }
   ],
   "source": [
    "frame3"
   ]
  },
  {
   "cell_type": "code",
   "execution_count": 33,
   "id": "6e00a61d",
   "metadata": {
    "execution": {
     "iopub.execute_input": "2025-01-30T22:55:45.779750Z",
     "iopub.status.busy": "2025-01-30T22:55:45.779423Z",
     "iopub.status.idle": "2025-01-30T22:55:45.783846Z",
     "shell.execute_reply": "2025-01-30T22:55:45.783085Z"
    },
    "papermill": {
     "duration": 0.016122,
     "end_time": "2025-01-30T22:55:45.785198",
     "exception": false,
     "start_time": "2025-01-30T22:55:45.769076",
     "status": "completed"
    },
    "tags": []
   },
   "outputs": [],
   "source": [
    "new_frame=pd.concat([frame1,frame2,frame3])"
   ]
  },
  {
   "cell_type": "code",
   "execution_count": 34,
   "id": "30ea57ff",
   "metadata": {
    "execution": {
     "iopub.execute_input": "2025-01-30T22:55:45.806345Z",
     "iopub.status.busy": "2025-01-30T22:55:45.805988Z",
     "iopub.status.idle": "2025-01-30T22:55:45.815398Z",
     "shell.execute_reply": "2025-01-30T22:55:45.814542Z"
    },
    "papermill": {
     "duration": 0.021896,
     "end_time": "2025-01-30T22:55:45.817021",
     "exception": false,
     "start_time": "2025-01-30T22:55:45.795125",
     "status": "completed"
    },
    "tags": []
   },
   "outputs": [
    {
     "data": {
      "text/html": [
       "<div>\n",
       "<style scoped>\n",
       "    .dataframe tbody tr th:only-of-type {\n",
       "        vertical-align: middle;\n",
       "    }\n",
       "\n",
       "    .dataframe tbody tr th {\n",
       "        vertical-align: top;\n",
       "    }\n",
       "\n",
       "    .dataframe thead th {\n",
       "        text-align: right;\n",
       "    }\n",
       "</style>\n",
       "<table border=\"1\" class=\"dataframe\">\n",
       "  <thead>\n",
       "    <tr style=\"text-align: right;\">\n",
       "      <th></th>\n",
       "      <th>Name</th>\n",
       "      <th>Sports</th>\n",
       "      <th>Calories</th>\n",
       "    </tr>\n",
       "  </thead>\n",
       "  <tbody>\n",
       "    <tr>\n",
       "      <th>1</th>\n",
       "      <td>A</td>\n",
       "      <td>Basketball</td>\n",
       "      <td>100</td>\n",
       "    </tr>\n",
       "    <tr>\n",
       "      <th>2</th>\n",
       "      <td>B</td>\n",
       "      <td>Football</td>\n",
       "      <td>200</td>\n",
       "    </tr>\n",
       "    <tr>\n",
       "      <th>3</th>\n",
       "      <td>C</td>\n",
       "      <td>Tennis</td>\n",
       "      <td>300</td>\n",
       "    </tr>\n",
       "    <tr>\n",
       "      <th>4</th>\n",
       "      <td>D</td>\n",
       "      <td>Running</td>\n",
       "      <td>400</td>\n",
       "    </tr>\n",
       "    <tr>\n",
       "      <th>5</th>\n",
       "      <td>E</td>\n",
       "      <td>Basketball</td>\n",
       "      <td>200</td>\n",
       "    </tr>\n",
       "    <tr>\n",
       "      <th>6</th>\n",
       "      <td>F</td>\n",
       "      <td>Football</td>\n",
       "      <td>230</td>\n",
       "    </tr>\n",
       "    <tr>\n",
       "      <th>7</th>\n",
       "      <td>G</td>\n",
       "      <td>Tennis</td>\n",
       "      <td>330</td>\n",
       "    </tr>\n",
       "    <tr>\n",
       "      <th>8</th>\n",
       "      <td>H</td>\n",
       "      <td>Running</td>\n",
       "      <td>440</td>\n",
       "    </tr>\n",
       "    <tr>\n",
       "      <th>9</th>\n",
       "      <td>I</td>\n",
       "      <td>Basketball</td>\n",
       "      <td>300</td>\n",
       "    </tr>\n",
       "    <tr>\n",
       "      <th>10</th>\n",
       "      <td>J</td>\n",
       "      <td>Football</td>\n",
       "      <td>130</td>\n",
       "    </tr>\n",
       "    <tr>\n",
       "      <th>11</th>\n",
       "      <td>K</td>\n",
       "      <td>Tennis</td>\n",
       "      <td>320</td>\n",
       "    </tr>\n",
       "    <tr>\n",
       "      <th>12</th>\n",
       "      <td>L</td>\n",
       "      <td>Running</td>\n",
       "      <td>40</td>\n",
       "    </tr>\n",
       "  </tbody>\n",
       "</table>\n",
       "</div>"
      ],
      "text/plain": [
       "   Name      Sports  Calories\n",
       "1     A  Basketball       100\n",
       "2     B    Football       200\n",
       "3     C      Tennis       300\n",
       "4     D     Running       400\n",
       "5     E  Basketball       200\n",
       "6     F    Football       230\n",
       "7     G      Tennis       330\n",
       "8     H     Running       440\n",
       "9     I  Basketball       300\n",
       "10    J    Football       130\n",
       "11    K      Tennis       320\n",
       "12    L     Running        40"
      ]
     },
     "execution_count": 34,
     "metadata": {},
     "output_type": "execute_result"
    }
   ],
   "source": [
    "new_frame"
   ]
  },
  {
   "cell_type": "code",
   "execution_count": 35,
   "id": "01b7553c",
   "metadata": {
    "execution": {
     "iopub.execute_input": "2025-01-30T22:55:45.838410Z",
     "iopub.status.busy": "2025-01-30T22:55:45.838038Z",
     "iopub.status.idle": "2025-01-30T22:55:45.853810Z",
     "shell.execute_reply": "2025-01-30T22:55:45.852808Z"
    },
    "papermill": {
     "duration": 0.028105,
     "end_time": "2025-01-30T22:55:45.855340",
     "exception": false,
     "start_time": "2025-01-30T22:55:45.827235",
     "status": "completed"
    },
    "tags": []
   },
   "outputs": [
    {
     "data": {
      "text/html": [
       "<div>\n",
       "<style scoped>\n",
       "    .dataframe tbody tr th:only-of-type {\n",
       "        vertical-align: middle;\n",
       "    }\n",
       "\n",
       "    .dataframe tbody tr th {\n",
       "        vertical-align: top;\n",
       "    }\n",
       "\n",
       "    .dataframe thead th {\n",
       "        text-align: right;\n",
       "    }\n",
       "</style>\n",
       "<table border=\"1\" class=\"dataframe\">\n",
       "  <thead>\n",
       "    <tr style=\"text-align: right;\">\n",
       "      <th></th>\n",
       "      <th>Name_x</th>\n",
       "      <th>Sports</th>\n",
       "      <th>Calories_x</th>\n",
       "      <th>Name_y</th>\n",
       "      <th>Calories_y</th>\n",
       "    </tr>\n",
       "  </thead>\n",
       "  <tbody>\n",
       "    <tr>\n",
       "      <th>0</th>\n",
       "      <td>A</td>\n",
       "      <td>Basketball</td>\n",
       "      <td>100</td>\n",
       "      <td>E</td>\n",
       "      <td>200</td>\n",
       "    </tr>\n",
       "    <tr>\n",
       "      <th>1</th>\n",
       "      <td>B</td>\n",
       "      <td>Football</td>\n",
       "      <td>200</td>\n",
       "      <td>F</td>\n",
       "      <td>230</td>\n",
       "    </tr>\n",
       "    <tr>\n",
       "      <th>2</th>\n",
       "      <td>C</td>\n",
       "      <td>Tennis</td>\n",
       "      <td>300</td>\n",
       "      <td>G</td>\n",
       "      <td>330</td>\n",
       "    </tr>\n",
       "    <tr>\n",
       "      <th>3</th>\n",
       "      <td>D</td>\n",
       "      <td>Running</td>\n",
       "      <td>400</td>\n",
       "      <td>H</td>\n",
       "      <td>440</td>\n",
       "    </tr>\n",
       "  </tbody>\n",
       "</table>\n",
       "</div>"
      ],
      "text/plain": [
       "  Name_x      Sports  Calories_x Name_y  Calories_y\n",
       "0      A  Basketball         100      E         200\n",
       "1      B    Football         200      F         230\n",
       "2      C      Tennis         300      G         330\n",
       "3      D     Running         400      H         440"
      ]
     },
     "execution_count": 35,
     "metadata": {},
     "output_type": "execute_result"
    }
   ],
   "source": [
    "pd.merge(frame1,frame2,on=\"Sports\")"
   ]
  },
  {
   "cell_type": "code",
   "execution_count": 36,
   "id": "f3625184",
   "metadata": {
    "execution": {
     "iopub.execute_input": "2025-01-30T22:55:45.877223Z",
     "iopub.status.busy": "2025-01-30T22:55:45.876893Z",
     "iopub.status.idle": "2025-01-30T22:55:45.881753Z",
     "shell.execute_reply": "2025-01-30T22:55:45.880790Z"
    },
    "papermill": {
     "duration": 0.017646,
     "end_time": "2025-01-30T22:55:45.883260",
     "exception": false,
     "start_time": "2025-01-30T22:55:45.865614",
     "status": "completed"
    },
    "tags": []
   },
   "outputs": [],
   "source": [
    "new_salary=pd.DataFrame({\"Name\":[\"James\",\"Kirk\",\"Lars\"],\"Salary\":[10,20,30],\"Age\":[60,65,70]})"
   ]
  },
  {
   "cell_type": "code",
   "execution_count": 37,
   "id": "1e81a0bc",
   "metadata": {
    "execution": {
     "iopub.execute_input": "2025-01-30T22:55:45.905598Z",
     "iopub.status.busy": "2025-01-30T22:55:45.905202Z",
     "iopub.status.idle": "2025-01-30T22:55:45.913866Z",
     "shell.execute_reply": "2025-01-30T22:55:45.912847Z"
    },
    "papermill": {
     "duration": 0.021647,
     "end_time": "2025-01-30T22:55:45.915484",
     "exception": false,
     "start_time": "2025-01-30T22:55:45.893837",
     "status": "completed"
    },
    "tags": []
   },
   "outputs": [
    {
     "data": {
      "text/html": [
       "<div>\n",
       "<style scoped>\n",
       "    .dataframe tbody tr th:only-of-type {\n",
       "        vertical-align: middle;\n",
       "    }\n",
       "\n",
       "    .dataframe tbody tr th {\n",
       "        vertical-align: top;\n",
       "    }\n",
       "\n",
       "    .dataframe thead th {\n",
       "        text-align: right;\n",
       "    }\n",
       "</style>\n",
       "<table border=\"1\" class=\"dataframe\">\n",
       "  <thead>\n",
       "    <tr style=\"text-align: right;\">\n",
       "      <th></th>\n",
       "      <th>Name</th>\n",
       "      <th>Salary</th>\n",
       "      <th>Age</th>\n",
       "    </tr>\n",
       "  </thead>\n",
       "  <tbody>\n",
       "    <tr>\n",
       "      <th>0</th>\n",
       "      <td>James</td>\n",
       "      <td>10</td>\n",
       "      <td>60</td>\n",
       "    </tr>\n",
       "    <tr>\n",
       "      <th>1</th>\n",
       "      <td>Kirk</td>\n",
       "      <td>20</td>\n",
       "      <td>65</td>\n",
       "    </tr>\n",
       "    <tr>\n",
       "      <th>2</th>\n",
       "      <td>Lars</td>\n",
       "      <td>30</td>\n",
       "      <td>70</td>\n",
       "    </tr>\n",
       "  </tbody>\n",
       "</table>\n",
       "</div>"
      ],
      "text/plain": [
       "    Name  Salary  Age\n",
       "0  James      10   60\n",
       "1   Kirk      20   65\n",
       "2   Lars      30   70"
      ]
     },
     "execution_count": 37,
     "metadata": {},
     "output_type": "execute_result"
    }
   ],
   "source": [
    "new_salary"
   ]
  },
  {
   "cell_type": "code",
   "execution_count": 38,
   "id": "caa8d500",
   "metadata": {
    "execution": {
     "iopub.execute_input": "2025-01-30T22:55:45.940509Z",
     "iopub.status.busy": "2025-01-30T22:55:45.940099Z",
     "iopub.status.idle": "2025-01-30T22:55:45.946043Z",
     "shell.execute_reply": "2025-01-30T22:55:45.945034Z"
    },
    "papermill": {
     "duration": 0.019211,
     "end_time": "2025-01-30T22:55:45.947728",
     "exception": false,
     "start_time": "2025-01-30T22:55:45.928517",
     "status": "completed"
    },
    "tags": []
   },
   "outputs": [
    {
     "data": {
      "text/plain": [
       "array(['James', 'Kirk', 'Lars'], dtype=object)"
      ]
     },
     "execution_count": 38,
     "metadata": {},
     "output_type": "execute_result"
    }
   ],
   "source": [
    "new_salary[\"Name\"].unique()"
   ]
  },
  {
   "cell_type": "code",
   "execution_count": 39,
   "id": "8a04b0d3",
   "metadata": {
    "execution": {
     "iopub.execute_input": "2025-01-30T22:55:45.970167Z",
     "iopub.status.busy": "2025-01-30T22:55:45.969803Z",
     "iopub.status.idle": "2025-01-30T22:55:45.975781Z",
     "shell.execute_reply": "2025-01-30T22:55:45.974743Z"
    },
    "papermill": {
     "duration": 0.018845,
     "end_time": "2025-01-30T22:55:45.977399",
     "exception": false,
     "start_time": "2025-01-30T22:55:45.958554",
     "status": "completed"
    },
    "tags": []
   },
   "outputs": [
    {
     "data": {
      "text/plain": [
       "3"
      ]
     },
     "execution_count": 39,
     "metadata": {},
     "output_type": "execute_result"
    }
   ],
   "source": [
    "new_salary[\"Name\"].nunique()"
   ]
  },
  {
   "cell_type": "code",
   "execution_count": 40,
   "id": "1976d4f1",
   "metadata": {
    "execution": {
     "iopub.execute_input": "2025-01-30T22:55:46.000696Z",
     "iopub.status.busy": "2025-01-30T22:55:46.000296Z",
     "iopub.status.idle": "2025-01-30T22:55:46.004412Z",
     "shell.execute_reply": "2025-01-30T22:55:46.003529Z"
    },
    "papermill": {
     "duration": 0.017735,
     "end_time": "2025-01-30T22:55:46.005944",
     "exception": false,
     "start_time": "2025-01-30T22:55:45.988209",
     "status": "completed"
    },
    "tags": []
   },
   "outputs": [],
   "source": [
    "def grossToNet(salary):\n",
    "    return salary*0.65\n"
   ]
  },
  {
   "cell_type": "code",
   "execution_count": 41,
   "id": "42016f99",
   "metadata": {
    "execution": {
     "iopub.execute_input": "2025-01-30T22:55:46.028748Z",
     "iopub.status.busy": "2025-01-30T22:55:46.028423Z",
     "iopub.status.idle": "2025-01-30T22:55:46.035159Z",
     "shell.execute_reply": "2025-01-30T22:55:46.034341Z"
    },
    "papermill": {
     "duration": 0.019635,
     "end_time": "2025-01-30T22:55:46.036585",
     "exception": false,
     "start_time": "2025-01-30T22:55:46.016950",
     "status": "completed"
    },
    "tags": []
   },
   "outputs": [
    {
     "data": {
      "text/plain": [
       "0     6.5\n",
       "1    13.0\n",
       "2    19.5\n",
       "Name: Salary, dtype: float64"
      ]
     },
     "execution_count": 41,
     "metadata": {},
     "output_type": "execute_result"
    }
   ],
   "source": [
    "new_salary[\"Salary\"].apply(grossToNet)"
   ]
  },
  {
   "cell_type": "code",
   "execution_count": null,
   "id": "f6921090",
   "metadata": {
    "papermill": {
     "duration": 0.010369,
     "end_time": "2025-01-30T22:55:46.057855",
     "exception": false,
     "start_time": "2025-01-30T22:55:46.047486",
     "status": "completed"
    },
    "tags": []
   },
   "outputs": [],
   "source": []
  }
 ],
 "metadata": {
  "kaggle": {
   "accelerator": "none",
   "dataSources": [],
   "isGpuEnabled": false,
   "isInternetEnabled": true,
   "language": "python",
   "sourceType": "notebook"
  },
  "kernelspec": {
   "display_name": "Python 3",
   "language": "python",
   "name": "python3"
  },
  "language_info": {
   "codemirror_mode": {
    "name": "ipython",
    "version": 3
   },
   "file_extension": ".py",
   "mimetype": "text/x-python",
   "name": "python",
   "nbconvert_exporter": "python",
   "pygments_lexer": "ipython3",
   "version": "3.10.12"
  },
  "papermill": {
   "default_parameters": {},
   "duration": 5.406981,
   "end_time": "2025-01-30T22:55:46.689417",
   "environment_variables": {},
   "exception": null,
   "input_path": "__notebook__.ipynb",
   "output_path": "__notebook__.ipynb",
   "parameters": {},
   "start_time": "2025-01-30T22:55:41.282436",
   "version": "2.6.0"
  }
 },
 "nbformat": 4,
 "nbformat_minor": 5
}
